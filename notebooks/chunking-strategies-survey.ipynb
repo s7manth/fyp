{
 "cells": [
  {
   "cell_type": "code",
   "execution_count": 3,
   "id": "2d7648fc-2222-4715-a0f2-bdf6428681f3",
   "metadata": {},
   "outputs": [
    {
     "data": {
      "text/plain": [
       "True"
      ]
     },
     "execution_count": 3,
     "metadata": {},
     "output_type": "execute_result"
    }
   ],
   "source": [
    "from rich import print\n",
    "from langchain.docstore.document import Document\n",
    "from langchain_community.chat_models import ChatOllama\n",
    "from langchain_community.vectorstores import Chroma\n",
    "from langchain_community import embeddings\n",
    "from langchain_core.runnables import RunnablePassthrough\n",
    "from langchain_core.output_parsers import StrOutputParser\n",
    "from langchain_core.prompts import ChatPromptTemplate\n",
    "from dotenv import load_dotenv\n",
    "\n",
    "load_dotenv(\"../.env\")"
   ]
  },
  {
   "cell_type": "code",
   "execution_count": 4,
   "id": "9883c93d-cb1c-435d-9199-a0c02f527d1e",
   "metadata": {},
   "outputs": [],
   "source": [
    "# this is for understanding how the chunking is happening \n",
    "# obtained from the first chapter of SLP \n",
    "text = \"\"\"\n",
    "## About Regular Expressions\n",
    "One of the unsung successes in standardization in computer science has been the regular expression (often shortened to **regex**), a language for specifying text search regular expression strings. This practical language is used in every computer language, word processor, and text processing tools like the Unix tools grep or Emacs. Formally, a regular expression is an algebraic notation for characterizing a set of strings. Regular expressions are particularly useful for searching in texts, when we have a **pattern** to search for and a **corpus** of texts to search through. A regular expression search function corpus will search through the corpus, returning all texts that match the pattern. The corpus can be a single document or a collection. For example, the Unix command-line tool grep takes a regular expression and returns every line of the input document that matches the expression.\n",
    "\n",
    "A search can be designed to return every match on a line, if there are more than one, or just the first match. In the following examples we generally underline the exact part of the pattern that matches the regular expression and show only the first match. We'll show regular expressions delimited by slashes but note that slashes are not part of the regular expressions.\n",
    "\n",
    "Regular expressions come in many variants. We'll be describing extended regular expressions; different regular expression parsers may only recognize subsets of these, or treat some expressions slightly differently. Using an online regular expression tester is a handy way to test out your expressions and explore these variations.\n",
    "\"\"\""
   ]
  },
  {
   "cell_type": "code",
   "execution_count": 6,
   "id": "886aa7aa-fdcb-4942-a8b1-8ec33e8e6161",
   "metadata": {},
   "outputs": [
    {
     "data": {
      "text/html": [
       "<pre style=\"white-space:pre;overflow-x:auto;line-height:normal;font-family:Menlo,'DejaVu Sans Mono',consolas,'Courier New',monospace\">#### Character Text Splitting ####\n",
       "</pre>\n"
      ],
      "text/plain": [
       "#### Character Text Splitting ####\n"
      ]
     },
     "metadata": {},
     "output_type": "display_data"
    },
    {
     "data": {
      "text/html": [
       "<pre style=\"white-space:pre;overflow-x:auto;line-height:normal;font-family:Menlo,'DejaVu Sans Mono',consolas,'Courier New',monospace\"><span style=\"font-weight: bold\">[</span>\n",
       "    <span style=\"color: #800080; text-decoration-color: #800080; font-weight: bold\">Document</span><span style=\"font-weight: bold\">(</span><span style=\"color: #808000; text-decoration-color: #808000\">page_content</span>=<span style=\"color: #008000; text-decoration-color: #008000\">'\\n## About Regular Expressions\\nOne o'</span>, <span style=\"color: #808000; text-decoration-color: #808000\">metadata</span>=<span style=\"font-weight: bold\">{</span><span style=\"color: #008000; text-decoration-color: #008000\">'source'</span>: <span style=\"color: #008000; text-decoration-color: #008000\">'slp'</span><span style=\"font-weight: bold\">})</span>,\n",
       "    <span style=\"color: #800080; text-decoration-color: #800080; font-weight: bold\">Document</span><span style=\"font-weight: bold\">(</span><span style=\"color: #808000; text-decoration-color: #808000\">page_content</span>=<span style=\"color: #008000; text-decoration-color: #008000\">'f the unsung successes in standardi'</span>, <span style=\"color: #808000; text-decoration-color: #808000\">metadata</span>=<span style=\"font-weight: bold\">{</span><span style=\"color: #008000; text-decoration-color: #008000\">'source'</span>: <span style=\"color: #008000; text-decoration-color: #008000\">'slp'</span><span style=\"font-weight: bold\">})</span>,\n",
       "    <span style=\"color: #800080; text-decoration-color: #800080; font-weight: bold\">Document</span><span style=\"font-weight: bold\">(</span><span style=\"color: #808000; text-decoration-color: #808000\">page_content</span>=<span style=\"color: #008000; text-decoration-color: #008000\">'zation in computer science has been'</span>, <span style=\"color: #808000; text-decoration-color: #808000\">metadata</span>=<span style=\"font-weight: bold\">{</span><span style=\"color: #008000; text-decoration-color: #008000\">'source'</span>: <span style=\"color: #008000; text-decoration-color: #008000\">'slp'</span><span style=\"font-weight: bold\">})</span>,\n",
       "    <span style=\"color: #800080; text-decoration-color: #800080; font-weight: bold\">Document</span><span style=\"font-weight: bold\">(</span><span style=\"color: #808000; text-decoration-color: #808000\">page_content</span>=<span style=\"color: #008000; text-decoration-color: #008000\">' the regular expression (often shor'</span>, <span style=\"color: #808000; text-decoration-color: #808000\">metadata</span>=<span style=\"font-weight: bold\">{</span><span style=\"color: #008000; text-decoration-color: #008000\">'source'</span>: <span style=\"color: #008000; text-decoration-color: #008000\">'slp'</span><span style=\"font-weight: bold\">})</span>,\n",
       "    <span style=\"color: #800080; text-decoration-color: #800080; font-weight: bold\">Document</span><span style=\"font-weight: bold\">(</span><span style=\"color: #808000; text-decoration-color: #808000\">page_content</span>=<span style=\"color: #008000; text-decoration-color: #008000\">'tened to **regex**), a language for'</span>, <span style=\"color: #808000; text-decoration-color: #808000\">metadata</span>=<span style=\"font-weight: bold\">{</span><span style=\"color: #008000; text-decoration-color: #008000\">'source'</span>: <span style=\"color: #008000; text-decoration-color: #008000\">'slp'</span><span style=\"font-weight: bold\">})</span>,\n",
       "    <span style=\"color: #800080; text-decoration-color: #800080; font-weight: bold\">Document</span><span style=\"font-weight: bold\">(</span><span style=\"color: #808000; text-decoration-color: #808000\">page_content</span>=<span style=\"color: #008000; text-decoration-color: #008000\">' specifying text search regular exp'</span>, <span style=\"color: #808000; text-decoration-color: #808000\">metadata</span>=<span style=\"font-weight: bold\">{</span><span style=\"color: #008000; text-decoration-color: #008000\">'source'</span>: <span style=\"color: #008000; text-decoration-color: #008000\">'slp'</span><span style=\"font-weight: bold\">})</span>,\n",
       "    <span style=\"color: #800080; text-decoration-color: #800080; font-weight: bold\">Document</span><span style=\"font-weight: bold\">(</span><span style=\"color: #808000; text-decoration-color: #808000\">page_content</span>=<span style=\"color: #008000; text-decoration-color: #008000\">'ression strings. This practical lan'</span>, <span style=\"color: #808000; text-decoration-color: #808000\">metadata</span>=<span style=\"font-weight: bold\">{</span><span style=\"color: #008000; text-decoration-color: #008000\">'source'</span>: <span style=\"color: #008000; text-decoration-color: #008000\">'slp'</span><span style=\"font-weight: bold\">})</span>,\n",
       "    <span style=\"color: #800080; text-decoration-color: #800080; font-weight: bold\">Document</span><span style=\"font-weight: bold\">(</span><span style=\"color: #808000; text-decoration-color: #808000\">page_content</span>=<span style=\"color: #008000; text-decoration-color: #008000\">'guage is used in every computer lan'</span>, <span style=\"color: #808000; text-decoration-color: #808000\">metadata</span>=<span style=\"font-weight: bold\">{</span><span style=\"color: #008000; text-decoration-color: #008000\">'source'</span>: <span style=\"color: #008000; text-decoration-color: #008000\">'slp'</span><span style=\"font-weight: bold\">})</span>,\n",
       "    <span style=\"color: #800080; text-decoration-color: #800080; font-weight: bold\">Document</span><span style=\"font-weight: bold\">(</span><span style=\"color: #808000; text-decoration-color: #808000\">page_content</span>=<span style=\"color: #008000; text-decoration-color: #008000\">'guage, word processor, and text pro'</span>, <span style=\"color: #808000; text-decoration-color: #808000\">metadata</span>=<span style=\"font-weight: bold\">{</span><span style=\"color: #008000; text-decoration-color: #008000\">'source'</span>: <span style=\"color: #008000; text-decoration-color: #008000\">'slp'</span><span style=\"font-weight: bold\">})</span>,\n",
       "    <span style=\"color: #800080; text-decoration-color: #800080; font-weight: bold\">Document</span><span style=\"font-weight: bold\">(</span><span style=\"color: #808000; text-decoration-color: #808000\">page_content</span>=<span style=\"color: #008000; text-decoration-color: #008000\">'cessing tools like the Unix tools g'</span>, <span style=\"color: #808000; text-decoration-color: #808000\">metadata</span>=<span style=\"font-weight: bold\">{</span><span style=\"color: #008000; text-decoration-color: #008000\">'source'</span>: <span style=\"color: #008000; text-decoration-color: #008000\">'slp'</span><span style=\"font-weight: bold\">})</span>,\n",
       "    <span style=\"color: #800080; text-decoration-color: #800080; font-weight: bold\">Document</span><span style=\"font-weight: bold\">(</span><span style=\"color: #808000; text-decoration-color: #808000\">page_content</span>=<span style=\"color: #008000; text-decoration-color: #008000\">'rep or Emacs. Formally, a regular e'</span>, <span style=\"color: #808000; text-decoration-color: #808000\">metadata</span>=<span style=\"font-weight: bold\">{</span><span style=\"color: #008000; text-decoration-color: #008000\">'source'</span>: <span style=\"color: #008000; text-decoration-color: #008000\">'slp'</span><span style=\"font-weight: bold\">})</span>,\n",
       "    <span style=\"color: #800080; text-decoration-color: #800080; font-weight: bold\">Document</span><span style=\"font-weight: bold\">(</span><span style=\"color: #808000; text-decoration-color: #808000\">page_content</span>=<span style=\"color: #008000; text-decoration-color: #008000\">'xpression is an algebraic notation '</span>, <span style=\"color: #808000; text-decoration-color: #808000\">metadata</span>=<span style=\"font-weight: bold\">{</span><span style=\"color: #008000; text-decoration-color: #008000\">'source'</span>: <span style=\"color: #008000; text-decoration-color: #008000\">'slp'</span><span style=\"font-weight: bold\">})</span>,\n",
       "    <span style=\"color: #800080; text-decoration-color: #800080; font-weight: bold\">Document</span><span style=\"font-weight: bold\">(</span><span style=\"color: #808000; text-decoration-color: #808000\">page_content</span>=<span style=\"color: #008000; text-decoration-color: #008000\">'for characterizing a set of strings'</span>, <span style=\"color: #808000; text-decoration-color: #808000\">metadata</span>=<span style=\"font-weight: bold\">{</span><span style=\"color: #008000; text-decoration-color: #008000\">'source'</span>: <span style=\"color: #008000; text-decoration-color: #008000\">'slp'</span><span style=\"font-weight: bold\">})</span>,\n",
       "    <span style=\"color: #800080; text-decoration-color: #800080; font-weight: bold\">Document</span><span style=\"font-weight: bold\">(</span><span style=\"color: #808000; text-decoration-color: #808000\">page_content</span>=<span style=\"color: #008000; text-decoration-color: #008000\">'. Regular expressions are particula'</span>, <span style=\"color: #808000; text-decoration-color: #808000\">metadata</span>=<span style=\"font-weight: bold\">{</span><span style=\"color: #008000; text-decoration-color: #008000\">'source'</span>: <span style=\"color: #008000; text-decoration-color: #008000\">'slp'</span><span style=\"font-weight: bold\">})</span>,\n",
       "    <span style=\"color: #800080; text-decoration-color: #800080; font-weight: bold\">Document</span><span style=\"font-weight: bold\">(</span><span style=\"color: #808000; text-decoration-color: #808000\">page_content</span>=<span style=\"color: #008000; text-decoration-color: #008000\">'rly useful for searching in texts, '</span>, <span style=\"color: #808000; text-decoration-color: #808000\">metadata</span>=<span style=\"font-weight: bold\">{</span><span style=\"color: #008000; text-decoration-color: #008000\">'source'</span>: <span style=\"color: #008000; text-decoration-color: #008000\">'slp'</span><span style=\"font-weight: bold\">})</span>,\n",
       "    <span style=\"color: #800080; text-decoration-color: #800080; font-weight: bold\">Document</span><span style=\"font-weight: bold\">(</span><span style=\"color: #808000; text-decoration-color: #808000\">page_content</span>=<span style=\"color: #008000; text-decoration-color: #008000\">'when we have a **pattern** to searc'</span>, <span style=\"color: #808000; text-decoration-color: #808000\">metadata</span>=<span style=\"font-weight: bold\">{</span><span style=\"color: #008000; text-decoration-color: #008000\">'source'</span>: <span style=\"color: #008000; text-decoration-color: #008000\">'slp'</span><span style=\"font-weight: bold\">})</span>,\n",
       "    <span style=\"color: #800080; text-decoration-color: #800080; font-weight: bold\">Document</span><span style=\"font-weight: bold\">(</span><span style=\"color: #808000; text-decoration-color: #808000\">page_content</span>=<span style=\"color: #008000; text-decoration-color: #008000\">'h for and a **corpus** of texts to '</span>, <span style=\"color: #808000; text-decoration-color: #808000\">metadata</span>=<span style=\"font-weight: bold\">{</span><span style=\"color: #008000; text-decoration-color: #008000\">'source'</span>: <span style=\"color: #008000; text-decoration-color: #008000\">'slp'</span><span style=\"font-weight: bold\">})</span>,\n",
       "    <span style=\"color: #800080; text-decoration-color: #800080; font-weight: bold\">Document</span><span style=\"font-weight: bold\">(</span><span style=\"color: #808000; text-decoration-color: #808000\">page_content</span>=<span style=\"color: #008000; text-decoration-color: #008000\">'search through. A regular expressio'</span>, <span style=\"color: #808000; text-decoration-color: #808000\">metadata</span>=<span style=\"font-weight: bold\">{</span><span style=\"color: #008000; text-decoration-color: #008000\">'source'</span>: <span style=\"color: #008000; text-decoration-color: #008000\">'slp'</span><span style=\"font-weight: bold\">})</span>,\n",
       "    <span style=\"color: #800080; text-decoration-color: #800080; font-weight: bold\">Document</span><span style=\"font-weight: bold\">(</span><span style=\"color: #808000; text-decoration-color: #808000\">page_content</span>=<span style=\"color: #008000; text-decoration-color: #008000\">'n search function corpus will searc'</span>, <span style=\"color: #808000; text-decoration-color: #808000\">metadata</span>=<span style=\"font-weight: bold\">{</span><span style=\"color: #008000; text-decoration-color: #008000\">'source'</span>: <span style=\"color: #008000; text-decoration-color: #008000\">'slp'</span><span style=\"font-weight: bold\">})</span>,\n",
       "    <span style=\"color: #800080; text-decoration-color: #800080; font-weight: bold\">Document</span><span style=\"font-weight: bold\">(</span><span style=\"color: #808000; text-decoration-color: #808000\">page_content</span>=<span style=\"color: #008000; text-decoration-color: #008000\">'h through the corpus, returning all'</span>, <span style=\"color: #808000; text-decoration-color: #808000\">metadata</span>=<span style=\"font-weight: bold\">{</span><span style=\"color: #008000; text-decoration-color: #008000\">'source'</span>: <span style=\"color: #008000; text-decoration-color: #008000\">'slp'</span><span style=\"font-weight: bold\">})</span>,\n",
       "    <span style=\"color: #800080; text-decoration-color: #800080; font-weight: bold\">Document</span><span style=\"font-weight: bold\">(</span><span style=\"color: #808000; text-decoration-color: #808000\">page_content</span>=<span style=\"color: #008000; text-decoration-color: #008000\">' texts that match the pattern. The '</span>, <span style=\"color: #808000; text-decoration-color: #808000\">metadata</span>=<span style=\"font-weight: bold\">{</span><span style=\"color: #008000; text-decoration-color: #008000\">'source'</span>: <span style=\"color: #008000; text-decoration-color: #008000\">'slp'</span><span style=\"font-weight: bold\">})</span>,\n",
       "    <span style=\"color: #800080; text-decoration-color: #800080; font-weight: bold\">Document</span><span style=\"font-weight: bold\">(</span><span style=\"color: #808000; text-decoration-color: #808000\">page_content</span>=<span style=\"color: #008000; text-decoration-color: #008000\">'corpus can be a single document or '</span>, <span style=\"color: #808000; text-decoration-color: #808000\">metadata</span>=<span style=\"font-weight: bold\">{</span><span style=\"color: #008000; text-decoration-color: #008000\">'source'</span>: <span style=\"color: #008000; text-decoration-color: #008000\">'slp'</span><span style=\"font-weight: bold\">})</span>,\n",
       "    <span style=\"color: #800080; text-decoration-color: #800080; font-weight: bold\">Document</span><span style=\"font-weight: bold\">(</span><span style=\"color: #808000; text-decoration-color: #808000\">page_content</span>=<span style=\"color: #008000; text-decoration-color: #008000\">'a collection. For example, the Unix'</span>, <span style=\"color: #808000; text-decoration-color: #808000\">metadata</span>=<span style=\"font-weight: bold\">{</span><span style=\"color: #008000; text-decoration-color: #008000\">'source'</span>: <span style=\"color: #008000; text-decoration-color: #008000\">'slp'</span><span style=\"font-weight: bold\">})</span>,\n",
       "    <span style=\"color: #800080; text-decoration-color: #800080; font-weight: bold\">Document</span><span style=\"font-weight: bold\">(</span><span style=\"color: #808000; text-decoration-color: #808000\">page_content</span>=<span style=\"color: #008000; text-decoration-color: #008000\">' command-line tool grep takes a reg'</span>, <span style=\"color: #808000; text-decoration-color: #808000\">metadata</span>=<span style=\"font-weight: bold\">{</span><span style=\"color: #008000; text-decoration-color: #008000\">'source'</span>: <span style=\"color: #008000; text-decoration-color: #008000\">'slp'</span><span style=\"font-weight: bold\">})</span>,\n",
       "    <span style=\"color: #800080; text-decoration-color: #800080; font-weight: bold\">Document</span><span style=\"font-weight: bold\">(</span><span style=\"color: #808000; text-decoration-color: #808000\">page_content</span>=<span style=\"color: #008000; text-decoration-color: #008000\">'ular expression and returns every l'</span>, <span style=\"color: #808000; text-decoration-color: #808000\">metadata</span>=<span style=\"font-weight: bold\">{</span><span style=\"color: #008000; text-decoration-color: #008000\">'source'</span>: <span style=\"color: #008000; text-decoration-color: #008000\">'slp'</span><span style=\"font-weight: bold\">})</span>,\n",
       "    <span style=\"color: #800080; text-decoration-color: #800080; font-weight: bold\">Document</span><span style=\"font-weight: bold\">(</span><span style=\"color: #808000; text-decoration-color: #808000\">page_content</span>=<span style=\"color: #008000; text-decoration-color: #008000\">'ine of the input document that matc'</span>, <span style=\"color: #808000; text-decoration-color: #808000\">metadata</span>=<span style=\"font-weight: bold\">{</span><span style=\"color: #008000; text-decoration-color: #008000\">'source'</span>: <span style=\"color: #008000; text-decoration-color: #008000\">'slp'</span><span style=\"font-weight: bold\">})</span>,\n",
       "    <span style=\"color: #800080; text-decoration-color: #800080; font-weight: bold\">Document</span><span style=\"font-weight: bold\">(</span><span style=\"color: #808000; text-decoration-color: #808000\">page_content</span>=<span style=\"color: #008000; text-decoration-color: #008000\">'hes the expression.\\n\\nA search can b'</span>, <span style=\"color: #808000; text-decoration-color: #808000\">metadata</span>=<span style=\"font-weight: bold\">{</span><span style=\"color: #008000; text-decoration-color: #008000\">'source'</span>: <span style=\"color: #008000; text-decoration-color: #008000\">'slp'</span><span style=\"font-weight: bold\">})</span>,\n",
       "    <span style=\"color: #800080; text-decoration-color: #800080; font-weight: bold\">Document</span><span style=\"font-weight: bold\">(</span><span style=\"color: #808000; text-decoration-color: #808000\">page_content</span>=<span style=\"color: #008000; text-decoration-color: #008000\">'e designed to return every match on'</span>, <span style=\"color: #808000; text-decoration-color: #808000\">metadata</span>=<span style=\"font-weight: bold\">{</span><span style=\"color: #008000; text-decoration-color: #008000\">'source'</span>: <span style=\"color: #008000; text-decoration-color: #008000\">'slp'</span><span style=\"font-weight: bold\">})</span>,\n",
       "    <span style=\"color: #800080; text-decoration-color: #800080; font-weight: bold\">Document</span><span style=\"font-weight: bold\">(</span><span style=\"color: #808000; text-decoration-color: #808000\">page_content</span>=<span style=\"color: #008000; text-decoration-color: #008000\">' a line, if there are more than one'</span>, <span style=\"color: #808000; text-decoration-color: #808000\">metadata</span>=<span style=\"font-weight: bold\">{</span><span style=\"color: #008000; text-decoration-color: #008000\">'source'</span>: <span style=\"color: #008000; text-decoration-color: #008000\">'slp'</span><span style=\"font-weight: bold\">})</span>,\n",
       "    <span style=\"color: #800080; text-decoration-color: #800080; font-weight: bold\">Document</span><span style=\"font-weight: bold\">(</span><span style=\"color: #808000; text-decoration-color: #808000\">page_content</span>=<span style=\"color: #008000; text-decoration-color: #008000\">', or just the first match. In the f'</span>, <span style=\"color: #808000; text-decoration-color: #808000\">metadata</span>=<span style=\"font-weight: bold\">{</span><span style=\"color: #008000; text-decoration-color: #008000\">'source'</span>: <span style=\"color: #008000; text-decoration-color: #008000\">'slp'</span><span style=\"font-weight: bold\">})</span>,\n",
       "    <span style=\"color: #800080; text-decoration-color: #800080; font-weight: bold\">Document</span><span style=\"font-weight: bold\">(</span><span style=\"color: #808000; text-decoration-color: #808000\">page_content</span>=<span style=\"color: #008000; text-decoration-color: #008000\">'ollowing examples we generally unde'</span>, <span style=\"color: #808000; text-decoration-color: #808000\">metadata</span>=<span style=\"font-weight: bold\">{</span><span style=\"color: #008000; text-decoration-color: #008000\">'source'</span>: <span style=\"color: #008000; text-decoration-color: #008000\">'slp'</span><span style=\"font-weight: bold\">})</span>,\n",
       "    <span style=\"color: #800080; text-decoration-color: #800080; font-weight: bold\">Document</span><span style=\"font-weight: bold\">(</span><span style=\"color: #808000; text-decoration-color: #808000\">page_content</span>=<span style=\"color: #008000; text-decoration-color: #008000\">'rline the exact part of the pattern'</span>, <span style=\"color: #808000; text-decoration-color: #808000\">metadata</span>=<span style=\"font-weight: bold\">{</span><span style=\"color: #008000; text-decoration-color: #008000\">'source'</span>: <span style=\"color: #008000; text-decoration-color: #008000\">'slp'</span><span style=\"font-weight: bold\">})</span>,\n",
       "    <span style=\"color: #800080; text-decoration-color: #800080; font-weight: bold\">Document</span><span style=\"font-weight: bold\">(</span><span style=\"color: #808000; text-decoration-color: #808000\">page_content</span>=<span style=\"color: #008000; text-decoration-color: #008000\">' that matches the regular expressio'</span>, <span style=\"color: #808000; text-decoration-color: #808000\">metadata</span>=<span style=\"font-weight: bold\">{</span><span style=\"color: #008000; text-decoration-color: #008000\">'source'</span>: <span style=\"color: #008000; text-decoration-color: #008000\">'slp'</span><span style=\"font-weight: bold\">})</span>,\n",
       "    <span style=\"color: #800080; text-decoration-color: #800080; font-weight: bold\">Document</span><span style=\"font-weight: bold\">(</span><span style=\"color: #808000; text-decoration-color: #808000\">page_content</span>=<span style=\"color: #008000; text-decoration-color: #008000\">'n and show only the first match. We'</span>, <span style=\"color: #808000; text-decoration-color: #808000\">metadata</span>=<span style=\"font-weight: bold\">{</span><span style=\"color: #008000; text-decoration-color: #008000\">'source'</span>: <span style=\"color: #008000; text-decoration-color: #008000\">'slp'</span><span style=\"font-weight: bold\">})</span>,\n",
       "    <span style=\"color: #800080; text-decoration-color: #800080; font-weight: bold\">Document</span><span style=\"font-weight: bold\">(</span><span style=\"color: #808000; text-decoration-color: #808000\">page_content</span>=<span style=\"color: #008000; text-decoration-color: #008000\">\"'ll show regular expressions delimi\"</span>, <span style=\"color: #808000; text-decoration-color: #808000\">metadata</span>=<span style=\"font-weight: bold\">{</span><span style=\"color: #008000; text-decoration-color: #008000\">'source'</span>: <span style=\"color: #008000; text-decoration-color: #008000\">'slp'</span><span style=\"font-weight: bold\">})</span>,\n",
       "    <span style=\"color: #800080; text-decoration-color: #800080; font-weight: bold\">Document</span><span style=\"font-weight: bold\">(</span><span style=\"color: #808000; text-decoration-color: #808000\">page_content</span>=<span style=\"color: #008000; text-decoration-color: #008000\">'ted by slashes but note that slashe'</span>, <span style=\"color: #808000; text-decoration-color: #808000\">metadata</span>=<span style=\"font-weight: bold\">{</span><span style=\"color: #008000; text-decoration-color: #008000\">'source'</span>: <span style=\"color: #008000; text-decoration-color: #008000\">'slp'</span><span style=\"font-weight: bold\">})</span>,\n",
       "    <span style=\"color: #800080; text-decoration-color: #800080; font-weight: bold\">Document</span><span style=\"font-weight: bold\">(</span><span style=\"color: #808000; text-decoration-color: #808000\">page_content</span>=<span style=\"color: #008000; text-decoration-color: #008000\">'s are not part of the regular expre'</span>, <span style=\"color: #808000; text-decoration-color: #808000\">metadata</span>=<span style=\"font-weight: bold\">{</span><span style=\"color: #008000; text-decoration-color: #008000\">'source'</span>: <span style=\"color: #008000; text-decoration-color: #008000\">'slp'</span><span style=\"font-weight: bold\">})</span>,\n",
       "    <span style=\"color: #800080; text-decoration-color: #800080; font-weight: bold\">Document</span><span style=\"font-weight: bold\">(</span><span style=\"color: #808000; text-decoration-color: #808000\">page_content</span>=<span style=\"color: #008000; text-decoration-color: #008000\">'ssions.\\n\\nRegular expressions come i'</span>, <span style=\"color: #808000; text-decoration-color: #808000\">metadata</span>=<span style=\"font-weight: bold\">{</span><span style=\"color: #008000; text-decoration-color: #008000\">'source'</span>: <span style=\"color: #008000; text-decoration-color: #008000\">'slp'</span><span style=\"font-weight: bold\">})</span>,\n",
       "    <span style=\"color: #800080; text-decoration-color: #800080; font-weight: bold\">Document</span><span style=\"font-weight: bold\">(</span><span style=\"color: #808000; text-decoration-color: #808000\">page_content</span>=<span style=\"color: #008000; text-decoration-color: #008000\">\"n many variants. We'll be describin\"</span>, <span style=\"color: #808000; text-decoration-color: #808000\">metadata</span>=<span style=\"font-weight: bold\">{</span><span style=\"color: #008000; text-decoration-color: #008000\">'source'</span>: <span style=\"color: #008000; text-decoration-color: #008000\">'slp'</span><span style=\"font-weight: bold\">})</span>,\n",
       "    <span style=\"color: #800080; text-decoration-color: #800080; font-weight: bold\">Document</span><span style=\"font-weight: bold\">(</span><span style=\"color: #808000; text-decoration-color: #808000\">page_content</span>=<span style=\"color: #008000; text-decoration-color: #008000\">'g extended regular expressions; dif'</span>, <span style=\"color: #808000; text-decoration-color: #808000\">metadata</span>=<span style=\"font-weight: bold\">{</span><span style=\"color: #008000; text-decoration-color: #008000\">'source'</span>: <span style=\"color: #008000; text-decoration-color: #008000\">'slp'</span><span style=\"font-weight: bold\">})</span>,\n",
       "    <span style=\"color: #800080; text-decoration-color: #800080; font-weight: bold\">Document</span><span style=\"font-weight: bold\">(</span><span style=\"color: #808000; text-decoration-color: #808000\">page_content</span>=<span style=\"color: #008000; text-decoration-color: #008000\">'ferent regular expression parsers m'</span>, <span style=\"color: #808000; text-decoration-color: #808000\">metadata</span>=<span style=\"font-weight: bold\">{</span><span style=\"color: #008000; text-decoration-color: #008000\">'source'</span>: <span style=\"color: #008000; text-decoration-color: #008000\">'slp'</span><span style=\"font-weight: bold\">})</span>,\n",
       "    <span style=\"color: #800080; text-decoration-color: #800080; font-weight: bold\">Document</span><span style=\"font-weight: bold\">(</span><span style=\"color: #808000; text-decoration-color: #808000\">page_content</span>=<span style=\"color: #008000; text-decoration-color: #008000\">'ay only recognize subsets of these,'</span>, <span style=\"color: #808000; text-decoration-color: #808000\">metadata</span>=<span style=\"font-weight: bold\">{</span><span style=\"color: #008000; text-decoration-color: #008000\">'source'</span>: <span style=\"color: #008000; text-decoration-color: #008000\">'slp'</span><span style=\"font-weight: bold\">})</span>,\n",
       "    <span style=\"color: #800080; text-decoration-color: #800080; font-weight: bold\">Document</span><span style=\"font-weight: bold\">(</span><span style=\"color: #808000; text-decoration-color: #808000\">page_content</span>=<span style=\"color: #008000; text-decoration-color: #008000\">' or treat some expressions slightly'</span>, <span style=\"color: #808000; text-decoration-color: #808000\">metadata</span>=<span style=\"font-weight: bold\">{</span><span style=\"color: #008000; text-decoration-color: #008000\">'source'</span>: <span style=\"color: #008000; text-decoration-color: #008000\">'slp'</span><span style=\"font-weight: bold\">})</span>,\n",
       "    <span style=\"color: #800080; text-decoration-color: #800080; font-weight: bold\">Document</span><span style=\"font-weight: bold\">(</span><span style=\"color: #808000; text-decoration-color: #808000\">page_content</span>=<span style=\"color: #008000; text-decoration-color: #008000\">' differently. Using an online regul'</span>, <span style=\"color: #808000; text-decoration-color: #808000\">metadata</span>=<span style=\"font-weight: bold\">{</span><span style=\"color: #008000; text-decoration-color: #008000\">'source'</span>: <span style=\"color: #008000; text-decoration-color: #008000\">'slp'</span><span style=\"font-weight: bold\">})</span>,\n",
       "    <span style=\"color: #800080; text-decoration-color: #800080; font-weight: bold\">Document</span><span style=\"font-weight: bold\">(</span><span style=\"color: #808000; text-decoration-color: #808000\">page_content</span>=<span style=\"color: #008000; text-decoration-color: #008000\">'ar expression tester is a handy way'</span>, <span style=\"color: #808000; text-decoration-color: #808000\">metadata</span>=<span style=\"font-weight: bold\">{</span><span style=\"color: #008000; text-decoration-color: #008000\">'source'</span>: <span style=\"color: #008000; text-decoration-color: #008000\">'slp'</span><span style=\"font-weight: bold\">})</span>,\n",
       "    <span style=\"color: #800080; text-decoration-color: #800080; font-weight: bold\">Document</span><span style=\"font-weight: bold\">(</span><span style=\"color: #808000; text-decoration-color: #808000\">page_content</span>=<span style=\"color: #008000; text-decoration-color: #008000\">' to test out your expressions and e'</span>, <span style=\"color: #808000; text-decoration-color: #808000\">metadata</span>=<span style=\"font-weight: bold\">{</span><span style=\"color: #008000; text-decoration-color: #008000\">'source'</span>: <span style=\"color: #008000; text-decoration-color: #008000\">'slp'</span><span style=\"font-weight: bold\">})</span>,\n",
       "    <span style=\"color: #800080; text-decoration-color: #800080; font-weight: bold\">Document</span><span style=\"font-weight: bold\">(</span><span style=\"color: #808000; text-decoration-color: #808000\">page_content</span>=<span style=\"color: #008000; text-decoration-color: #008000\">'xplore these variations.\\n'</span>, <span style=\"color: #808000; text-decoration-color: #808000\">metadata</span>=<span style=\"font-weight: bold\">{</span><span style=\"color: #008000; text-decoration-color: #008000\">'source'</span>: <span style=\"color: #008000; text-decoration-color: #008000\">'slp'</span><span style=\"font-weight: bold\">})</span>\n",
       "<span style=\"font-weight: bold\">]</span>\n",
       "</pre>\n"
      ],
      "text/plain": [
       "\u001b[1m[\u001b[0m\n",
       "    \u001b[1;35mDocument\u001b[0m\u001b[1m(\u001b[0m\u001b[33mpage_content\u001b[0m=\u001b[32m'\\n## About Regular Expressions\\nOne o'\u001b[0m, \u001b[33mmetadata\u001b[0m=\u001b[1m{\u001b[0m\u001b[32m'source'\u001b[0m: \u001b[32m'slp'\u001b[0m\u001b[1m}\u001b[0m\u001b[1m)\u001b[0m,\n",
       "    \u001b[1;35mDocument\u001b[0m\u001b[1m(\u001b[0m\u001b[33mpage_content\u001b[0m=\u001b[32m'f the unsung successes in standardi'\u001b[0m, \u001b[33mmetadata\u001b[0m=\u001b[1m{\u001b[0m\u001b[32m'source'\u001b[0m: \u001b[32m'slp'\u001b[0m\u001b[1m}\u001b[0m\u001b[1m)\u001b[0m,\n",
       "    \u001b[1;35mDocument\u001b[0m\u001b[1m(\u001b[0m\u001b[33mpage_content\u001b[0m=\u001b[32m'zation in computer science has been'\u001b[0m, \u001b[33mmetadata\u001b[0m=\u001b[1m{\u001b[0m\u001b[32m'source'\u001b[0m: \u001b[32m'slp'\u001b[0m\u001b[1m}\u001b[0m\u001b[1m)\u001b[0m,\n",
       "    \u001b[1;35mDocument\u001b[0m\u001b[1m(\u001b[0m\u001b[33mpage_content\u001b[0m=\u001b[32m' the regular expression \u001b[0m\u001b[32m(\u001b[0m\u001b[32moften shor'\u001b[0m, \u001b[33mmetadata\u001b[0m=\u001b[1m{\u001b[0m\u001b[32m'source'\u001b[0m: \u001b[32m'slp'\u001b[0m\u001b[1m}\u001b[0m\u001b[1m)\u001b[0m,\n",
       "    \u001b[1;35mDocument\u001b[0m\u001b[1m(\u001b[0m\u001b[33mpage_content\u001b[0m=\u001b[32m'tened to **regex**\u001b[0m\u001b[32m)\u001b[0m\u001b[32m, a language for'\u001b[0m, \u001b[33mmetadata\u001b[0m=\u001b[1m{\u001b[0m\u001b[32m'source'\u001b[0m: \u001b[32m'slp'\u001b[0m\u001b[1m}\u001b[0m\u001b[1m)\u001b[0m,\n",
       "    \u001b[1;35mDocument\u001b[0m\u001b[1m(\u001b[0m\u001b[33mpage_content\u001b[0m=\u001b[32m' specifying text search regular exp'\u001b[0m, \u001b[33mmetadata\u001b[0m=\u001b[1m{\u001b[0m\u001b[32m'source'\u001b[0m: \u001b[32m'slp'\u001b[0m\u001b[1m}\u001b[0m\u001b[1m)\u001b[0m,\n",
       "    \u001b[1;35mDocument\u001b[0m\u001b[1m(\u001b[0m\u001b[33mpage_content\u001b[0m=\u001b[32m'ression strings. This practical lan'\u001b[0m, \u001b[33mmetadata\u001b[0m=\u001b[1m{\u001b[0m\u001b[32m'source'\u001b[0m: \u001b[32m'slp'\u001b[0m\u001b[1m}\u001b[0m\u001b[1m)\u001b[0m,\n",
       "    \u001b[1;35mDocument\u001b[0m\u001b[1m(\u001b[0m\u001b[33mpage_content\u001b[0m=\u001b[32m'guage is used in every computer lan'\u001b[0m, \u001b[33mmetadata\u001b[0m=\u001b[1m{\u001b[0m\u001b[32m'source'\u001b[0m: \u001b[32m'slp'\u001b[0m\u001b[1m}\u001b[0m\u001b[1m)\u001b[0m,\n",
       "    \u001b[1;35mDocument\u001b[0m\u001b[1m(\u001b[0m\u001b[33mpage_content\u001b[0m=\u001b[32m'guage, word processor, and text pro'\u001b[0m, \u001b[33mmetadata\u001b[0m=\u001b[1m{\u001b[0m\u001b[32m'source'\u001b[0m: \u001b[32m'slp'\u001b[0m\u001b[1m}\u001b[0m\u001b[1m)\u001b[0m,\n",
       "    \u001b[1;35mDocument\u001b[0m\u001b[1m(\u001b[0m\u001b[33mpage_content\u001b[0m=\u001b[32m'cessing tools like the Unix tools g'\u001b[0m, \u001b[33mmetadata\u001b[0m=\u001b[1m{\u001b[0m\u001b[32m'source'\u001b[0m: \u001b[32m'slp'\u001b[0m\u001b[1m}\u001b[0m\u001b[1m)\u001b[0m,\n",
       "    \u001b[1;35mDocument\u001b[0m\u001b[1m(\u001b[0m\u001b[33mpage_content\u001b[0m=\u001b[32m'rep or Emacs. Formally, a regular e'\u001b[0m, \u001b[33mmetadata\u001b[0m=\u001b[1m{\u001b[0m\u001b[32m'source'\u001b[0m: \u001b[32m'slp'\u001b[0m\u001b[1m}\u001b[0m\u001b[1m)\u001b[0m,\n",
       "    \u001b[1;35mDocument\u001b[0m\u001b[1m(\u001b[0m\u001b[33mpage_content\u001b[0m=\u001b[32m'xpression is an algebraic notation '\u001b[0m, \u001b[33mmetadata\u001b[0m=\u001b[1m{\u001b[0m\u001b[32m'source'\u001b[0m: \u001b[32m'slp'\u001b[0m\u001b[1m}\u001b[0m\u001b[1m)\u001b[0m,\n",
       "    \u001b[1;35mDocument\u001b[0m\u001b[1m(\u001b[0m\u001b[33mpage_content\u001b[0m=\u001b[32m'for characterizing a set of strings'\u001b[0m, \u001b[33mmetadata\u001b[0m=\u001b[1m{\u001b[0m\u001b[32m'source'\u001b[0m: \u001b[32m'slp'\u001b[0m\u001b[1m}\u001b[0m\u001b[1m)\u001b[0m,\n",
       "    \u001b[1;35mDocument\u001b[0m\u001b[1m(\u001b[0m\u001b[33mpage_content\u001b[0m=\u001b[32m'. Regular expressions are particula'\u001b[0m, \u001b[33mmetadata\u001b[0m=\u001b[1m{\u001b[0m\u001b[32m'source'\u001b[0m: \u001b[32m'slp'\u001b[0m\u001b[1m}\u001b[0m\u001b[1m)\u001b[0m,\n",
       "    \u001b[1;35mDocument\u001b[0m\u001b[1m(\u001b[0m\u001b[33mpage_content\u001b[0m=\u001b[32m'rly useful for searching in texts, '\u001b[0m, \u001b[33mmetadata\u001b[0m=\u001b[1m{\u001b[0m\u001b[32m'source'\u001b[0m: \u001b[32m'slp'\u001b[0m\u001b[1m}\u001b[0m\u001b[1m)\u001b[0m,\n",
       "    \u001b[1;35mDocument\u001b[0m\u001b[1m(\u001b[0m\u001b[33mpage_content\u001b[0m=\u001b[32m'when we have a **pattern** to searc'\u001b[0m, \u001b[33mmetadata\u001b[0m=\u001b[1m{\u001b[0m\u001b[32m'source'\u001b[0m: \u001b[32m'slp'\u001b[0m\u001b[1m}\u001b[0m\u001b[1m)\u001b[0m,\n",
       "    \u001b[1;35mDocument\u001b[0m\u001b[1m(\u001b[0m\u001b[33mpage_content\u001b[0m=\u001b[32m'h for and a **corpus** of texts to '\u001b[0m, \u001b[33mmetadata\u001b[0m=\u001b[1m{\u001b[0m\u001b[32m'source'\u001b[0m: \u001b[32m'slp'\u001b[0m\u001b[1m}\u001b[0m\u001b[1m)\u001b[0m,\n",
       "    \u001b[1;35mDocument\u001b[0m\u001b[1m(\u001b[0m\u001b[33mpage_content\u001b[0m=\u001b[32m'search through. A regular expressio'\u001b[0m, \u001b[33mmetadata\u001b[0m=\u001b[1m{\u001b[0m\u001b[32m'source'\u001b[0m: \u001b[32m'slp'\u001b[0m\u001b[1m}\u001b[0m\u001b[1m)\u001b[0m,\n",
       "    \u001b[1;35mDocument\u001b[0m\u001b[1m(\u001b[0m\u001b[33mpage_content\u001b[0m=\u001b[32m'n search function corpus will searc'\u001b[0m, \u001b[33mmetadata\u001b[0m=\u001b[1m{\u001b[0m\u001b[32m'source'\u001b[0m: \u001b[32m'slp'\u001b[0m\u001b[1m}\u001b[0m\u001b[1m)\u001b[0m,\n",
       "    \u001b[1;35mDocument\u001b[0m\u001b[1m(\u001b[0m\u001b[33mpage_content\u001b[0m=\u001b[32m'h through the corpus, returning all'\u001b[0m, \u001b[33mmetadata\u001b[0m=\u001b[1m{\u001b[0m\u001b[32m'source'\u001b[0m: \u001b[32m'slp'\u001b[0m\u001b[1m}\u001b[0m\u001b[1m)\u001b[0m,\n",
       "    \u001b[1;35mDocument\u001b[0m\u001b[1m(\u001b[0m\u001b[33mpage_content\u001b[0m=\u001b[32m' texts that match the pattern. The '\u001b[0m, \u001b[33mmetadata\u001b[0m=\u001b[1m{\u001b[0m\u001b[32m'source'\u001b[0m: \u001b[32m'slp'\u001b[0m\u001b[1m}\u001b[0m\u001b[1m)\u001b[0m,\n",
       "    \u001b[1;35mDocument\u001b[0m\u001b[1m(\u001b[0m\u001b[33mpage_content\u001b[0m=\u001b[32m'corpus can be a single document or '\u001b[0m, \u001b[33mmetadata\u001b[0m=\u001b[1m{\u001b[0m\u001b[32m'source'\u001b[0m: \u001b[32m'slp'\u001b[0m\u001b[1m}\u001b[0m\u001b[1m)\u001b[0m,\n",
       "    \u001b[1;35mDocument\u001b[0m\u001b[1m(\u001b[0m\u001b[33mpage_content\u001b[0m=\u001b[32m'a collection. For example, the Unix'\u001b[0m, \u001b[33mmetadata\u001b[0m=\u001b[1m{\u001b[0m\u001b[32m'source'\u001b[0m: \u001b[32m'slp'\u001b[0m\u001b[1m}\u001b[0m\u001b[1m)\u001b[0m,\n",
       "    \u001b[1;35mDocument\u001b[0m\u001b[1m(\u001b[0m\u001b[33mpage_content\u001b[0m=\u001b[32m' command-line tool grep takes a reg'\u001b[0m, \u001b[33mmetadata\u001b[0m=\u001b[1m{\u001b[0m\u001b[32m'source'\u001b[0m: \u001b[32m'slp'\u001b[0m\u001b[1m}\u001b[0m\u001b[1m)\u001b[0m,\n",
       "    \u001b[1;35mDocument\u001b[0m\u001b[1m(\u001b[0m\u001b[33mpage_content\u001b[0m=\u001b[32m'ular expression and returns every l'\u001b[0m, \u001b[33mmetadata\u001b[0m=\u001b[1m{\u001b[0m\u001b[32m'source'\u001b[0m: \u001b[32m'slp'\u001b[0m\u001b[1m}\u001b[0m\u001b[1m)\u001b[0m,\n",
       "    \u001b[1;35mDocument\u001b[0m\u001b[1m(\u001b[0m\u001b[33mpage_content\u001b[0m=\u001b[32m'ine of the input document that matc'\u001b[0m, \u001b[33mmetadata\u001b[0m=\u001b[1m{\u001b[0m\u001b[32m'source'\u001b[0m: \u001b[32m'slp'\u001b[0m\u001b[1m}\u001b[0m\u001b[1m)\u001b[0m,\n",
       "    \u001b[1;35mDocument\u001b[0m\u001b[1m(\u001b[0m\u001b[33mpage_content\u001b[0m=\u001b[32m'hes the expression.\\n\\nA search can b'\u001b[0m, \u001b[33mmetadata\u001b[0m=\u001b[1m{\u001b[0m\u001b[32m'source'\u001b[0m: \u001b[32m'slp'\u001b[0m\u001b[1m}\u001b[0m\u001b[1m)\u001b[0m,\n",
       "    \u001b[1;35mDocument\u001b[0m\u001b[1m(\u001b[0m\u001b[33mpage_content\u001b[0m=\u001b[32m'e designed to return every match on'\u001b[0m, \u001b[33mmetadata\u001b[0m=\u001b[1m{\u001b[0m\u001b[32m'source'\u001b[0m: \u001b[32m'slp'\u001b[0m\u001b[1m}\u001b[0m\u001b[1m)\u001b[0m,\n",
       "    \u001b[1;35mDocument\u001b[0m\u001b[1m(\u001b[0m\u001b[33mpage_content\u001b[0m=\u001b[32m' a line, if there are more than one'\u001b[0m, \u001b[33mmetadata\u001b[0m=\u001b[1m{\u001b[0m\u001b[32m'source'\u001b[0m: \u001b[32m'slp'\u001b[0m\u001b[1m}\u001b[0m\u001b[1m)\u001b[0m,\n",
       "    \u001b[1;35mDocument\u001b[0m\u001b[1m(\u001b[0m\u001b[33mpage_content\u001b[0m=\u001b[32m', or just the first match. In the f'\u001b[0m, \u001b[33mmetadata\u001b[0m=\u001b[1m{\u001b[0m\u001b[32m'source'\u001b[0m: \u001b[32m'slp'\u001b[0m\u001b[1m}\u001b[0m\u001b[1m)\u001b[0m,\n",
       "    \u001b[1;35mDocument\u001b[0m\u001b[1m(\u001b[0m\u001b[33mpage_content\u001b[0m=\u001b[32m'ollowing examples we generally unde'\u001b[0m, \u001b[33mmetadata\u001b[0m=\u001b[1m{\u001b[0m\u001b[32m'source'\u001b[0m: \u001b[32m'slp'\u001b[0m\u001b[1m}\u001b[0m\u001b[1m)\u001b[0m,\n",
       "    \u001b[1;35mDocument\u001b[0m\u001b[1m(\u001b[0m\u001b[33mpage_content\u001b[0m=\u001b[32m'rline the exact part of the pattern'\u001b[0m, \u001b[33mmetadata\u001b[0m=\u001b[1m{\u001b[0m\u001b[32m'source'\u001b[0m: \u001b[32m'slp'\u001b[0m\u001b[1m}\u001b[0m\u001b[1m)\u001b[0m,\n",
       "    \u001b[1;35mDocument\u001b[0m\u001b[1m(\u001b[0m\u001b[33mpage_content\u001b[0m=\u001b[32m' that matches the regular expressio'\u001b[0m, \u001b[33mmetadata\u001b[0m=\u001b[1m{\u001b[0m\u001b[32m'source'\u001b[0m: \u001b[32m'slp'\u001b[0m\u001b[1m}\u001b[0m\u001b[1m)\u001b[0m,\n",
       "    \u001b[1;35mDocument\u001b[0m\u001b[1m(\u001b[0m\u001b[33mpage_content\u001b[0m=\u001b[32m'n and show only the first match. We'\u001b[0m, \u001b[33mmetadata\u001b[0m=\u001b[1m{\u001b[0m\u001b[32m'source'\u001b[0m: \u001b[32m'slp'\u001b[0m\u001b[1m}\u001b[0m\u001b[1m)\u001b[0m,\n",
       "    \u001b[1;35mDocument\u001b[0m\u001b[1m(\u001b[0m\u001b[33mpage_content\u001b[0m=\u001b[32m\"'ll show regular expressions delimi\"\u001b[0m, \u001b[33mmetadata\u001b[0m=\u001b[1m{\u001b[0m\u001b[32m'source'\u001b[0m: \u001b[32m'slp'\u001b[0m\u001b[1m}\u001b[0m\u001b[1m)\u001b[0m,\n",
       "    \u001b[1;35mDocument\u001b[0m\u001b[1m(\u001b[0m\u001b[33mpage_content\u001b[0m=\u001b[32m'ted by slashes but note that slashe'\u001b[0m, \u001b[33mmetadata\u001b[0m=\u001b[1m{\u001b[0m\u001b[32m'source'\u001b[0m: \u001b[32m'slp'\u001b[0m\u001b[1m}\u001b[0m\u001b[1m)\u001b[0m,\n",
       "    \u001b[1;35mDocument\u001b[0m\u001b[1m(\u001b[0m\u001b[33mpage_content\u001b[0m=\u001b[32m's are not part of the regular expre'\u001b[0m, \u001b[33mmetadata\u001b[0m=\u001b[1m{\u001b[0m\u001b[32m'source'\u001b[0m: \u001b[32m'slp'\u001b[0m\u001b[1m}\u001b[0m\u001b[1m)\u001b[0m,\n",
       "    \u001b[1;35mDocument\u001b[0m\u001b[1m(\u001b[0m\u001b[33mpage_content\u001b[0m=\u001b[32m'ssions.\\n\\nRegular expressions come i'\u001b[0m, \u001b[33mmetadata\u001b[0m=\u001b[1m{\u001b[0m\u001b[32m'source'\u001b[0m: \u001b[32m'slp'\u001b[0m\u001b[1m}\u001b[0m\u001b[1m)\u001b[0m,\n",
       "    \u001b[1;35mDocument\u001b[0m\u001b[1m(\u001b[0m\u001b[33mpage_content\u001b[0m=\u001b[32m\"n\u001b[0m\u001b[32m many variants. We'll be describin\"\u001b[0m, \u001b[33mmetadata\u001b[0m=\u001b[1m{\u001b[0m\u001b[32m'source'\u001b[0m: \u001b[32m'slp'\u001b[0m\u001b[1m}\u001b[0m\u001b[1m)\u001b[0m,\n",
       "    \u001b[1;35mDocument\u001b[0m\u001b[1m(\u001b[0m\u001b[33mpage_content\u001b[0m=\u001b[32m'g extended regular expressions; dif'\u001b[0m, \u001b[33mmetadata\u001b[0m=\u001b[1m{\u001b[0m\u001b[32m'source'\u001b[0m: \u001b[32m'slp'\u001b[0m\u001b[1m}\u001b[0m\u001b[1m)\u001b[0m,\n",
       "    \u001b[1;35mDocument\u001b[0m\u001b[1m(\u001b[0m\u001b[33mpage_content\u001b[0m=\u001b[32m'ferent regular expression parsers m'\u001b[0m, \u001b[33mmetadata\u001b[0m=\u001b[1m{\u001b[0m\u001b[32m'source'\u001b[0m: \u001b[32m'slp'\u001b[0m\u001b[1m}\u001b[0m\u001b[1m)\u001b[0m,\n",
       "    \u001b[1;35mDocument\u001b[0m\u001b[1m(\u001b[0m\u001b[33mpage_content\u001b[0m=\u001b[32m'ay only recognize subsets of these,'\u001b[0m, \u001b[33mmetadata\u001b[0m=\u001b[1m{\u001b[0m\u001b[32m'source'\u001b[0m: \u001b[32m'slp'\u001b[0m\u001b[1m}\u001b[0m\u001b[1m)\u001b[0m,\n",
       "    \u001b[1;35mDocument\u001b[0m\u001b[1m(\u001b[0m\u001b[33mpage_content\u001b[0m=\u001b[32m' or treat some expressions slightly'\u001b[0m, \u001b[33mmetadata\u001b[0m=\u001b[1m{\u001b[0m\u001b[32m'source'\u001b[0m: \u001b[32m'slp'\u001b[0m\u001b[1m}\u001b[0m\u001b[1m)\u001b[0m,\n",
       "    \u001b[1;35mDocument\u001b[0m\u001b[1m(\u001b[0m\u001b[33mpage_content\u001b[0m=\u001b[32m' differently. Using an online regul'\u001b[0m, \u001b[33mmetadata\u001b[0m=\u001b[1m{\u001b[0m\u001b[32m'source'\u001b[0m: \u001b[32m'slp'\u001b[0m\u001b[1m}\u001b[0m\u001b[1m)\u001b[0m,\n",
       "    \u001b[1;35mDocument\u001b[0m\u001b[1m(\u001b[0m\u001b[33mpage_content\u001b[0m=\u001b[32m'ar expression tester is a handy way'\u001b[0m, \u001b[33mmetadata\u001b[0m=\u001b[1m{\u001b[0m\u001b[32m'source'\u001b[0m: \u001b[32m'slp'\u001b[0m\u001b[1m}\u001b[0m\u001b[1m)\u001b[0m,\n",
       "    \u001b[1;35mDocument\u001b[0m\u001b[1m(\u001b[0m\u001b[33mpage_content\u001b[0m=\u001b[32m' to test out your expressions and e'\u001b[0m, \u001b[33mmetadata\u001b[0m=\u001b[1m{\u001b[0m\u001b[32m'source'\u001b[0m: \u001b[32m'slp'\u001b[0m\u001b[1m}\u001b[0m\u001b[1m)\u001b[0m,\n",
       "    \u001b[1;35mDocument\u001b[0m\u001b[1m(\u001b[0m\u001b[33mpage_content\u001b[0m=\u001b[32m'xplore these variations.\\n'\u001b[0m, \u001b[33mmetadata\u001b[0m=\u001b[1m{\u001b[0m\u001b[32m'source'\u001b[0m: \u001b[32m'slp'\u001b[0m\u001b[1m}\u001b[0m\u001b[1m)\u001b[0m\n",
       "\u001b[1m]\u001b[0m\n"
      ]
     },
     "metadata": {},
     "output_type": "display_data"
    }
   ],
   "source": [
    "# 1. Character Text Splitting\n",
    "print(\"#### Character Text Splitting ####\")\n",
    "\n",
    "# Manual Splitting\n",
    "chunks = []\n",
    "chunk_size = 35 # Characters\n",
    "\n",
    "for i in range(0, len(text), chunk_size):\n",
    "    chunk = text[i:i + chunk_size]\n",
    "    chunks.append(chunk)\n",
    "\n",
    "documents = [Document(page_content=chunk, metadata={\"source\": \"slp\"}) for chunk in chunks]\n",
    "print(documents)"
   ]
  },
  {
   "cell_type": "code",
   "execution_count": 7,
   "id": "61cc38da-7376-4cce-8894-a5e640c3c96d",
   "metadata": {},
   "outputs": [
    {
     "data": {
      "text/html": [
       "<pre style=\"white-space:pre;overflow-x:auto;line-height:normal;font-family:Menlo,'DejaVu Sans Mono',consolas,'Courier New',monospace\"><span style=\"font-weight: bold\">[</span>\n",
       "    <span style=\"color: #800080; text-decoration-color: #800080; font-weight: bold\">Document</span><span style=\"font-weight: bold\">(</span><span style=\"color: #808000; text-decoration-color: #808000\">page_content</span>=<span style=\"color: #008000; text-decoration-color: #008000\">'\\n## About Regular Expressions\\nOne o'</span><span style=\"font-weight: bold\">)</span>,\n",
       "    <span style=\"color: #800080; text-decoration-color: #800080; font-weight: bold\">Document</span><span style=\"font-weight: bold\">(</span><span style=\"color: #808000; text-decoration-color: #808000\">page_content</span>=<span style=\"color: #008000; text-decoration-color: #008000\">'f the unsung successes in standardi'</span><span style=\"font-weight: bold\">)</span>,\n",
       "    <span style=\"color: #800080; text-decoration-color: #800080; font-weight: bold\">Document</span><span style=\"font-weight: bold\">(</span><span style=\"color: #808000; text-decoration-color: #808000\">page_content</span>=<span style=\"color: #008000; text-decoration-color: #008000\">'zation in computer science has been'</span><span style=\"font-weight: bold\">)</span>,\n",
       "    <span style=\"color: #800080; text-decoration-color: #800080; font-weight: bold\">Document</span><span style=\"font-weight: bold\">(</span><span style=\"color: #808000; text-decoration-color: #808000\">page_content</span>=<span style=\"color: #008000; text-decoration-color: #008000\">' the regular expression (often shor'</span><span style=\"font-weight: bold\">)</span>,\n",
       "    <span style=\"color: #800080; text-decoration-color: #800080; font-weight: bold\">Document</span><span style=\"font-weight: bold\">(</span><span style=\"color: #808000; text-decoration-color: #808000\">page_content</span>=<span style=\"color: #008000; text-decoration-color: #008000\">'tened to **regex**), a language for'</span><span style=\"font-weight: bold\">)</span>,\n",
       "    <span style=\"color: #800080; text-decoration-color: #800080; font-weight: bold\">Document</span><span style=\"font-weight: bold\">(</span><span style=\"color: #808000; text-decoration-color: #808000\">page_content</span>=<span style=\"color: #008000; text-decoration-color: #008000\">' specifying text search regular exp'</span><span style=\"font-weight: bold\">)</span>,\n",
       "    <span style=\"color: #800080; text-decoration-color: #800080; font-weight: bold\">Document</span><span style=\"font-weight: bold\">(</span><span style=\"color: #808000; text-decoration-color: #808000\">page_content</span>=<span style=\"color: #008000; text-decoration-color: #008000\">'ression strings. This practical lan'</span><span style=\"font-weight: bold\">)</span>,\n",
       "    <span style=\"color: #800080; text-decoration-color: #800080; font-weight: bold\">Document</span><span style=\"font-weight: bold\">(</span><span style=\"color: #808000; text-decoration-color: #808000\">page_content</span>=<span style=\"color: #008000; text-decoration-color: #008000\">'guage is used in every computer lan'</span><span style=\"font-weight: bold\">)</span>,\n",
       "    <span style=\"color: #800080; text-decoration-color: #800080; font-weight: bold\">Document</span><span style=\"font-weight: bold\">(</span><span style=\"color: #808000; text-decoration-color: #808000\">page_content</span>=<span style=\"color: #008000; text-decoration-color: #008000\">'guage, word processor, and text pro'</span><span style=\"font-weight: bold\">)</span>,\n",
       "    <span style=\"color: #800080; text-decoration-color: #800080; font-weight: bold\">Document</span><span style=\"font-weight: bold\">(</span><span style=\"color: #808000; text-decoration-color: #808000\">page_content</span>=<span style=\"color: #008000; text-decoration-color: #008000\">'cessing tools like the Unix tools g'</span><span style=\"font-weight: bold\">)</span>,\n",
       "    <span style=\"color: #800080; text-decoration-color: #800080; font-weight: bold\">Document</span><span style=\"font-weight: bold\">(</span><span style=\"color: #808000; text-decoration-color: #808000\">page_content</span>=<span style=\"color: #008000; text-decoration-color: #008000\">'rep or Emacs. Formally, a regular e'</span><span style=\"font-weight: bold\">)</span>,\n",
       "    <span style=\"color: #800080; text-decoration-color: #800080; font-weight: bold\">Document</span><span style=\"font-weight: bold\">(</span><span style=\"color: #808000; text-decoration-color: #808000\">page_content</span>=<span style=\"color: #008000; text-decoration-color: #008000\">'xpression is an algebraic notation '</span><span style=\"font-weight: bold\">)</span>,\n",
       "    <span style=\"color: #800080; text-decoration-color: #800080; font-weight: bold\">Document</span><span style=\"font-weight: bold\">(</span><span style=\"color: #808000; text-decoration-color: #808000\">page_content</span>=<span style=\"color: #008000; text-decoration-color: #008000\">'for characterizing a set of strings'</span><span style=\"font-weight: bold\">)</span>,\n",
       "    <span style=\"color: #800080; text-decoration-color: #800080; font-weight: bold\">Document</span><span style=\"font-weight: bold\">(</span><span style=\"color: #808000; text-decoration-color: #808000\">page_content</span>=<span style=\"color: #008000; text-decoration-color: #008000\">'. Regular expressions are particula'</span><span style=\"font-weight: bold\">)</span>,\n",
       "    <span style=\"color: #800080; text-decoration-color: #800080; font-weight: bold\">Document</span><span style=\"font-weight: bold\">(</span><span style=\"color: #808000; text-decoration-color: #808000\">page_content</span>=<span style=\"color: #008000; text-decoration-color: #008000\">'rly useful for searching in texts, '</span><span style=\"font-weight: bold\">)</span>,\n",
       "    <span style=\"color: #800080; text-decoration-color: #800080; font-weight: bold\">Document</span><span style=\"font-weight: bold\">(</span><span style=\"color: #808000; text-decoration-color: #808000\">page_content</span>=<span style=\"color: #008000; text-decoration-color: #008000\">'when we have a **pattern** to searc'</span><span style=\"font-weight: bold\">)</span>,\n",
       "    <span style=\"color: #800080; text-decoration-color: #800080; font-weight: bold\">Document</span><span style=\"font-weight: bold\">(</span><span style=\"color: #808000; text-decoration-color: #808000\">page_content</span>=<span style=\"color: #008000; text-decoration-color: #008000\">'h for and a **corpus** of texts to '</span><span style=\"font-weight: bold\">)</span>,\n",
       "    <span style=\"color: #800080; text-decoration-color: #800080; font-weight: bold\">Document</span><span style=\"font-weight: bold\">(</span><span style=\"color: #808000; text-decoration-color: #808000\">page_content</span>=<span style=\"color: #008000; text-decoration-color: #008000\">'search through. A regular expressio'</span><span style=\"font-weight: bold\">)</span>,\n",
       "    <span style=\"color: #800080; text-decoration-color: #800080; font-weight: bold\">Document</span><span style=\"font-weight: bold\">(</span><span style=\"color: #808000; text-decoration-color: #808000\">page_content</span>=<span style=\"color: #008000; text-decoration-color: #008000\">'n search function corpus will searc'</span><span style=\"font-weight: bold\">)</span>,\n",
       "    <span style=\"color: #800080; text-decoration-color: #800080; font-weight: bold\">Document</span><span style=\"font-weight: bold\">(</span><span style=\"color: #808000; text-decoration-color: #808000\">page_content</span>=<span style=\"color: #008000; text-decoration-color: #008000\">'h through the corpus, returning all'</span><span style=\"font-weight: bold\">)</span>,\n",
       "    <span style=\"color: #800080; text-decoration-color: #800080; font-weight: bold\">Document</span><span style=\"font-weight: bold\">(</span><span style=\"color: #808000; text-decoration-color: #808000\">page_content</span>=<span style=\"color: #008000; text-decoration-color: #008000\">' texts that match the pattern. The '</span><span style=\"font-weight: bold\">)</span>,\n",
       "    <span style=\"color: #800080; text-decoration-color: #800080; font-weight: bold\">Document</span><span style=\"font-weight: bold\">(</span><span style=\"color: #808000; text-decoration-color: #808000\">page_content</span>=<span style=\"color: #008000; text-decoration-color: #008000\">'corpus can be a single document or '</span><span style=\"font-weight: bold\">)</span>,\n",
       "    <span style=\"color: #800080; text-decoration-color: #800080; font-weight: bold\">Document</span><span style=\"font-weight: bold\">(</span><span style=\"color: #808000; text-decoration-color: #808000\">page_content</span>=<span style=\"color: #008000; text-decoration-color: #008000\">'a collection. For example, the Unix'</span><span style=\"font-weight: bold\">)</span>,\n",
       "    <span style=\"color: #800080; text-decoration-color: #800080; font-weight: bold\">Document</span><span style=\"font-weight: bold\">(</span><span style=\"color: #808000; text-decoration-color: #808000\">page_content</span>=<span style=\"color: #008000; text-decoration-color: #008000\">' command-line tool grep takes a reg'</span><span style=\"font-weight: bold\">)</span>,\n",
       "    <span style=\"color: #800080; text-decoration-color: #800080; font-weight: bold\">Document</span><span style=\"font-weight: bold\">(</span><span style=\"color: #808000; text-decoration-color: #808000\">page_content</span>=<span style=\"color: #008000; text-decoration-color: #008000\">'ular expression and returns every l'</span><span style=\"font-weight: bold\">)</span>,\n",
       "    <span style=\"color: #800080; text-decoration-color: #800080; font-weight: bold\">Document</span><span style=\"font-weight: bold\">(</span><span style=\"color: #808000; text-decoration-color: #808000\">page_content</span>=<span style=\"color: #008000; text-decoration-color: #008000\">'ine of the input document that matc'</span><span style=\"font-weight: bold\">)</span>,\n",
       "    <span style=\"color: #800080; text-decoration-color: #800080; font-weight: bold\">Document</span><span style=\"font-weight: bold\">(</span><span style=\"color: #808000; text-decoration-color: #808000\">page_content</span>=<span style=\"color: #008000; text-decoration-color: #008000\">'hes the expression.\\n\\nA search can b'</span><span style=\"font-weight: bold\">)</span>,\n",
       "    <span style=\"color: #800080; text-decoration-color: #800080; font-weight: bold\">Document</span><span style=\"font-weight: bold\">(</span><span style=\"color: #808000; text-decoration-color: #808000\">page_content</span>=<span style=\"color: #008000; text-decoration-color: #008000\">'e designed to return every match on'</span><span style=\"font-weight: bold\">)</span>,\n",
       "    <span style=\"color: #800080; text-decoration-color: #800080; font-weight: bold\">Document</span><span style=\"font-weight: bold\">(</span><span style=\"color: #808000; text-decoration-color: #808000\">page_content</span>=<span style=\"color: #008000; text-decoration-color: #008000\">' a line, if there are more than one'</span><span style=\"font-weight: bold\">)</span>,\n",
       "    <span style=\"color: #800080; text-decoration-color: #800080; font-weight: bold\">Document</span><span style=\"font-weight: bold\">(</span><span style=\"color: #808000; text-decoration-color: #808000\">page_content</span>=<span style=\"color: #008000; text-decoration-color: #008000\">', or just the first match. In the f'</span><span style=\"font-weight: bold\">)</span>,\n",
       "    <span style=\"color: #800080; text-decoration-color: #800080; font-weight: bold\">Document</span><span style=\"font-weight: bold\">(</span><span style=\"color: #808000; text-decoration-color: #808000\">page_content</span>=<span style=\"color: #008000; text-decoration-color: #008000\">'ollowing examples we generally unde'</span><span style=\"font-weight: bold\">)</span>,\n",
       "    <span style=\"color: #800080; text-decoration-color: #800080; font-weight: bold\">Document</span><span style=\"font-weight: bold\">(</span><span style=\"color: #808000; text-decoration-color: #808000\">page_content</span>=<span style=\"color: #008000; text-decoration-color: #008000\">'rline the exact part of the pattern'</span><span style=\"font-weight: bold\">)</span>,\n",
       "    <span style=\"color: #800080; text-decoration-color: #800080; font-weight: bold\">Document</span><span style=\"font-weight: bold\">(</span><span style=\"color: #808000; text-decoration-color: #808000\">page_content</span>=<span style=\"color: #008000; text-decoration-color: #008000\">' that matches the regular expressio'</span><span style=\"font-weight: bold\">)</span>,\n",
       "    <span style=\"color: #800080; text-decoration-color: #800080; font-weight: bold\">Document</span><span style=\"font-weight: bold\">(</span><span style=\"color: #808000; text-decoration-color: #808000\">page_content</span>=<span style=\"color: #008000; text-decoration-color: #008000\">'n and show only the first match. We'</span><span style=\"font-weight: bold\">)</span>,\n",
       "    <span style=\"color: #800080; text-decoration-color: #800080; font-weight: bold\">Document</span><span style=\"font-weight: bold\">(</span><span style=\"color: #808000; text-decoration-color: #808000\">page_content</span>=<span style=\"color: #008000; text-decoration-color: #008000\">\"'ll show regular expressions delimi\"</span><span style=\"font-weight: bold\">)</span>,\n",
       "    <span style=\"color: #800080; text-decoration-color: #800080; font-weight: bold\">Document</span><span style=\"font-weight: bold\">(</span><span style=\"color: #808000; text-decoration-color: #808000\">page_content</span>=<span style=\"color: #008000; text-decoration-color: #008000\">'ted by slashes but note that slashe'</span><span style=\"font-weight: bold\">)</span>,\n",
       "    <span style=\"color: #800080; text-decoration-color: #800080; font-weight: bold\">Document</span><span style=\"font-weight: bold\">(</span><span style=\"color: #808000; text-decoration-color: #808000\">page_content</span>=<span style=\"color: #008000; text-decoration-color: #008000\">'s are not part of the regular expre'</span><span style=\"font-weight: bold\">)</span>,\n",
       "    <span style=\"color: #800080; text-decoration-color: #800080; font-weight: bold\">Document</span><span style=\"font-weight: bold\">(</span><span style=\"color: #808000; text-decoration-color: #808000\">page_content</span>=<span style=\"color: #008000; text-decoration-color: #008000\">'ssions.\\n\\nRegular expressions come i'</span><span style=\"font-weight: bold\">)</span>,\n",
       "    <span style=\"color: #800080; text-decoration-color: #800080; font-weight: bold\">Document</span><span style=\"font-weight: bold\">(</span><span style=\"color: #808000; text-decoration-color: #808000\">page_content</span>=<span style=\"color: #008000; text-decoration-color: #008000\">\"n many variants. We'll be describin\"</span><span style=\"font-weight: bold\">)</span>,\n",
       "    <span style=\"color: #800080; text-decoration-color: #800080; font-weight: bold\">Document</span><span style=\"font-weight: bold\">(</span><span style=\"color: #808000; text-decoration-color: #808000\">page_content</span>=<span style=\"color: #008000; text-decoration-color: #008000\">'g extended regular expressions; dif'</span><span style=\"font-weight: bold\">)</span>,\n",
       "    <span style=\"color: #800080; text-decoration-color: #800080; font-weight: bold\">Document</span><span style=\"font-weight: bold\">(</span><span style=\"color: #808000; text-decoration-color: #808000\">page_content</span>=<span style=\"color: #008000; text-decoration-color: #008000\">'ferent regular expression parsers m'</span><span style=\"font-weight: bold\">)</span>,\n",
       "    <span style=\"color: #800080; text-decoration-color: #800080; font-weight: bold\">Document</span><span style=\"font-weight: bold\">(</span><span style=\"color: #808000; text-decoration-color: #808000\">page_content</span>=<span style=\"color: #008000; text-decoration-color: #008000\">'ay only recognize subsets of these,'</span><span style=\"font-weight: bold\">)</span>,\n",
       "    <span style=\"color: #800080; text-decoration-color: #800080; font-weight: bold\">Document</span><span style=\"font-weight: bold\">(</span><span style=\"color: #808000; text-decoration-color: #808000\">page_content</span>=<span style=\"color: #008000; text-decoration-color: #008000\">' or treat some expressions slightly'</span><span style=\"font-weight: bold\">)</span>,\n",
       "    <span style=\"color: #800080; text-decoration-color: #800080; font-weight: bold\">Document</span><span style=\"font-weight: bold\">(</span><span style=\"color: #808000; text-decoration-color: #808000\">page_content</span>=<span style=\"color: #008000; text-decoration-color: #008000\">' differently. Using an online regul'</span><span style=\"font-weight: bold\">)</span>,\n",
       "    <span style=\"color: #800080; text-decoration-color: #800080; font-weight: bold\">Document</span><span style=\"font-weight: bold\">(</span><span style=\"color: #808000; text-decoration-color: #808000\">page_content</span>=<span style=\"color: #008000; text-decoration-color: #008000\">'ar expression tester is a handy way'</span><span style=\"font-weight: bold\">)</span>,\n",
       "    <span style=\"color: #800080; text-decoration-color: #800080; font-weight: bold\">Document</span><span style=\"font-weight: bold\">(</span><span style=\"color: #808000; text-decoration-color: #808000\">page_content</span>=<span style=\"color: #008000; text-decoration-color: #008000\">' to test out your expressions and e'</span><span style=\"font-weight: bold\">)</span>,\n",
       "    <span style=\"color: #800080; text-decoration-color: #800080; font-weight: bold\">Document</span><span style=\"font-weight: bold\">(</span><span style=\"color: #808000; text-decoration-color: #808000\">page_content</span>=<span style=\"color: #008000; text-decoration-color: #008000\">'xplore these variations.\\n'</span><span style=\"font-weight: bold\">)</span>\n",
       "<span style=\"font-weight: bold\">]</span>\n",
       "</pre>\n"
      ],
      "text/plain": [
       "\u001b[1m[\u001b[0m\n",
       "    \u001b[1;35mDocument\u001b[0m\u001b[1m(\u001b[0m\u001b[33mpage_content\u001b[0m=\u001b[32m'\\n## About Regular Expressions\\nOne o'\u001b[0m\u001b[1m)\u001b[0m,\n",
       "    \u001b[1;35mDocument\u001b[0m\u001b[1m(\u001b[0m\u001b[33mpage_content\u001b[0m=\u001b[32m'f the unsung successes in standardi'\u001b[0m\u001b[1m)\u001b[0m,\n",
       "    \u001b[1;35mDocument\u001b[0m\u001b[1m(\u001b[0m\u001b[33mpage_content\u001b[0m=\u001b[32m'zation in computer science has been'\u001b[0m\u001b[1m)\u001b[0m,\n",
       "    \u001b[1;35mDocument\u001b[0m\u001b[1m(\u001b[0m\u001b[33mpage_content\u001b[0m=\u001b[32m' the regular expression \u001b[0m\u001b[32m(\u001b[0m\u001b[32moften shor'\u001b[0m\u001b[1m)\u001b[0m,\n",
       "    \u001b[1;35mDocument\u001b[0m\u001b[1m(\u001b[0m\u001b[33mpage_content\u001b[0m=\u001b[32m'tened to **regex**\u001b[0m\u001b[32m)\u001b[0m\u001b[32m, a language for'\u001b[0m\u001b[1m)\u001b[0m,\n",
       "    \u001b[1;35mDocument\u001b[0m\u001b[1m(\u001b[0m\u001b[33mpage_content\u001b[0m=\u001b[32m' specifying text search regular exp'\u001b[0m\u001b[1m)\u001b[0m,\n",
       "    \u001b[1;35mDocument\u001b[0m\u001b[1m(\u001b[0m\u001b[33mpage_content\u001b[0m=\u001b[32m'ression strings. This practical lan'\u001b[0m\u001b[1m)\u001b[0m,\n",
       "    \u001b[1;35mDocument\u001b[0m\u001b[1m(\u001b[0m\u001b[33mpage_content\u001b[0m=\u001b[32m'guage is used in every computer lan'\u001b[0m\u001b[1m)\u001b[0m,\n",
       "    \u001b[1;35mDocument\u001b[0m\u001b[1m(\u001b[0m\u001b[33mpage_content\u001b[0m=\u001b[32m'guage, word processor, and text pro'\u001b[0m\u001b[1m)\u001b[0m,\n",
       "    \u001b[1;35mDocument\u001b[0m\u001b[1m(\u001b[0m\u001b[33mpage_content\u001b[0m=\u001b[32m'cessing tools like the Unix tools g'\u001b[0m\u001b[1m)\u001b[0m,\n",
       "    \u001b[1;35mDocument\u001b[0m\u001b[1m(\u001b[0m\u001b[33mpage_content\u001b[0m=\u001b[32m'rep or Emacs. Formally, a regular e'\u001b[0m\u001b[1m)\u001b[0m,\n",
       "    \u001b[1;35mDocument\u001b[0m\u001b[1m(\u001b[0m\u001b[33mpage_content\u001b[0m=\u001b[32m'xpression is an algebraic notation '\u001b[0m\u001b[1m)\u001b[0m,\n",
       "    \u001b[1;35mDocument\u001b[0m\u001b[1m(\u001b[0m\u001b[33mpage_content\u001b[0m=\u001b[32m'for characterizing a set of strings'\u001b[0m\u001b[1m)\u001b[0m,\n",
       "    \u001b[1;35mDocument\u001b[0m\u001b[1m(\u001b[0m\u001b[33mpage_content\u001b[0m=\u001b[32m'. Regular expressions are particula'\u001b[0m\u001b[1m)\u001b[0m,\n",
       "    \u001b[1;35mDocument\u001b[0m\u001b[1m(\u001b[0m\u001b[33mpage_content\u001b[0m=\u001b[32m'rly useful for searching in texts, '\u001b[0m\u001b[1m)\u001b[0m,\n",
       "    \u001b[1;35mDocument\u001b[0m\u001b[1m(\u001b[0m\u001b[33mpage_content\u001b[0m=\u001b[32m'when we have a **pattern** to searc'\u001b[0m\u001b[1m)\u001b[0m,\n",
       "    \u001b[1;35mDocument\u001b[0m\u001b[1m(\u001b[0m\u001b[33mpage_content\u001b[0m=\u001b[32m'h for and a **corpus** of texts to '\u001b[0m\u001b[1m)\u001b[0m,\n",
       "    \u001b[1;35mDocument\u001b[0m\u001b[1m(\u001b[0m\u001b[33mpage_content\u001b[0m=\u001b[32m'search through. A regular expressio'\u001b[0m\u001b[1m)\u001b[0m,\n",
       "    \u001b[1;35mDocument\u001b[0m\u001b[1m(\u001b[0m\u001b[33mpage_content\u001b[0m=\u001b[32m'n search function corpus will searc'\u001b[0m\u001b[1m)\u001b[0m,\n",
       "    \u001b[1;35mDocument\u001b[0m\u001b[1m(\u001b[0m\u001b[33mpage_content\u001b[0m=\u001b[32m'h through the corpus, returning all'\u001b[0m\u001b[1m)\u001b[0m,\n",
       "    \u001b[1;35mDocument\u001b[0m\u001b[1m(\u001b[0m\u001b[33mpage_content\u001b[0m=\u001b[32m' texts that match the pattern. The '\u001b[0m\u001b[1m)\u001b[0m,\n",
       "    \u001b[1;35mDocument\u001b[0m\u001b[1m(\u001b[0m\u001b[33mpage_content\u001b[0m=\u001b[32m'corpus can be a single document or '\u001b[0m\u001b[1m)\u001b[0m,\n",
       "    \u001b[1;35mDocument\u001b[0m\u001b[1m(\u001b[0m\u001b[33mpage_content\u001b[0m=\u001b[32m'a collection. For example, the Unix'\u001b[0m\u001b[1m)\u001b[0m,\n",
       "    \u001b[1;35mDocument\u001b[0m\u001b[1m(\u001b[0m\u001b[33mpage_content\u001b[0m=\u001b[32m' command-line tool grep takes a reg'\u001b[0m\u001b[1m)\u001b[0m,\n",
       "    \u001b[1;35mDocument\u001b[0m\u001b[1m(\u001b[0m\u001b[33mpage_content\u001b[0m=\u001b[32m'ular expression and returns every l'\u001b[0m\u001b[1m)\u001b[0m,\n",
       "    \u001b[1;35mDocument\u001b[0m\u001b[1m(\u001b[0m\u001b[33mpage_content\u001b[0m=\u001b[32m'ine of the input document that matc'\u001b[0m\u001b[1m)\u001b[0m,\n",
       "    \u001b[1;35mDocument\u001b[0m\u001b[1m(\u001b[0m\u001b[33mpage_content\u001b[0m=\u001b[32m'hes the expression.\\n\\nA search can b'\u001b[0m\u001b[1m)\u001b[0m,\n",
       "    \u001b[1;35mDocument\u001b[0m\u001b[1m(\u001b[0m\u001b[33mpage_content\u001b[0m=\u001b[32m'e designed to return every match on'\u001b[0m\u001b[1m)\u001b[0m,\n",
       "    \u001b[1;35mDocument\u001b[0m\u001b[1m(\u001b[0m\u001b[33mpage_content\u001b[0m=\u001b[32m' a line, if there are more than one'\u001b[0m\u001b[1m)\u001b[0m,\n",
       "    \u001b[1;35mDocument\u001b[0m\u001b[1m(\u001b[0m\u001b[33mpage_content\u001b[0m=\u001b[32m', or just the first match. In the f'\u001b[0m\u001b[1m)\u001b[0m,\n",
       "    \u001b[1;35mDocument\u001b[0m\u001b[1m(\u001b[0m\u001b[33mpage_content\u001b[0m=\u001b[32m'ollowing examples we generally unde'\u001b[0m\u001b[1m)\u001b[0m,\n",
       "    \u001b[1;35mDocument\u001b[0m\u001b[1m(\u001b[0m\u001b[33mpage_content\u001b[0m=\u001b[32m'rline the exact part of the pattern'\u001b[0m\u001b[1m)\u001b[0m,\n",
       "    \u001b[1;35mDocument\u001b[0m\u001b[1m(\u001b[0m\u001b[33mpage_content\u001b[0m=\u001b[32m' that matches the regular expressio'\u001b[0m\u001b[1m)\u001b[0m,\n",
       "    \u001b[1;35mDocument\u001b[0m\u001b[1m(\u001b[0m\u001b[33mpage_content\u001b[0m=\u001b[32m'n and show only the first match. We'\u001b[0m\u001b[1m)\u001b[0m,\n",
       "    \u001b[1;35mDocument\u001b[0m\u001b[1m(\u001b[0m\u001b[33mpage_content\u001b[0m=\u001b[32m\"'ll show regular expressions delimi\"\u001b[0m\u001b[1m)\u001b[0m,\n",
       "    \u001b[1;35mDocument\u001b[0m\u001b[1m(\u001b[0m\u001b[33mpage_content\u001b[0m=\u001b[32m'ted by slashes but note that slashe'\u001b[0m\u001b[1m)\u001b[0m,\n",
       "    \u001b[1;35mDocument\u001b[0m\u001b[1m(\u001b[0m\u001b[33mpage_content\u001b[0m=\u001b[32m's are not part of the regular expre'\u001b[0m\u001b[1m)\u001b[0m,\n",
       "    \u001b[1;35mDocument\u001b[0m\u001b[1m(\u001b[0m\u001b[33mpage_content\u001b[0m=\u001b[32m'ssions.\\n\\nRegular expressions come i'\u001b[0m\u001b[1m)\u001b[0m,\n",
       "    \u001b[1;35mDocument\u001b[0m\u001b[1m(\u001b[0m\u001b[33mpage_content\u001b[0m=\u001b[32m\"n\u001b[0m\u001b[32m many variants. We'll be describin\"\u001b[0m\u001b[1m)\u001b[0m,\n",
       "    \u001b[1;35mDocument\u001b[0m\u001b[1m(\u001b[0m\u001b[33mpage_content\u001b[0m=\u001b[32m'g extended regular expressions; dif'\u001b[0m\u001b[1m)\u001b[0m,\n",
       "    \u001b[1;35mDocument\u001b[0m\u001b[1m(\u001b[0m\u001b[33mpage_content\u001b[0m=\u001b[32m'ferent regular expression parsers m'\u001b[0m\u001b[1m)\u001b[0m,\n",
       "    \u001b[1;35mDocument\u001b[0m\u001b[1m(\u001b[0m\u001b[33mpage_content\u001b[0m=\u001b[32m'ay only recognize subsets of these,'\u001b[0m\u001b[1m)\u001b[0m,\n",
       "    \u001b[1;35mDocument\u001b[0m\u001b[1m(\u001b[0m\u001b[33mpage_content\u001b[0m=\u001b[32m' or treat some expressions slightly'\u001b[0m\u001b[1m)\u001b[0m,\n",
       "    \u001b[1;35mDocument\u001b[0m\u001b[1m(\u001b[0m\u001b[33mpage_content\u001b[0m=\u001b[32m' differently. Using an online regul'\u001b[0m\u001b[1m)\u001b[0m,\n",
       "    \u001b[1;35mDocument\u001b[0m\u001b[1m(\u001b[0m\u001b[33mpage_content\u001b[0m=\u001b[32m'ar expression tester is a handy way'\u001b[0m\u001b[1m)\u001b[0m,\n",
       "    \u001b[1;35mDocument\u001b[0m\u001b[1m(\u001b[0m\u001b[33mpage_content\u001b[0m=\u001b[32m' to test out your expressions and e'\u001b[0m\u001b[1m)\u001b[0m,\n",
       "    \u001b[1;35mDocument\u001b[0m\u001b[1m(\u001b[0m\u001b[33mpage_content\u001b[0m=\u001b[32m'xplore these variations.\\n'\u001b[0m\u001b[1m)\u001b[0m\n",
       "\u001b[1m]\u001b[0m\n"
      ]
     },
     "metadata": {},
     "output_type": "display_data"
    }
   ],
   "source": [
    "# Automatic Text Splitting\n",
    "from langchain.text_splitter import CharacterTextSplitter\n",
    "\n",
    "text_splitter = CharacterTextSplitter(\n",
    "    chunk_size=35, \n",
    "    chunk_overlap=0, \n",
    "    separator='', \n",
    "    strip_whitespace=False\n",
    ")\n",
    "\n",
    "documents = text_splitter.create_documents([text])\n",
    "print(documents)"
   ]
  },
  {
   "cell_type": "code",
   "execution_count": 8,
   "id": "a6aba556-2e66-45dd-9b77-860188650738",
   "metadata": {},
   "outputs": [
    {
     "data": {
      "text/html": [
       "<pre style=\"white-space:pre;overflow-x:auto;line-height:normal;font-family:Menlo,'DejaVu Sans Mono',consolas,'Courier New',monospace\">#### Recursive Character Text Splitting ####\n",
       "</pre>\n"
      ],
      "text/plain": [
       "#### Recursive Character Text Splitting ####\n"
      ]
     },
     "metadata": {},
     "output_type": "display_data"
    },
    {
     "data": {
      "text/html": [
       "<pre style=\"white-space:pre;overflow-x:auto;line-height:normal;font-family:Menlo,'DejaVu Sans Mono',consolas,'Courier New',monospace\"><span style=\"font-weight: bold\">[</span>\n",
       "    <span style=\"color: #800080; text-decoration-color: #800080; font-weight: bold\">Document</span><span style=\"font-weight: bold\">(</span><span style=\"color: #808000; text-decoration-color: #808000\">page_content</span>=<span style=\"color: #008000; text-decoration-color: #008000\">'## About Regular Expressions'</span><span style=\"font-weight: bold\">)</span>,\n",
       "    <span style=\"color: #800080; text-decoration-color: #800080; font-weight: bold\">Document</span><span style=\"font-weight: bold\">(</span><span style=\"color: #808000; text-decoration-color: #808000\">page_content</span>=<span style=\"color: #008000; text-decoration-color: #008000\">'One of the unsung successes in standardization in computer'</span><span style=\"font-weight: bold\">)</span>,\n",
       "    <span style=\"color: #800080; text-decoration-color: #800080; font-weight: bold\">Document</span><span style=\"font-weight: bold\">(</span><span style=\"color: #808000; text-decoration-color: #808000\">page_content</span>=<span style=\"color: #008000; text-decoration-color: #008000\">'science has been the regular expression (often shortened to'</span><span style=\"font-weight: bold\">)</span>,\n",
       "    <span style=\"color: #800080; text-decoration-color: #800080; font-weight: bold\">Document</span><span style=\"font-weight: bold\">(</span><span style=\"color: #808000; text-decoration-color: #808000\">page_content</span>=<span style=\"color: #008000; text-decoration-color: #008000\">'**regex**), a language for specifying text search regular'</span><span style=\"font-weight: bold\">)</span>,\n",
       "    <span style=\"color: #800080; text-decoration-color: #800080; font-weight: bold\">Document</span><span style=\"font-weight: bold\">(</span><span style=\"color: #808000; text-decoration-color: #808000\">page_content</span>=<span style=\"color: #008000; text-decoration-color: #008000\">'expression strings. This practical language is used in every'</span><span style=\"font-weight: bold\">)</span>,\n",
       "    <span style=\"color: #800080; text-decoration-color: #800080; font-weight: bold\">Document</span><span style=\"font-weight: bold\">(</span><span style=\"color: #808000; text-decoration-color: #808000\">page_content</span>=<span style=\"color: #008000; text-decoration-color: #008000\">'computer language, word processor, and text processing tools'</span><span style=\"font-weight: bold\">)</span>,\n",
       "    <span style=\"color: #800080; text-decoration-color: #800080; font-weight: bold\">Document</span><span style=\"font-weight: bold\">(</span><span style=\"color: #808000; text-decoration-color: #808000\">page_content</span>=<span style=\"color: #008000; text-decoration-color: #008000\">'like the Unix tools grep or Emacs. Formally, a regular'</span><span style=\"font-weight: bold\">)</span>,\n",
       "    <span style=\"color: #800080; text-decoration-color: #800080; font-weight: bold\">Document</span><span style=\"font-weight: bold\">(</span><span style=\"color: #808000; text-decoration-color: #808000\">page_content</span>=<span style=\"color: #008000; text-decoration-color: #008000\">'expression is an algebraic notation for characterizing a set of'</span><span style=\"font-weight: bold\">)</span>,\n",
       "    <span style=\"color: #800080; text-decoration-color: #800080; font-weight: bold\">Document</span><span style=\"font-weight: bold\">(</span><span style=\"color: #808000; text-decoration-color: #808000\">page_content</span>=<span style=\"color: #008000; text-decoration-color: #008000\">'strings. Regular expressions are particularly useful for'</span><span style=\"font-weight: bold\">)</span>,\n",
       "    <span style=\"color: #800080; text-decoration-color: #800080; font-weight: bold\">Document</span><span style=\"font-weight: bold\">(</span><span style=\"color: #808000; text-decoration-color: #808000\">page_content</span>=<span style=\"color: #008000; text-decoration-color: #008000\">'searching in texts, when we have a **pattern** to search for and'</span><span style=\"font-weight: bold\">)</span>,\n",
       "    <span style=\"color: #800080; text-decoration-color: #800080; font-weight: bold\">Document</span><span style=\"font-weight: bold\">(</span><span style=\"color: #808000; text-decoration-color: #808000\">page_content</span>=<span style=\"color: #008000; text-decoration-color: #008000\">'a **corpus** of texts to search through. A regular expression'</span><span style=\"font-weight: bold\">)</span>,\n",
       "    <span style=\"color: #800080; text-decoration-color: #800080; font-weight: bold\">Document</span><span style=\"font-weight: bold\">(</span><span style=\"color: #808000; text-decoration-color: #808000\">page_content</span>=<span style=\"color: #008000; text-decoration-color: #008000\">'search function corpus will search through the corpus, returning'</span><span style=\"font-weight: bold\">)</span>,\n",
       "    <span style=\"color: #800080; text-decoration-color: #800080; font-weight: bold\">Document</span><span style=\"font-weight: bold\">(</span><span style=\"color: #808000; text-decoration-color: #808000\">page_content</span>=<span style=\"color: #008000; text-decoration-color: #008000\">'all texts that match the pattern. The corpus can be a single'</span><span style=\"font-weight: bold\">)</span>,\n",
       "    <span style=\"color: #800080; text-decoration-color: #800080; font-weight: bold\">Document</span><span style=\"font-weight: bold\">(</span><span style=\"color: #808000; text-decoration-color: #808000\">page_content</span>=<span style=\"color: #008000; text-decoration-color: #008000\">'document or a collection. For example, the Unix command-line'</span><span style=\"font-weight: bold\">)</span>,\n",
       "    <span style=\"color: #800080; text-decoration-color: #800080; font-weight: bold\">Document</span><span style=\"font-weight: bold\">(</span><span style=\"color: #808000; text-decoration-color: #808000\">page_content</span>=<span style=\"color: #008000; text-decoration-color: #008000\">'tool grep takes a regular expression and returns every line of'</span><span style=\"font-weight: bold\">)</span>,\n",
       "    <span style=\"color: #800080; text-decoration-color: #800080; font-weight: bold\">Document</span><span style=\"font-weight: bold\">(</span><span style=\"color: #808000; text-decoration-color: #808000\">page_content</span>=<span style=\"color: #008000; text-decoration-color: #008000\">'the input document that matches the expression.'</span><span style=\"font-weight: bold\">)</span>,\n",
       "    <span style=\"color: #800080; text-decoration-color: #800080; font-weight: bold\">Document</span><span style=\"font-weight: bold\">(</span><span style=\"color: #808000; text-decoration-color: #808000\">page_content</span>=<span style=\"color: #008000; text-decoration-color: #008000\">'A search can be designed to return every match on a line, if'</span><span style=\"font-weight: bold\">)</span>,\n",
       "    <span style=\"color: #800080; text-decoration-color: #800080; font-weight: bold\">Document</span><span style=\"font-weight: bold\">(</span><span style=\"color: #808000; text-decoration-color: #808000\">page_content</span>=<span style=\"color: #008000; text-decoration-color: #008000\">'there are more than one, or just the first match. In the'</span><span style=\"font-weight: bold\">)</span>,\n",
       "    <span style=\"color: #800080; text-decoration-color: #800080; font-weight: bold\">Document</span><span style=\"font-weight: bold\">(</span><span style=\"color: #808000; text-decoration-color: #808000\">page_content</span>=<span style=\"color: #008000; text-decoration-color: #008000\">'following examples we generally underline the exact part of the'</span><span style=\"font-weight: bold\">)</span>,\n",
       "    <span style=\"color: #800080; text-decoration-color: #800080; font-weight: bold\">Document</span><span style=\"font-weight: bold\">(</span><span style=\"color: #808000; text-decoration-color: #808000\">page_content</span>=<span style=\"color: #008000; text-decoration-color: #008000\">'pattern that matches the regular expression and show only the'</span><span style=\"font-weight: bold\">)</span>,\n",
       "    <span style=\"color: #800080; text-decoration-color: #800080; font-weight: bold\">Document</span><span style=\"font-weight: bold\">(</span><span style=\"color: #808000; text-decoration-color: #808000\">page_content</span>=<span style=\"color: #008000; text-decoration-color: #008000\">\"first match. We'll show regular expressions delimited by slashes\"</span><span style=\"font-weight: bold\">)</span>,\n",
       "    <span style=\"color: #800080; text-decoration-color: #800080; font-weight: bold\">Document</span><span style=\"font-weight: bold\">(</span><span style=\"color: #808000; text-decoration-color: #808000\">page_content</span>=<span style=\"color: #008000; text-decoration-color: #008000\">'but note that slashes are not part of the regular expressions.'</span><span style=\"font-weight: bold\">)</span>,\n",
       "    <span style=\"color: #800080; text-decoration-color: #800080; font-weight: bold\">Document</span><span style=\"font-weight: bold\">(</span><span style=\"color: #808000; text-decoration-color: #808000\">page_content</span>=<span style=\"color: #008000; text-decoration-color: #008000\">\"Regular expressions come in many variants. We'll be describing\"</span><span style=\"font-weight: bold\">)</span>,\n",
       "    <span style=\"color: #800080; text-decoration-color: #800080; font-weight: bold\">Document</span><span style=\"font-weight: bold\">(</span><span style=\"color: #808000; text-decoration-color: #808000\">page_content</span>=<span style=\"color: #008000; text-decoration-color: #008000\">'extended regular expressions; different regular expression'</span><span style=\"font-weight: bold\">)</span>,\n",
       "    <span style=\"color: #800080; text-decoration-color: #800080; font-weight: bold\">Document</span><span style=\"font-weight: bold\">(</span><span style=\"color: #808000; text-decoration-color: #808000\">page_content</span>=<span style=\"color: #008000; text-decoration-color: #008000\">'parsers may only recognize subsets of these, or treat some'</span><span style=\"font-weight: bold\">)</span>,\n",
       "    <span style=\"color: #800080; text-decoration-color: #800080; font-weight: bold\">Document</span><span style=\"font-weight: bold\">(</span><span style=\"color: #808000; text-decoration-color: #808000\">page_content</span>=<span style=\"color: #008000; text-decoration-color: #008000\">'expressions slightly differently. Using an online regular'</span><span style=\"font-weight: bold\">)</span>,\n",
       "    <span style=\"color: #800080; text-decoration-color: #800080; font-weight: bold\">Document</span><span style=\"font-weight: bold\">(</span><span style=\"color: #808000; text-decoration-color: #808000\">page_content</span>=<span style=\"color: #008000; text-decoration-color: #008000\">'expression tester is a handy way to test out your expressions'</span><span style=\"font-weight: bold\">)</span>,\n",
       "    <span style=\"color: #800080; text-decoration-color: #800080; font-weight: bold\">Document</span><span style=\"font-weight: bold\">(</span><span style=\"color: #808000; text-decoration-color: #808000\">page_content</span>=<span style=\"color: #008000; text-decoration-color: #008000\">'and explore these variations.'</span><span style=\"font-weight: bold\">)</span>\n",
       "<span style=\"font-weight: bold\">]</span>\n",
       "</pre>\n"
      ],
      "text/plain": [
       "\u001b[1m[\u001b[0m\n",
       "    \u001b[1;35mDocument\u001b[0m\u001b[1m(\u001b[0m\u001b[33mpage_content\u001b[0m=\u001b[32m'## About Regular Expressions'\u001b[0m\u001b[1m)\u001b[0m,\n",
       "    \u001b[1;35mDocument\u001b[0m\u001b[1m(\u001b[0m\u001b[33mpage_content\u001b[0m=\u001b[32m'One of the unsung successes in standardization in computer'\u001b[0m\u001b[1m)\u001b[0m,\n",
       "    \u001b[1;35mDocument\u001b[0m\u001b[1m(\u001b[0m\u001b[33mpage_content\u001b[0m=\u001b[32m'science has been the regular expression \u001b[0m\u001b[32m(\u001b[0m\u001b[32moften shortened to'\u001b[0m\u001b[1m)\u001b[0m,\n",
       "    \u001b[1;35mDocument\u001b[0m\u001b[1m(\u001b[0m\u001b[33mpage_content\u001b[0m=\u001b[32m'**regex**\u001b[0m\u001b[32m)\u001b[0m\u001b[32m, a language for specifying text search regular'\u001b[0m\u001b[1m)\u001b[0m,\n",
       "    \u001b[1;35mDocument\u001b[0m\u001b[1m(\u001b[0m\u001b[33mpage_content\u001b[0m=\u001b[32m'expression strings. This practical language is used in every'\u001b[0m\u001b[1m)\u001b[0m,\n",
       "    \u001b[1;35mDocument\u001b[0m\u001b[1m(\u001b[0m\u001b[33mpage_content\u001b[0m=\u001b[32m'computer language, word processor, and text processing tools'\u001b[0m\u001b[1m)\u001b[0m,\n",
       "    \u001b[1;35mDocument\u001b[0m\u001b[1m(\u001b[0m\u001b[33mpage_content\u001b[0m=\u001b[32m'like the Unix tools grep or Emacs. Formally, a regular'\u001b[0m\u001b[1m)\u001b[0m,\n",
       "    \u001b[1;35mDocument\u001b[0m\u001b[1m(\u001b[0m\u001b[33mpage_content\u001b[0m=\u001b[32m'expression is an algebraic notation for characterizing a set of'\u001b[0m\u001b[1m)\u001b[0m,\n",
       "    \u001b[1;35mDocument\u001b[0m\u001b[1m(\u001b[0m\u001b[33mpage_content\u001b[0m=\u001b[32m'strings. Regular expressions are particularly useful for'\u001b[0m\u001b[1m)\u001b[0m,\n",
       "    \u001b[1;35mDocument\u001b[0m\u001b[1m(\u001b[0m\u001b[33mpage_content\u001b[0m=\u001b[32m'searching in texts, when we have a **pattern** to search for and'\u001b[0m\u001b[1m)\u001b[0m,\n",
       "    \u001b[1;35mDocument\u001b[0m\u001b[1m(\u001b[0m\u001b[33mpage_content\u001b[0m=\u001b[32m'a **corpus** of texts to search through. A regular expression'\u001b[0m\u001b[1m)\u001b[0m,\n",
       "    \u001b[1;35mDocument\u001b[0m\u001b[1m(\u001b[0m\u001b[33mpage_content\u001b[0m=\u001b[32m'search function corpus will search through the corpus, returning'\u001b[0m\u001b[1m)\u001b[0m,\n",
       "    \u001b[1;35mDocument\u001b[0m\u001b[1m(\u001b[0m\u001b[33mpage_content\u001b[0m=\u001b[32m'all texts that match the pattern. The corpus can be a single'\u001b[0m\u001b[1m)\u001b[0m,\n",
       "    \u001b[1;35mDocument\u001b[0m\u001b[1m(\u001b[0m\u001b[33mpage_content\u001b[0m=\u001b[32m'document or a collection. For example, the Unix command-line'\u001b[0m\u001b[1m)\u001b[0m,\n",
       "    \u001b[1;35mDocument\u001b[0m\u001b[1m(\u001b[0m\u001b[33mpage_content\u001b[0m=\u001b[32m'tool grep takes a regular expression and returns every line of'\u001b[0m\u001b[1m)\u001b[0m,\n",
       "    \u001b[1;35mDocument\u001b[0m\u001b[1m(\u001b[0m\u001b[33mpage_content\u001b[0m=\u001b[32m'the input document that matches the expression.'\u001b[0m\u001b[1m)\u001b[0m,\n",
       "    \u001b[1;35mDocument\u001b[0m\u001b[1m(\u001b[0m\u001b[33mpage_content\u001b[0m=\u001b[32m'A search can be designed to return every match on a line, if'\u001b[0m\u001b[1m)\u001b[0m,\n",
       "    \u001b[1;35mDocument\u001b[0m\u001b[1m(\u001b[0m\u001b[33mpage_content\u001b[0m=\u001b[32m'there are more than one, or just the first match. In the'\u001b[0m\u001b[1m)\u001b[0m,\n",
       "    \u001b[1;35mDocument\u001b[0m\u001b[1m(\u001b[0m\u001b[33mpage_content\u001b[0m=\u001b[32m'following examples we generally underline the exact part of the'\u001b[0m\u001b[1m)\u001b[0m,\n",
       "    \u001b[1;35mDocument\u001b[0m\u001b[1m(\u001b[0m\u001b[33mpage_content\u001b[0m=\u001b[32m'pattern that matches the regular expression and show only the'\u001b[0m\u001b[1m)\u001b[0m,\n",
       "    \u001b[1;35mDocument\u001b[0m\u001b[1m(\u001b[0m\u001b[33mpage_content\u001b[0m=\u001b[32m\"first\u001b[0m\u001b[32m match. We'll show regular expressions delimited by slashes\"\u001b[0m\u001b[1m)\u001b[0m,\n",
       "    \u001b[1;35mDocument\u001b[0m\u001b[1m(\u001b[0m\u001b[33mpage_content\u001b[0m=\u001b[32m'but note that slashes are not part of the regular expressions.'\u001b[0m\u001b[1m)\u001b[0m,\n",
       "    \u001b[1;35mDocument\u001b[0m\u001b[1m(\u001b[0m\u001b[33mpage_content\u001b[0m=\u001b[32m\"Regular\u001b[0m\u001b[32m expressions come in many variants. We'll be describing\"\u001b[0m\u001b[1m)\u001b[0m,\n",
       "    \u001b[1;35mDocument\u001b[0m\u001b[1m(\u001b[0m\u001b[33mpage_content\u001b[0m=\u001b[32m'extended regular expressions; different regular expression'\u001b[0m\u001b[1m)\u001b[0m,\n",
       "    \u001b[1;35mDocument\u001b[0m\u001b[1m(\u001b[0m\u001b[33mpage_content\u001b[0m=\u001b[32m'parsers may only recognize subsets of these, or treat some'\u001b[0m\u001b[1m)\u001b[0m,\n",
       "    \u001b[1;35mDocument\u001b[0m\u001b[1m(\u001b[0m\u001b[33mpage_content\u001b[0m=\u001b[32m'expressions slightly differently. Using an online regular'\u001b[0m\u001b[1m)\u001b[0m,\n",
       "    \u001b[1;35mDocument\u001b[0m\u001b[1m(\u001b[0m\u001b[33mpage_content\u001b[0m=\u001b[32m'expression tester is a handy way to test out your expressions'\u001b[0m\u001b[1m)\u001b[0m,\n",
       "    \u001b[1;35mDocument\u001b[0m\u001b[1m(\u001b[0m\u001b[33mpage_content\u001b[0m=\u001b[32m'and explore these variations.'\u001b[0m\u001b[1m)\u001b[0m\n",
       "\u001b[1m]\u001b[0m\n"
      ]
     },
     "metadata": {},
     "output_type": "display_data"
    }
   ],
   "source": [
    "# 2. Recursive Character Text Splitting\n",
    "print(\"#### Recursive Character Text Splitting ####\")\n",
    "\n",
    "from langchain.text_splitter import RecursiveCharacterTextSplitter\n",
    "\n",
    "text_splitter = RecursiveCharacterTextSplitter(\n",
    "    chunk_size = 65, \n",
    "    chunk_overlap=0\n",
    ") # [\"\\n\\n\", \"\\n\", \" \", \"\"] 65,450\n",
    "\n",
    "print(text_splitter.create_documents([text]))"
   ]
  },
  {
   "cell_type": "code",
   "execution_count": 9,
   "id": "25ac11c4-fb46-44d2-9623-1605f3960383",
   "metadata": {},
   "outputs": [
    {
     "data": {
      "text/html": [
       "<pre style=\"white-space:pre;overflow-x:auto;line-height:normal;font-family:Menlo,'DejaVu Sans Mono',consolas,'Courier New',monospace\">#### Document Specific Splitting ####\n",
       "</pre>\n"
      ],
      "text/plain": [
       "#### Document Specific Splitting ####\n"
      ]
     },
     "metadata": {},
     "output_type": "display_data"
    },
    {
     "data": {
      "text/html": [
       "<pre style=\"white-space:pre;overflow-x:auto;line-height:normal;font-family:Menlo,'DejaVu Sans Mono',consolas,'Courier New',monospace\"><span style=\"font-weight: bold\">[</span>\n",
       "    <span style=\"color: #800080; text-decoration-color: #800080; font-weight: bold\">Document</span><span style=\"font-weight: bold\">(</span>\n",
       "        <span style=\"color: #808000; text-decoration-color: #808000\">page_content</span>=<span style=\"color: #008000; text-decoration-color: #008000\">\"One of the unsung successes in standardization in computer science has been the regular </span>\n",
       "<span style=\"color: #008000; text-decoration-color: #008000\">expression (often shortened to **regex**), a language for specifying text search regular expression strings. This </span>\n",
       "<span style=\"color: #008000; text-decoration-color: #008000\">practical language is used in every computer language, word processor, and text processing tools like the Unix </span>\n",
       "<span style=\"color: #008000; text-decoration-color: #008000\">tools grep or Emacs. Formally, a regular expression is an algebraic notation for characterizing a set of strings. </span>\n",
       "<span style=\"color: #008000; text-decoration-color: #008000\">Regular expressions are particularly useful for searching in texts, when we have a **pattern** to search for and a </span>\n",
       "<span style=\"color: #008000; text-decoration-color: #008000\">**corpus** of texts to search through. A regular expression search function corpus will search through the corpus, </span>\n",
       "<span style=\"color: #008000; text-decoration-color: #008000\">returning all texts that match the pattern. The corpus can be a single document or a collection. For example, the </span>\n",
       "<span style=\"color: #008000; text-decoration-color: #008000\">Unix command-line tool grep takes a regular expression and returns every line of the input document that matches </span>\n",
       "<span style=\"color: #008000; text-decoration-color: #008000\">the expression.  \\nA search can be designed to return every match on a line, if there are more than one, or just </span>\n",
       "<span style=\"color: #008000; text-decoration-color: #008000\">the first match. In the following examples we generally underline the exact part of the pattern that matches the </span>\n",
       "<span style=\"color: #008000; text-decoration-color: #008000\">regular expression and show only the first match. We'll show regular expressions delimited by slashes but note that</span>\n",
       "<span style=\"color: #008000; text-decoration-color: #008000\">slashes are not part of the regular expressions.  \\nRegular expressions come in many variants. We'll be describing </span>\n",
       "<span style=\"color: #008000; text-decoration-color: #008000\">extended regular expressions; different regular expression parsers may only recognize subsets of these, or treat </span>\n",
       "<span style=\"color: #008000; text-decoration-color: #008000\">some expressions slightly differently. Using an online regular expression tester is a handy way to test out your </span>\n",
       "<span style=\"color: #008000; text-decoration-color: #008000\">expressions and explore these variations.\"</span>,\n",
       "        <span style=\"color: #808000; text-decoration-color: #808000\">metadata</span>=<span style=\"font-weight: bold\">{</span><span style=\"color: #008000; text-decoration-color: #008000\">'Header 2'</span>: <span style=\"color: #008000; text-decoration-color: #008000\">'About Regular Expressions'</span><span style=\"font-weight: bold\">}</span>\n",
       "    <span style=\"font-weight: bold\">)</span>\n",
       "<span style=\"font-weight: bold\">]</span>\n",
       "</pre>\n"
      ],
      "text/plain": [
       "\u001b[1m[\u001b[0m\n",
       "    \u001b[1;35mDocument\u001b[0m\u001b[1m(\u001b[0m\n",
       "        \u001b[33mpage_content\u001b[0m=\u001b[32m\"One\u001b[0m\u001b[32m of the unsung successes in standardization in computer science has been the regular \u001b[0m\n",
       "\u001b[32mexpression \u001b[0m\u001b[32m(\u001b[0m\u001b[32moften shortened to **regex**\u001b[0m\u001b[32m)\u001b[0m\u001b[32m, a language for specifying text search regular expression strings. This \u001b[0m\n",
       "\u001b[32mpractical language is used in every computer language, word processor, and text processing tools like the Unix \u001b[0m\n",
       "\u001b[32mtools grep or Emacs. Formally, a regular expression is an algebraic notation for characterizing a set of strings. \u001b[0m\n",
       "\u001b[32mRegular expressions are particularly useful for searching in texts, when we have a **pattern** to search for and a \u001b[0m\n",
       "\u001b[32m**corpus** of texts to search through. A regular expression search function corpus will search through the corpus, \u001b[0m\n",
       "\u001b[32mreturning all texts that match the pattern. The corpus can be a single document or a collection. For example, the \u001b[0m\n",
       "\u001b[32mUnix command-line tool grep takes a regular expression and returns every line of the input document that matches \u001b[0m\n",
       "\u001b[32mthe expression.  \\nA search can be designed to return every match on a line, if there are more than one, or just \u001b[0m\n",
       "\u001b[32mthe first match. In the following examples we generally underline the exact part of the pattern that matches the \u001b[0m\n",
       "\u001b[32mregular expression and show only the first match. We'll show regular expressions delimited by slashes but note that\u001b[0m\n",
       "\u001b[32mslashes are not part of the regular expressions.  \\nRegular expressions come in many variants. We'll be describing \u001b[0m\n",
       "\u001b[32mextended regular expressions; different regular expression parsers may only recognize subsets of these, or treat \u001b[0m\n",
       "\u001b[32msome expressions slightly differently. Using an online regular expression tester is a handy way to test out your \u001b[0m\n",
       "\u001b[32mexpressions and explore these variations.\"\u001b[0m,\n",
       "        \u001b[33mmetadata\u001b[0m=\u001b[1m{\u001b[0m\u001b[32m'Header 2'\u001b[0m: \u001b[32m'About Regular Expressions'\u001b[0m\u001b[1m}\u001b[0m\n",
       "    \u001b[1m)\u001b[0m\n",
       "\u001b[1m]\u001b[0m\n"
      ]
     },
     "metadata": {},
     "output_type": "display_data"
    }
   ],
   "source": [
    "\n",
    "# 3. Document Specific Splitting\n",
    "print(\"#### Document Specific Splitting ####\")\n",
    "\n",
    "# Document Specific Splitting - Markdown\n",
    "from langchain.text_splitter import MarkdownHeaderTextSplitter\n",
    "\n",
    "headers_to_split_on = [\n",
    "    (\"#\", \"Header 1\"),\n",
    "    (\"##\", \"Header 2\"),\n",
    "    (\"###\", \"Header 3\"),\n",
    "]\n",
    "\n",
    "splitter = MarkdownHeaderTextSplitter(\n",
    "    headers_to_split_on=headers_to_split_on\n",
    ")\n",
    "\n",
    "documents = splitter.split_text(text)\n",
    "print(documents)"
   ]
  },
  {
   "cell_type": "code",
   "execution_count": 10,
   "id": "82e2aea3-c903-40c1-88af-c75de8f6eac2",
   "metadata": {},
   "outputs": [
    {
     "data": {
      "text/html": [
       "<pre style=\"white-space:pre;overflow-x:auto;line-height:normal;font-family:Menlo,'DejaVu Sans Mono',consolas,'Courier New',monospace\">#### Semantic Chunking ####\n",
       "</pre>\n"
      ],
      "text/plain": [
       "#### Semantic Chunking ####\n"
      ]
     },
     "metadata": {},
     "output_type": "display_data"
    },
    {
     "data": {
      "text/html": [
       "<pre style=\"white-space:pre;overflow-x:auto;line-height:normal;font-family:Menlo,'DejaVu Sans Mono',consolas,'Courier New',monospace\"><span style=\"font-weight: bold\">[</span>\n",
       "    <span style=\"color: #800080; text-decoration-color: #800080; font-weight: bold\">Document</span><span style=\"font-weight: bold\">(</span>\n",
       "        <span style=\"color: #808000; text-decoration-color: #808000\">page_content</span>=<span style=\"color: #008000; text-decoration-color: #008000\">\"\\n## About Regular Expressions\\nOne of the unsung successes in standardization in computer </span>\n",
       "<span style=\"color: #008000; text-decoration-color: #008000\">science has been the regular expression (often shortened to **regex**), a language for specifying text search </span>\n",
       "<span style=\"color: #008000; text-decoration-color: #008000\">regular expression strings. This practical language is used in every computer language, word processor, and text </span>\n",
       "<span style=\"color: #008000; text-decoration-color: #008000\">processing tools like the Unix tools grep or Emacs. Formally, a regular expression is an algebraic notation for </span>\n",
       "<span style=\"color: #008000; text-decoration-color: #008000\">characterizing a set of strings. Regular expressions are particularly useful for searching in texts, when we have a</span>\n",
       "<span style=\"color: #008000; text-decoration-color: #008000\">**pattern** to search for and a **corpus** of texts to search through. A regular expression search function corpus </span>\n",
       "<span style=\"color: #008000; text-decoration-color: #008000\">will search through the corpus, returning all texts that match the pattern. The corpus can be a single document or </span>\n",
       "<span style=\"color: #008000; text-decoration-color: #008000\">a collection. For example, the Unix command-line tool grep takes a regular expression and returns every line of the</span>\n",
       "<span style=\"color: #008000; text-decoration-color: #008000\">input document that matches the expression. A search can be designed to return every match on a line, if there are </span>\n",
       "<span style=\"color: #008000; text-decoration-color: #008000\">more than one, or just the first match. In the following examples we generally underline the exact part of the </span>\n",
       "<span style=\"color: #008000; text-decoration-color: #008000\">pattern that matches the regular expression and show only the first match. We'll show regular expressions delimited</span>\n",
       "<span style=\"color: #008000; text-decoration-color: #008000\">by slashes but note that slashes are not part of the regular expressions. Regular expressions come in many </span>\n",
       "<span style=\"color: #008000; text-decoration-color: #008000\">variants.\"</span>\n",
       "    <span style=\"font-weight: bold\">)</span>,\n",
       "    <span style=\"color: #800080; text-decoration-color: #800080; font-weight: bold\">Document</span><span style=\"font-weight: bold\">(</span>\n",
       "        <span style=\"color: #808000; text-decoration-color: #808000\">page_content</span>=<span style=\"color: #008000; text-decoration-color: #008000\">\"We'll be describing extended regular expressions; different regular expression parsers may </span>\n",
       "<span style=\"color: #008000; text-decoration-color: #008000\">only recognize subsets of these, or treat some expressions slightly differently. Using an online regular expression</span>\n",
       "<span style=\"color: #008000; text-decoration-color: #008000\">tester is a handy way to test out your expressions and explore these variations. \"</span>\n",
       "    <span style=\"font-weight: bold\">)</span>\n",
       "<span style=\"font-weight: bold\">]</span>\n",
       "</pre>\n"
      ],
      "text/plain": [
       "\u001b[1m[\u001b[0m\n",
       "    \u001b[1;35mDocument\u001b[0m\u001b[1m(\u001b[0m\n",
       "        \u001b[33mpage_content\u001b[0m=\u001b[32m\"\\n## About Regular Expressions\\nOne of the unsung successes in standardization in computer \u001b[0m\n",
       "\u001b[32mscience has been the regular expression \u001b[0m\u001b[32m(\u001b[0m\u001b[32moften shortened to **regex**\u001b[0m\u001b[32m)\u001b[0m\u001b[32m, a language for specifying text search \u001b[0m\n",
       "\u001b[32mregular expression strings. This practical language is used in every computer language, word processor, and text \u001b[0m\n",
       "\u001b[32mprocessing tools like the Unix tools grep or Emacs. Formally, a regular expression is an algebraic notation for \u001b[0m\n",
       "\u001b[32mcharacterizing a set of strings. Regular expressions are particularly useful for searching in texts, when we have a\u001b[0m\n",
       "\u001b[32m**pattern** to search for and a **corpus** of texts to search through. A regular expression search function corpus \u001b[0m\n",
       "\u001b[32mwill search through the corpus, returning all texts that match the pattern. The corpus can be a single document or \u001b[0m\n",
       "\u001b[32ma collection. For example, the Unix command-line tool grep takes a regular expression and returns every line of the\u001b[0m\n",
       "\u001b[32minput document that matches the expression. A search can be designed to return every match on a line, if there are \u001b[0m\n",
       "\u001b[32mmore than one, or just the first match. In the following examples we generally underline the exact part of the \u001b[0m\n",
       "\u001b[32mpattern that matches the regular expression and show only the first match. We'll show regular expressions delimited\u001b[0m\n",
       "\u001b[32mby slashes but note that slashes are not part of the regular expressions. Regular expressions come in many \u001b[0m\n",
       "\u001b[32mvariants.\"\u001b[0m\n",
       "    \u001b[1m)\u001b[0m,\n",
       "    \u001b[1;35mDocument\u001b[0m\u001b[1m(\u001b[0m\n",
       "        \u001b[33mpage_content\u001b[0m=\u001b[32m\"We\u001b[0m\u001b[32m'll be describing extended regular expressions; different regular expression parsers may \u001b[0m\n",
       "\u001b[32monly recognize subsets of these, or treat some expressions slightly differently. Using an online regular expression\u001b[0m\n",
       "\u001b[32mtester is a handy way to test out your expressions and explore these variations. \"\u001b[0m\n",
       "    \u001b[1m)\u001b[0m\n",
       "\u001b[1m]\u001b[0m\n"
      ]
     },
     "metadata": {},
     "output_type": "display_data"
    }
   ],
   "source": [
    "# 4. Semantic Chunking\n",
    "print(\"#### Semantic Chunking ####\")\n",
    "\n",
    "from langchain_experimental.text_splitter import SemanticChunker\n",
    "from langchain_openai.embeddings import OpenAIEmbeddings\n",
    "\n",
    "# Percentile - all differences between sentences are calculated, and then any difference greater than the X percentile is split\n",
    "text_splitter = SemanticChunker(OpenAIEmbeddings())\n",
    "text_splitter = SemanticChunker(\n",
    "    OpenAIEmbeddings(), \n",
    "    breakpoint_threshold_type=\"percentile\" # \"standard_deviation\", \"interquartile\"\n",
    ")\n",
    "documents = text_splitter.create_documents([text])\n",
    "print(documents)"
   ]
  },
  {
   "cell_type": "code",
   "execution_count": 11,
   "id": "b765f789-d334-4f1e-8fec-3e753a2ed39c",
   "metadata": {},
   "outputs": [
    {
     "data": {
      "text/html": [
       "<pre style=\"white-space:pre;overflow-x:auto;line-height:normal;font-family:Menlo,'DejaVu Sans Mono',consolas,'Courier New',monospace\">#### Proposition-Based Chunking ####\n",
       "</pre>\n"
      ],
      "text/plain": [
       "#### Proposition-Based Chunking ####\n"
      ]
     },
     "metadata": {},
     "output_type": "display_data"
    },
    {
     "data": {
      "text/html": [
       "<pre style=\"white-space:pre;overflow-x:auto;line-height:normal;font-family:Menlo,'DejaVu Sans Mono',consolas,'Courier New',monospace\"><span style=\"font-weight: bold\">[</span>\n",
       "    <span style=\"color: #008000; text-decoration-color: #008000\">'## About Regular Expressions\\nOne of the unsung successes in standardization in computer science has been the </span>\n",
       "<span style=\"color: #008000; text-decoration-color: #008000\">regular expression (often shortened to **regex**), a language for specifying text search regular expression </span>\n",
       "<span style=\"color: #008000; text-decoration-color: #008000\">strings. This practical language is used in every computer language, word processor, and text processing tools like</span>\n",
       "<span style=\"color: #008000; text-decoration-color: #008000\">the Unix tools grep or Emacs. Formally, a regular expression is an algebraic notation for characterizing a set of </span>\n",
       "<span style=\"color: #008000; text-decoration-color: #008000\">strings. Regular expressions are particularly useful for searching in texts, when we have a **pattern** to search </span>\n",
       "<span style=\"color: #008000; text-decoration-color: #008000\">for and a **corpus** of texts to search through. A regular expression search function corpus will search through </span>\n",
       "<span style=\"color: #008000; text-decoration-color: #008000\">the corpus, returning all texts that match the pattern. The corpus can be a single document or a collection. For </span>\n",
       "<span style=\"color: #008000; text-decoration-color: #008000\">example, the Unix command-line tool grep takes a regular expression and returns every line of the input document </span>\n",
       "<span style=\"color: #008000; text-decoration-color: #008000\">that matches the expression.'</span>,\n",
       "    <span style=\"color: #008000; text-decoration-color: #008000\">\"A search can be designed to return every match on a line, if there are more than one, or just the first match.</span>\n",
       "<span style=\"color: #008000; text-decoration-color: #008000\">In the following examples we generally underline the exact part of the pattern that matches the regular expression </span>\n",
       "<span style=\"color: #008000; text-decoration-color: #008000\">and show only the first match. We'll show regular expressions delimited by slashes but note that slashes are not </span>\n",
       "<span style=\"color: #008000; text-decoration-color: #008000\">part of the regular expressions.\"</span>,\n",
       "    <span style=\"color: #008000; text-decoration-color: #008000\">\"Regular expressions come in many variants. We'll be describing extended regular expressions; different regular</span>\n",
       "<span style=\"color: #008000; text-decoration-color: #008000\">expression parsers may only recognize subsets of these, or treat some expressions slightly differently. Using an </span>\n",
       "<span style=\"color: #008000; text-decoration-color: #008000\">online regular expression tester is a handy way to test out your expressions and explore these variations.\"</span>\n",
       "<span style=\"font-weight: bold\">]</span>\n",
       "</pre>\n"
      ],
      "text/plain": [
       "\u001b[1m[\u001b[0m\n",
       "    \u001b[32m'## About Regular Expressions\\nOne of the unsung successes in standardization in computer science has been the \u001b[0m\n",
       "\u001b[32mregular expression \u001b[0m\u001b[32m(\u001b[0m\u001b[32moften shortened to **regex**\u001b[0m\u001b[32m)\u001b[0m\u001b[32m, a language for specifying text search regular expression \u001b[0m\n",
       "\u001b[32mstrings. This practical language is used in every computer language, word processor, and text processing tools like\u001b[0m\n",
       "\u001b[32mthe Unix tools grep or Emacs. Formally, a regular expression is an algebraic notation for characterizing a set of \u001b[0m\n",
       "\u001b[32mstrings. Regular expressions are particularly useful for searching in texts, when we have a **pattern** to search \u001b[0m\n",
       "\u001b[32mfor and a **corpus** of texts to search through. A regular expression search function corpus will search through \u001b[0m\n",
       "\u001b[32mthe corpus, returning all texts that match the pattern. The corpus can be a single document or a collection. For \u001b[0m\n",
       "\u001b[32mexample, the Unix command-line tool grep takes a regular expression and returns every line of the input document \u001b[0m\n",
       "\u001b[32mthat matches the expression.'\u001b[0m,\n",
       "    \u001b[32m\"A search can be designed to return every match on a line, if there are more than one, or just the first match.\u001b[0m\n",
       "\u001b[32mIn the following examples we generally underline the exact part of the pattern that matches the regular expression \u001b[0m\n",
       "\u001b[32mand show only the first match. We'll show regular expressions delimited by slashes but note that slashes are not \u001b[0m\n",
       "\u001b[32mpart of the regular expressions.\"\u001b[0m,\n",
       "    \u001b[32m\"Regular expressions come in many variants. We'll be describing extended regular expressions; different regular\u001b[0m\n",
       "\u001b[32mexpression parsers may only recognize subsets of these, or treat some expressions slightly differently. Using an \u001b[0m\n",
       "\u001b[32monline regular expression tester is a handy way to test out your expressions and explore these variations.\"\u001b[0m\n",
       "\u001b[1m]\u001b[0m\n"
      ]
     },
     "metadata": {},
     "output_type": "display_data"
    },
    {
     "data": {
      "text/html": [
       "<pre style=\"white-space:pre;overflow-x:auto;line-height:normal;font-family:Menlo,'DejaVu Sans Mono',consolas,'Courier New',monospace\">Done with <span style=\"color: #008080; text-decoration-color: #008080; font-weight: bold\">0</span>\n",
       "</pre>\n"
      ],
      "text/plain": [
       "Done with \u001b[1;36m0\u001b[0m\n"
      ]
     },
     "metadata": {},
     "output_type": "display_data"
    },
    {
     "data": {
      "text/html": [
       "<pre style=\"white-space:pre;overflow-x:auto;line-height:normal;font-family:Menlo,'DejaVu Sans Mono',consolas,'Courier New',monospace\">Done with <span style=\"color: #008080; text-decoration-color: #008080; font-weight: bold\">1</span>\n",
       "</pre>\n"
      ],
      "text/plain": [
       "Done with \u001b[1;36m1\u001b[0m\n"
      ]
     },
     "metadata": {},
     "output_type": "display_data"
    },
    {
     "data": {
      "text/html": [
       "<pre style=\"white-space:pre;overflow-x:auto;line-height:normal;font-family:Menlo,'DejaVu Sans Mono',consolas,'Courier New',monospace\">Done with <span style=\"color: #008080; text-decoration-color: #008080; font-weight: bold\">2</span>\n",
       "</pre>\n"
      ],
      "text/plain": [
       "Done with \u001b[1;36m2\u001b[0m\n"
      ]
     },
     "metadata": {},
     "output_type": "display_data"
    },
    {
     "data": {
      "text/html": [
       "<pre style=\"white-space:pre;overflow-x:auto;line-height:normal;font-family:Menlo,'DejaVu Sans Mono',consolas,'Courier New',monospace\"><span style=\"font-weight: bold\">[</span>\n",
       "    <span style=\"color: #008000; text-decoration-color: #008000\">'One of the unsung successes in standardization in computer science has been the regular expression.'</span>,\n",
       "    <span style=\"color: #008000; text-decoration-color: #008000\">'Regular expression is often shortened to regex.'</span>,\n",
       "    <span style=\"color: #008000; text-decoration-color: #008000\">'Regular expression is a language for specifying text search regular expression strings.'</span>,\n",
       "    <span style=\"color: #008000; text-decoration-color: #008000\">'Regular expression is used in every computer language.'</span>,\n",
       "    <span style=\"color: #008000; text-decoration-color: #008000\">'Regular expression is used in every word processor.'</span>,\n",
       "    <span style=\"color: #008000; text-decoration-color: #008000\">'Regular expression is used in text processing tools like the Unix tools grep or Emacs.'</span>,\n",
       "    <span style=\"color: #008000; text-decoration-color: #008000\">'Formally, a regular expression is an algebraic notation for characterizing a set of strings.'</span>,\n",
       "    <span style=\"color: #008000; text-decoration-color: #008000\">'Regular expressions are particularly useful for searching in texts.'</span>,\n",
       "    <span style=\"color: #008000; text-decoration-color: #008000\">'Regular expressions are used when there is a pattern to search for.'</span>,\n",
       "    <span style=\"color: #008000; text-decoration-color: #008000\">'Regular expressions are used when there is a corpus of texts to search through.'</span>,\n",
       "    <span style=\"color: #008000; text-decoration-color: #008000\">'A regular expression search function will search through the corpus.'</span>,\n",
       "    <span style=\"color: #008000; text-decoration-color: #008000\">'A regular expression search function returns all texts that match the pattern.'</span>,\n",
       "    <span style=\"color: #008000; text-decoration-color: #008000\">'The corpus can be a single document.'</span>,\n",
       "    <span style=\"color: #008000; text-decoration-color: #008000\">'The corpus can be a collection.'</span>,\n",
       "    <span style=\"color: #008000; text-decoration-color: #008000\">'The Unix command-line tool grep takes a regular expression.'</span>,\n",
       "    <span style=\"color: #008000; text-decoration-color: #008000\">'The Unix command-line tool grep returns every line of the input document that matches the expression.'</span>,\n",
       "    <span style=\"color: #008000; text-decoration-color: #008000\">'A search can be designed to return every match on a line if there are more than one.'</span>,\n",
       "    <span style=\"color: #008000; text-decoration-color: #008000\">'A search can be designed to return just the first match on a line.'</span>,\n",
       "    <span style=\"color: #008000; text-decoration-color: #008000\">'In the following examples, the exact part of the pattern that matches the regular expression is generally </span>\n",
       "<span style=\"color: #008000; text-decoration-color: #008000\">underlined.'</span>,\n",
       "    <span style=\"color: #008000; text-decoration-color: #008000\">'In the following examples, only the first match is shown.'</span>,\n",
       "    <span style=\"color: #008000; text-decoration-color: #008000\">'Regular expressions in the examples are delimited by slashes.'</span>,\n",
       "    <span style=\"color: #008000; text-decoration-color: #008000\">'Slashes are not part of the regular expressions.'</span>,\n",
       "    <span style=\"color: #008000; text-decoration-color: #008000\">'Regular expressions come in many variants.'</span>,\n",
       "    <span style=\"color: #008000; text-decoration-color: #008000\">'We will be describing extended regular expressions.'</span>,\n",
       "    <span style=\"color: #008000; text-decoration-color: #008000\">'Different regular expression parsers may only recognize subsets of extended regular expressions.'</span>,\n",
       "    <span style=\"color: #008000; text-decoration-color: #008000\">'Different regular expression parsers may treat some expressions slightly differently.'</span>,\n",
       "    <span style=\"color: #008000; text-decoration-color: #008000\">'Using an online regular expression tester is a handy way to test out your regular expressions.'</span>,\n",
       "    <span style=\"color: #008000; text-decoration-color: #008000\">'Using an online regular expression tester is a handy way to explore variations of regular expressions.'</span>\n",
       "<span style=\"font-weight: bold\">]</span>\n",
       "</pre>\n"
      ],
      "text/plain": [
       "\u001b[1m[\u001b[0m\n",
       "    \u001b[32m'One of the unsung successes in standardization in computer science has been the regular expression.'\u001b[0m,\n",
       "    \u001b[32m'Regular expression is often shortened to regex.'\u001b[0m,\n",
       "    \u001b[32m'Regular expression is a language for specifying text search regular expression strings.'\u001b[0m,\n",
       "    \u001b[32m'Regular expression is used in every computer language.'\u001b[0m,\n",
       "    \u001b[32m'Regular expression is used in every word processor.'\u001b[0m,\n",
       "    \u001b[32m'Regular expression is used in text processing tools like the Unix tools grep or Emacs.'\u001b[0m,\n",
       "    \u001b[32m'Formally, a regular expression is an algebraic notation for characterizing a set of strings.'\u001b[0m,\n",
       "    \u001b[32m'Regular expressions are particularly useful for searching in texts.'\u001b[0m,\n",
       "    \u001b[32m'Regular expressions are used when there is a pattern to search for.'\u001b[0m,\n",
       "    \u001b[32m'Regular expressions are used when there is a corpus of texts to search through.'\u001b[0m,\n",
       "    \u001b[32m'A regular expression search function will search through the corpus.'\u001b[0m,\n",
       "    \u001b[32m'A regular expression search function returns all texts that match the pattern.'\u001b[0m,\n",
       "    \u001b[32m'The corpus can be a single document.'\u001b[0m,\n",
       "    \u001b[32m'The corpus can be a collection.'\u001b[0m,\n",
       "    \u001b[32m'The Unix command-line tool grep takes a regular expression.'\u001b[0m,\n",
       "    \u001b[32m'The Unix command-line tool grep returns every line of the input document that matches the expression.'\u001b[0m,\n",
       "    \u001b[32m'A search can be designed to return every match on a line if there are more than one.'\u001b[0m,\n",
       "    \u001b[32m'A search can be designed to return just the first match on a line.'\u001b[0m,\n",
       "    \u001b[32m'In the following examples, the exact part of the pattern that matches the regular expression is generally \u001b[0m\n",
       "\u001b[32munderlined.'\u001b[0m,\n",
       "    \u001b[32m'In the following examples, only the first match is shown.'\u001b[0m,\n",
       "    \u001b[32m'Regular expressions in the examples are delimited by slashes.'\u001b[0m,\n",
       "    \u001b[32m'Slashes are not part of the regular expressions.'\u001b[0m,\n",
       "    \u001b[32m'Regular expressions come in many variants.'\u001b[0m,\n",
       "    \u001b[32m'We will be describing extended regular expressions.'\u001b[0m,\n",
       "    \u001b[32m'Different regular expression parsers may only recognize subsets of extended regular expressions.'\u001b[0m,\n",
       "    \u001b[32m'Different regular expression parsers may treat some expressions slightly differently.'\u001b[0m,\n",
       "    \u001b[32m'Using an online regular expression tester is a handy way to test out your regular expressions.'\u001b[0m,\n",
       "    \u001b[32m'Using an online regular expression tester is a handy way to explore variations of regular expressions.'\u001b[0m\n",
       "\u001b[1m]\u001b[0m\n"
      ]
     },
     "metadata": {},
     "output_type": "display_data"
    },
    {
     "data": {
      "text/html": [
       "<pre style=\"white-space:pre;overflow-x:auto;line-height:normal;font-family:Menlo,'DejaVu Sans Mono',consolas,'Courier New',monospace\">You have <span style=\"color: #008080; text-decoration-color: #008080; font-weight: bold\">28</span> propositions\n",
       "</pre>\n"
      ],
      "text/plain": [
       "You have \u001b[1;36m28\u001b[0m propositions\n"
      ]
     },
     "metadata": {},
     "output_type": "display_data"
    },
    {
     "data": {
      "text/html": [
       "<pre style=\"white-space:pre;overflow-x:auto;line-height:normal;font-family:Menlo,'DejaVu Sans Mono',consolas,'Courier New',monospace\">#### Agentic Chunking ####\n",
       "</pre>\n"
      ],
      "text/plain": [
       "#### Agentic Chunking ####\n"
      ]
     },
     "metadata": {},
     "output_type": "display_data"
    },
    {
     "data": {
      "text/html": [
       "<pre style=\"white-space:pre;overflow-x:auto;line-height:normal;font-family:Menlo,'DejaVu Sans Mono',consolas,'Courier New',monospace\">\n",
       "Adding: <span style=\"color: #008000; text-decoration-color: #008000\">'One of the unsung successes in standardization in computer science has been the regular expression.'</span>\n",
       "</pre>\n"
      ],
      "text/plain": [
       "\n",
       "Adding: \u001b[32m'One of the unsung successes in standardization in computer science has been the regular expression.'\u001b[0m\n"
      ]
     },
     "metadata": {},
     "output_type": "display_data"
    },
    {
     "data": {
      "text/html": [
       "<pre style=\"white-space:pre;overflow-x:auto;line-height:normal;font-family:Menlo,'DejaVu Sans Mono',consolas,'Courier New',monospace\">No chunks, creating a new one\n",
       "</pre>\n"
      ],
      "text/plain": [
       "No chunks, creating a new one\n"
      ]
     },
     "metadata": {},
     "output_type": "display_data"
    },
    {
     "data": {
      "text/html": [
       "<pre style=\"white-space:pre;overflow-x:auto;line-height:normal;font-family:Menlo,'DejaVu Sans Mono',consolas,'Courier New',monospace\">Created new chunk <span style=\"font-weight: bold\">(</span>48b26<span style=\"font-weight: bold\">)</span>: Computer Science Achievements\n",
       "</pre>\n"
      ],
      "text/plain": [
       "Created new chunk \u001b[1m(\u001b[0m48b26\u001b[1m)\u001b[0m: Computer Science Achievements\n"
      ]
     },
     "metadata": {},
     "output_type": "display_data"
    },
    {
     "data": {
      "text/html": [
       "<pre style=\"white-space:pre;overflow-x:auto;line-height:normal;font-family:Menlo,'DejaVu Sans Mono',consolas,'Courier New',monospace\">\n",
       "Adding: <span style=\"color: #008000; text-decoration-color: #008000\">'Regular expression is often shortened to regex.'</span>\n",
       "</pre>\n"
      ],
      "text/plain": [
       "\n",
       "Adding: \u001b[32m'Regular expression is often shortened to regex.'\u001b[0m\n"
      ]
     },
     "metadata": {},
     "output_type": "display_data"
    },
    {
     "data": {
      "text/html": [
       "<pre style=\"white-space:pre;overflow-x:auto;line-height:normal;font-family:Menlo,'DejaVu Sans Mono',consolas,'Courier New',monospace\">No chunks found\n",
       "</pre>\n"
      ],
      "text/plain": [
       "No chunks found\n"
      ]
     },
     "metadata": {},
     "output_type": "display_data"
    },
    {
     "data": {
      "text/html": [
       "<pre style=\"white-space:pre;overflow-x:auto;line-height:normal;font-family:Menlo,'DejaVu Sans Mono',consolas,'Courier New',monospace\">Created new chunk <span style=\"font-weight: bold\">(</span><span style=\"color: #008080; text-decoration-color: #008080; font-weight: bold\">85160</span><span style=\"font-weight: bold\">)</span>: Programming Terminology\n",
       "</pre>\n"
      ],
      "text/plain": [
       "Created new chunk \u001b[1m(\u001b[0m\u001b[1;36m85160\u001b[0m\u001b[1m)\u001b[0m: Programming Terminology\n"
      ]
     },
     "metadata": {},
     "output_type": "display_data"
    },
    {
     "data": {
      "text/html": [
       "<pre style=\"white-space:pre;overflow-x:auto;line-height:normal;font-family:Menlo,'DejaVu Sans Mono',consolas,'Courier New',monospace\">\n",
       "Adding: <span style=\"color: #008000; text-decoration-color: #008000\">'Regular expression is a language for specifying text search regular expression strings.'</span>\n",
       "</pre>\n"
      ],
      "text/plain": [
       "\n",
       "Adding: \u001b[32m'Regular expression is a language for specifying text search regular expression strings.'\u001b[0m\n"
      ]
     },
     "metadata": {},
     "output_type": "display_data"
    },
    {
     "data": {
      "text/html": [
       "<pre style=\"white-space:pre;overflow-x:auto;line-height:normal;font-family:Menlo,'DejaVu Sans Mono',consolas,'Courier New',monospace\">Chunk Found <span style=\"font-weight: bold\">(</span><span style=\"color: #008080; text-decoration-color: #008080; font-weight: bold\">85160</span><span style=\"font-weight: bold\">)</span>, adding to: Programming Terminology\n",
       "</pre>\n"
      ],
      "text/plain": [
       "Chunk Found \u001b[1m(\u001b[0m\u001b[1;36m85160\u001b[0m\u001b[1m)\u001b[0m, adding to: Programming Terminology\n"
      ]
     },
     "metadata": {},
     "output_type": "display_data"
    },
    {
     "data": {
      "text/html": [
       "<pre style=\"white-space:pre;overflow-x:auto;line-height:normal;font-family:Menlo,'DejaVu Sans Mono',consolas,'Courier New',monospace\">\n",
       "Adding: <span style=\"color: #008000; text-decoration-color: #008000\">'Regular expression is used in every computer language.'</span>\n",
       "</pre>\n"
      ],
      "text/plain": [
       "\n",
       "Adding: \u001b[32m'Regular expression is used in every computer language.'\u001b[0m\n"
      ]
     },
     "metadata": {},
     "output_type": "display_data"
    },
    {
     "data": {
      "text/html": [
       "<pre style=\"white-space:pre;overflow-x:auto;line-height:normal;font-family:Menlo,'DejaVu Sans Mono',consolas,'Courier New',monospace\">Chunk Found <span style=\"font-weight: bold\">(</span><span style=\"color: #008080; text-decoration-color: #008080; font-weight: bold\">85160</span><span style=\"font-weight: bold\">)</span>, adding to: Regular Expressions in Programming\n",
       "</pre>\n"
      ],
      "text/plain": [
       "Chunk Found \u001b[1m(\u001b[0m\u001b[1;36m85160\u001b[0m\u001b[1m)\u001b[0m, adding to: Regular Expressions in Programming\n"
      ]
     },
     "metadata": {},
     "output_type": "display_data"
    },
    {
     "data": {
      "text/html": [
       "<pre style=\"white-space:pre;overflow-x:auto;line-height:normal;font-family:Menlo,'DejaVu Sans Mono',consolas,'Courier New',monospace\">\n",
       "Adding: <span style=\"color: #008000; text-decoration-color: #008000\">'Regular expression is used in every word processor.'</span>\n",
       "</pre>\n"
      ],
      "text/plain": [
       "\n",
       "Adding: \u001b[32m'Regular expression is used in every word processor.'\u001b[0m\n"
      ]
     },
     "metadata": {},
     "output_type": "display_data"
    },
    {
     "data": {
      "text/html": [
       "<pre style=\"white-space:pre;overflow-x:auto;line-height:normal;font-family:Menlo,'DejaVu Sans Mono',consolas,'Courier New',monospace\">Chunk Found <span style=\"font-weight: bold\">(</span><span style=\"color: #008080; text-decoration-color: #008080; font-weight: bold\">85160</span><span style=\"font-weight: bold\">)</span>, adding to: Understanding Regular Expressions\n",
       "</pre>\n"
      ],
      "text/plain": [
       "Chunk Found \u001b[1m(\u001b[0m\u001b[1;36m85160\u001b[0m\u001b[1m)\u001b[0m, adding to: Understanding Regular Expressions\n"
      ]
     },
     "metadata": {},
     "output_type": "display_data"
    },
    {
     "data": {
      "text/html": [
       "<pre style=\"white-space:pre;overflow-x:auto;line-height:normal;font-family:Menlo,'DejaVu Sans Mono',consolas,'Courier New',monospace\">\n",
       "Adding: <span style=\"color: #008000; text-decoration-color: #008000\">'Regular expression is used in text processing tools like the Unix tools grep or Emacs.'</span>\n",
       "</pre>\n"
      ],
      "text/plain": [
       "\n",
       "Adding: \u001b[32m'Regular expression is used in text processing tools like the Unix tools grep or Emacs.'\u001b[0m\n"
      ]
     },
     "metadata": {},
     "output_type": "display_data"
    },
    {
     "data": {
      "text/html": [
       "<pre style=\"white-space:pre;overflow-x:auto;line-height:normal;font-family:Menlo,'DejaVu Sans Mono',consolas,'Courier New',monospace\">Chunk Found <span style=\"font-weight: bold\">(</span><span style=\"color: #008080; text-decoration-color: #008080; font-weight: bold\">85160</span><span style=\"font-weight: bold\">)</span>, adding to: Regular Expressions in Computing\n",
       "</pre>\n"
      ],
      "text/plain": [
       "Chunk Found \u001b[1m(\u001b[0m\u001b[1;36m85160\u001b[0m\u001b[1m)\u001b[0m, adding to: Regular Expressions in Computing\n"
      ]
     },
     "metadata": {},
     "output_type": "display_data"
    },
    {
     "data": {
      "text/html": [
       "<pre style=\"white-space:pre;overflow-x:auto;line-height:normal;font-family:Menlo,'DejaVu Sans Mono',consolas,'Courier New',monospace\">\n",
       "Adding: <span style=\"color: #008000; text-decoration-color: #008000\">'Formally, a regular expression is an algebraic notation for characterizing a set of strings.'</span>\n",
       "</pre>\n"
      ],
      "text/plain": [
       "\n",
       "Adding: \u001b[32m'Formally, a regular expression is an algebraic notation for characterizing a set of strings.'\u001b[0m\n"
      ]
     },
     "metadata": {},
     "output_type": "display_data"
    },
    {
     "data": {
      "text/html": [
       "<pre style=\"white-space:pre;overflow-x:auto;line-height:normal;font-family:Menlo,'DejaVu Sans Mono',consolas,'Courier New',monospace\">Chunk Found <span style=\"font-weight: bold\">(</span><span style=\"color: #008080; text-decoration-color: #008080; font-weight: bold\">85160</span><span style=\"font-weight: bold\">)</span>, adding to: Regular Expressions: Concept, Usage, and Applications\n",
       "</pre>\n"
      ],
      "text/plain": [
       "Chunk Found \u001b[1m(\u001b[0m\u001b[1;36m85160\u001b[0m\u001b[1m)\u001b[0m, adding to: Regular Expressions: Concept, Usage, and Applications\n"
      ]
     },
     "metadata": {},
     "output_type": "display_data"
    },
    {
     "data": {
      "text/html": [
       "<pre style=\"white-space:pre;overflow-x:auto;line-height:normal;font-family:Menlo,'DejaVu Sans Mono',consolas,'Courier New',monospace\">\n",
       "Adding: <span style=\"color: #008000; text-decoration-color: #008000\">'Regular expressions are particularly useful for searching in texts.'</span>\n",
       "</pre>\n"
      ],
      "text/plain": [
       "\n",
       "Adding: \u001b[32m'Regular expressions are particularly useful for searching in texts.'\u001b[0m\n"
      ]
     },
     "metadata": {},
     "output_type": "display_data"
    },
    {
     "data": {
      "text/html": [
       "<pre style=\"white-space:pre;overflow-x:auto;line-height:normal;font-family:Menlo,'DejaVu Sans Mono',consolas,'Courier New',monospace\">Chunk Found <span style=\"font-weight: bold\">(</span><span style=\"color: #008080; text-decoration-color: #008080; font-weight: bold\">85160</span><span style=\"font-weight: bold\">)</span>, adding to: Regular Expressions in Computing and Text Processing\n",
       "</pre>\n"
      ],
      "text/plain": [
       "Chunk Found \u001b[1m(\u001b[0m\u001b[1;36m85160\u001b[0m\u001b[1m)\u001b[0m, adding to: Regular Expressions in Computing and Text Processing\n"
      ]
     },
     "metadata": {},
     "output_type": "display_data"
    },
    {
     "data": {
      "text/html": [
       "<pre style=\"white-space:pre;overflow-x:auto;line-height:normal;font-family:Menlo,'DejaVu Sans Mono',consolas,'Courier New',monospace\">\n",
       "Adding: <span style=\"color: #008000; text-decoration-color: #008000\">'Regular expressions are used when there is a pattern to search for.'</span>\n",
       "</pre>\n"
      ],
      "text/plain": [
       "\n",
       "Adding: \u001b[32m'Regular expressions are used when there is a pattern to search for.'\u001b[0m\n"
      ]
     },
     "metadata": {},
     "output_type": "display_data"
    },
    {
     "data": {
      "text/html": [
       "<pre style=\"white-space:pre;overflow-x:auto;line-height:normal;font-family:Menlo,'DejaVu Sans Mono',consolas,'Courier New',monospace\">Chunk Found <span style=\"font-weight: bold\">(</span><span style=\"color: #008080; text-decoration-color: #008080; font-weight: bold\">85160</span><span style=\"font-weight: bold\">)</span>, adding to: Regular Expressions: Concepts, Uses, and Applications\n",
       "</pre>\n"
      ],
      "text/plain": [
       "Chunk Found \u001b[1m(\u001b[0m\u001b[1;36m85160\u001b[0m\u001b[1m)\u001b[0m, adding to: Regular Expressions: Concepts, Uses, and Applications\n"
      ]
     },
     "metadata": {},
     "output_type": "display_data"
    },
    {
     "data": {
      "text/html": [
       "<pre style=\"white-space:pre;overflow-x:auto;line-height:normal;font-family:Menlo,'DejaVu Sans Mono',consolas,'Courier New',monospace\">\n",
       "Adding: <span style=\"color: #008000; text-decoration-color: #008000\">'Regular expressions are used when there is a corpus of texts to search through.'</span>\n",
       "</pre>\n"
      ],
      "text/plain": [
       "\n",
       "Adding: \u001b[32m'Regular expressions are used when there is a corpus of texts to search through.'\u001b[0m\n"
      ]
     },
     "metadata": {},
     "output_type": "display_data"
    },
    {
     "data": {
      "text/html": [
       "<pre style=\"white-space:pre;overflow-x:auto;line-height:normal;font-family:Menlo,'DejaVu Sans Mono',consolas,'Courier New',monospace\">Chunk Found <span style=\"font-weight: bold\">(</span><span style=\"color: #008080; text-decoration-color: #008080; font-weight: bold\">85160</span><span style=\"font-weight: bold\">)</span>, adding to: Regular Expressions in Computing and Text Processing\n",
       "</pre>\n"
      ],
      "text/plain": [
       "Chunk Found \u001b[1m(\u001b[0m\u001b[1;36m85160\u001b[0m\u001b[1m)\u001b[0m, adding to: Regular Expressions in Computing and Text Processing\n"
      ]
     },
     "metadata": {},
     "output_type": "display_data"
    },
    {
     "data": {
      "text/html": [
       "<pre style=\"white-space:pre;overflow-x:auto;line-height:normal;font-family:Menlo,'DejaVu Sans Mono',consolas,'Courier New',monospace\">\n",
       "Adding: <span style=\"color: #008000; text-decoration-color: #008000\">'A regular expression search function will search through the corpus.'</span>\n",
       "</pre>\n"
      ],
      "text/plain": [
       "\n",
       "Adding: \u001b[32m'A regular expression search function will search through the corpus.'\u001b[0m\n"
      ]
     },
     "metadata": {},
     "output_type": "display_data"
    },
    {
     "data": {
      "text/html": [
       "<pre style=\"white-space:pre;overflow-x:auto;line-height:normal;font-family:Menlo,'DejaVu Sans Mono',consolas,'Courier New',monospace\">Chunk Found <span style=\"font-weight: bold\">(</span><span style=\"color: #008080; text-decoration-color: #008080; font-weight: bold\">85160</span><span style=\"font-weight: bold\">)</span>, adding to: Regular Expressions: Concepts, Uses, and Applications\n",
       "</pre>\n"
      ],
      "text/plain": [
       "Chunk Found \u001b[1m(\u001b[0m\u001b[1;36m85160\u001b[0m\u001b[1m)\u001b[0m, adding to: Regular Expressions: Concepts, Uses, and Applications\n"
      ]
     },
     "metadata": {},
     "output_type": "display_data"
    },
    {
     "data": {
      "text/html": [
       "<pre style=\"white-space:pre;overflow-x:auto;line-height:normal;font-family:Menlo,'DejaVu Sans Mono',consolas,'Courier New',monospace\">\n",
       "Adding: <span style=\"color: #008000; text-decoration-color: #008000\">'A regular expression search function returns all texts that match the pattern.'</span>\n",
       "</pre>\n"
      ],
      "text/plain": [
       "\n",
       "Adding: \u001b[32m'A regular expression search function returns all texts that match the pattern.'\u001b[0m\n"
      ]
     },
     "metadata": {},
     "output_type": "display_data"
    },
    {
     "data": {
      "text/html": [
       "<pre style=\"white-space:pre;overflow-x:auto;line-height:normal;font-family:Menlo,'DejaVu Sans Mono',consolas,'Courier New',monospace\">Chunk Found <span style=\"font-weight: bold\">(</span><span style=\"color: #008080; text-decoration-color: #008080; font-weight: bold\">85160</span><span style=\"font-weight: bold\">)</span>, adding to: Regular Expressions in Computing and Text Processing\n",
       "</pre>\n"
      ],
      "text/plain": [
       "Chunk Found \u001b[1m(\u001b[0m\u001b[1;36m85160\u001b[0m\u001b[1m)\u001b[0m, adding to: Regular Expressions in Computing and Text Processing\n"
      ]
     },
     "metadata": {},
     "output_type": "display_data"
    },
    {
     "data": {
      "text/html": [
       "<pre style=\"white-space:pre;overflow-x:auto;line-height:normal;font-family:Menlo,'DejaVu Sans Mono',consolas,'Courier New',monospace\">\n",
       "Adding: <span style=\"color: #008000; text-decoration-color: #008000\">'The corpus can be a single document.'</span>\n",
       "</pre>\n"
      ],
      "text/plain": [
       "\n",
       "Adding: \u001b[32m'The corpus can be a single document.'\u001b[0m\n"
      ]
     },
     "metadata": {},
     "output_type": "display_data"
    },
    {
     "data": {
      "text/html": [
       "<pre style=\"white-space:pre;overflow-x:auto;line-height:normal;font-family:Menlo,'DejaVu Sans Mono',consolas,'Courier New',monospace\">No chunks found\n",
       "</pre>\n"
      ],
      "text/plain": [
       "No chunks found\n"
      ]
     },
     "metadata": {},
     "output_type": "display_data"
    },
    {
     "data": {
      "text/html": [
       "<pre style=\"white-space:pre;overflow-x:auto;line-height:normal;font-family:Menlo,'DejaVu Sans Mono',consolas,'Courier New',monospace\">Created new chunk <span style=\"font-weight: bold\">(</span>72c1c<span style=\"font-weight: bold\">)</span>: Text Analysis: Structure &amp; Composition\n",
       "</pre>\n"
      ],
      "text/plain": [
       "Created new chunk \u001b[1m(\u001b[0m72c1c\u001b[1m)\u001b[0m: Text Analysis: Structure & Composition\n"
      ]
     },
     "metadata": {},
     "output_type": "display_data"
    },
    {
     "data": {
      "text/html": [
       "<pre style=\"white-space:pre;overflow-x:auto;line-height:normal;font-family:Menlo,'DejaVu Sans Mono',consolas,'Courier New',monospace\">\n",
       "Adding: <span style=\"color: #008000; text-decoration-color: #008000\">'The corpus can be a collection.'</span>\n",
       "</pre>\n"
      ],
      "text/plain": [
       "\n",
       "Adding: \u001b[32m'The corpus can be a collection.'\u001b[0m\n"
      ]
     },
     "metadata": {},
     "output_type": "display_data"
    },
    {
     "data": {
      "text/html": [
       "<pre style=\"white-space:pre;overflow-x:auto;line-height:normal;font-family:Menlo,'DejaVu Sans Mono',consolas,'Courier New',monospace\">Chunk Found <span style=\"font-weight: bold\">(</span>72c1c<span style=\"font-weight: bold\">)</span>, adding to: Text Analysis: Structure &amp; Composition\n",
       "</pre>\n"
      ],
      "text/plain": [
       "Chunk Found \u001b[1m(\u001b[0m72c1c\u001b[1m)\u001b[0m, adding to: Text Analysis: Structure & Composition\n"
      ]
     },
     "metadata": {},
     "output_type": "display_data"
    },
    {
     "data": {
      "text/html": [
       "<pre style=\"white-space:pre;overflow-x:auto;line-height:normal;font-family:Menlo,'DejaVu Sans Mono',consolas,'Courier New',monospace\">\n",
       "Adding: <span style=\"color: #008000; text-decoration-color: #008000\">'The Unix command-line tool grep takes a regular expression.'</span>\n",
       "</pre>\n"
      ],
      "text/plain": [
       "\n",
       "Adding: \u001b[32m'The Unix command-line tool grep takes a regular expression.'\u001b[0m\n"
      ]
     },
     "metadata": {},
     "output_type": "display_data"
    },
    {
     "data": {
      "text/html": [
       "<pre style=\"white-space:pre;overflow-x:auto;line-height:normal;font-family:Menlo,'DejaVu Sans Mono',consolas,'Courier New',monospace\">Chunk Found <span style=\"font-weight: bold\">(</span><span style=\"color: #008080; text-decoration-color: #008080; font-weight: bold\">85160</span><span style=\"font-weight: bold\">)</span>, adding to: Regular Expressions: Concepts, Uses, and Applications\n",
       "</pre>\n"
      ],
      "text/plain": [
       "Chunk Found \u001b[1m(\u001b[0m\u001b[1;36m85160\u001b[0m\u001b[1m)\u001b[0m, adding to: Regular Expressions: Concepts, Uses, and Applications\n"
      ]
     },
     "metadata": {},
     "output_type": "display_data"
    },
    {
     "data": {
      "text/html": [
       "<pre style=\"white-space:pre;overflow-x:auto;line-height:normal;font-family:Menlo,'DejaVu Sans Mono',consolas,'Courier New',monospace\">\n",
       "Adding: <span style=\"color: #008000; text-decoration-color: #008000\">'The Unix command-line tool grep returns every line of the input document that matches the expression.'</span>\n",
       "</pre>\n"
      ],
      "text/plain": [
       "\n",
       "Adding: \u001b[32m'The Unix command-line tool grep returns every line of the input document that matches the expression.'\u001b[0m\n"
      ]
     },
     "metadata": {},
     "output_type": "display_data"
    },
    {
     "data": {
      "text/html": [
       "<pre style=\"white-space:pre;overflow-x:auto;line-height:normal;font-family:Menlo,'DejaVu Sans Mono',consolas,'Courier New',monospace\">Chunk Found <span style=\"font-weight: bold\">(</span><span style=\"color: #008080; text-decoration-color: #008080; font-weight: bold\">85160</span><span style=\"font-weight: bold\">)</span>, adding to: Regular Expressions in Computing and Text Processing\n",
       "</pre>\n"
      ],
      "text/plain": [
       "Chunk Found \u001b[1m(\u001b[0m\u001b[1;36m85160\u001b[0m\u001b[1m)\u001b[0m, adding to: Regular Expressions in Computing and Text Processing\n"
      ]
     },
     "metadata": {},
     "output_type": "display_data"
    },
    {
     "data": {
      "text/html": [
       "<pre style=\"white-space:pre;overflow-x:auto;line-height:normal;font-family:Menlo,'DejaVu Sans Mono',consolas,'Courier New',monospace\">\n",
       "Adding: <span style=\"color: #008000; text-decoration-color: #008000\">'A search can be designed to return every match on a line if there are more than one.'</span>\n",
       "</pre>\n"
      ],
      "text/plain": [
       "\n",
       "Adding: \u001b[32m'A search can be designed to return every match on a line if there are more than one.'\u001b[0m\n"
      ]
     },
     "metadata": {},
     "output_type": "display_data"
    },
    {
     "data": {
      "text/html": [
       "<pre style=\"white-space:pre;overflow-x:auto;line-height:normal;font-family:Menlo,'DejaVu Sans Mono',consolas,'Courier New',monospace\">Chunk Found <span style=\"font-weight: bold\">(</span><span style=\"color: #008080; text-decoration-color: #008080; font-weight: bold\">85160</span><span style=\"font-weight: bold\">)</span>, adding to: Regular Expressions: Concepts, Uses, and Applications\n",
       "</pre>\n"
      ],
      "text/plain": [
       "Chunk Found \u001b[1m(\u001b[0m\u001b[1;36m85160\u001b[0m\u001b[1m)\u001b[0m, adding to: Regular Expressions: Concepts, Uses, and Applications\n"
      ]
     },
     "metadata": {},
     "output_type": "display_data"
    },
    {
     "data": {
      "text/html": [
       "<pre style=\"white-space:pre;overflow-x:auto;line-height:normal;font-family:Menlo,'DejaVu Sans Mono',consolas,'Courier New',monospace\">\n",
       "Adding: <span style=\"color: #008000; text-decoration-color: #008000\">'A search can be designed to return just the first match on a line.'</span>\n",
       "</pre>\n"
      ],
      "text/plain": [
       "\n",
       "Adding: \u001b[32m'A search can be designed to return just the first match on a line.'\u001b[0m\n"
      ]
     },
     "metadata": {},
     "output_type": "display_data"
    },
    {
     "data": {
      "text/html": [
       "<pre style=\"white-space:pre;overflow-x:auto;line-height:normal;font-family:Menlo,'DejaVu Sans Mono',consolas,'Courier New',monospace\">Chunk Found <span style=\"font-weight: bold\">(</span><span style=\"color: #008080; text-decoration-color: #008080; font-weight: bold\">85160</span><span style=\"font-weight: bold\">)</span>, adding to: Regular Expressions in Computing and Text Processing\n",
       "</pre>\n"
      ],
      "text/plain": [
       "Chunk Found \u001b[1m(\u001b[0m\u001b[1;36m85160\u001b[0m\u001b[1m)\u001b[0m, adding to: Regular Expressions in Computing and Text Processing\n"
      ]
     },
     "metadata": {},
     "output_type": "display_data"
    },
    {
     "data": {
      "text/html": [
       "<pre style=\"white-space:pre;overflow-x:auto;line-height:normal;font-family:Menlo,'DejaVu Sans Mono',consolas,'Courier New',monospace\">\n",
       "Adding: <span style=\"color: #008000; text-decoration-color: #008000\">'In the following examples, the exact part of the pattern that matches the regular expression is generally </span>\n",
       "<span style=\"color: #008000; text-decoration-color: #008000\">underlined.'</span>\n",
       "</pre>\n"
      ],
      "text/plain": [
       "\n",
       "Adding: \u001b[32m'In the following examples, the exact part of the pattern that matches the regular expression is generally \u001b[0m\n",
       "\u001b[32munderlined.'\u001b[0m\n"
      ]
     },
     "metadata": {},
     "output_type": "display_data"
    },
    {
     "data": {
      "text/html": [
       "<pre style=\"white-space:pre;overflow-x:auto;line-height:normal;font-family:Menlo,'DejaVu Sans Mono',consolas,'Courier New',monospace\">Chunk Found <span style=\"font-weight: bold\">(</span><span style=\"color: #008080; text-decoration-color: #008080; font-weight: bold\">85160</span><span style=\"font-weight: bold\">)</span>, adding to: Regular Expressions: Concepts, Uses, and Applications\n",
       "</pre>\n"
      ],
      "text/plain": [
       "Chunk Found \u001b[1m(\u001b[0m\u001b[1;36m85160\u001b[0m\u001b[1m)\u001b[0m, adding to: Regular Expressions: Concepts, Uses, and Applications\n"
      ]
     },
     "metadata": {},
     "output_type": "display_data"
    },
    {
     "data": {
      "text/html": [
       "<pre style=\"white-space:pre;overflow-x:auto;line-height:normal;font-family:Menlo,'DejaVu Sans Mono',consolas,'Courier New',monospace\">\n",
       "Adding: <span style=\"color: #008000; text-decoration-color: #008000\">'In the following examples, only the first match is shown.'</span>\n",
       "</pre>\n"
      ],
      "text/plain": [
       "\n",
       "Adding: \u001b[32m'In the following examples, only the first match is shown.'\u001b[0m\n"
      ]
     },
     "metadata": {},
     "output_type": "display_data"
    },
    {
     "data": {
      "text/html": [
       "<pre style=\"white-space:pre;overflow-x:auto;line-height:normal;font-family:Menlo,'DejaVu Sans Mono',consolas,'Courier New',monospace\">Chunk Found <span style=\"font-weight: bold\">(</span><span style=\"color: #008080; text-decoration-color: #008080; font-weight: bold\">85160</span><span style=\"font-weight: bold\">)</span>, adding to: Regular Expressions in Computing and Text Processing\n",
       "</pre>\n"
      ],
      "text/plain": [
       "Chunk Found \u001b[1m(\u001b[0m\u001b[1;36m85160\u001b[0m\u001b[1m)\u001b[0m, adding to: Regular Expressions in Computing and Text Processing\n"
      ]
     },
     "metadata": {},
     "output_type": "display_data"
    },
    {
     "data": {
      "text/html": [
       "<pre style=\"white-space:pre;overflow-x:auto;line-height:normal;font-family:Menlo,'DejaVu Sans Mono',consolas,'Courier New',monospace\">\n",
       "Adding: <span style=\"color: #008000; text-decoration-color: #008000\">'Regular expressions in the examples are delimited by slashes.'</span>\n",
       "</pre>\n"
      ],
      "text/plain": [
       "\n",
       "Adding: \u001b[32m'Regular expressions in the examples are delimited by slashes.'\u001b[0m\n"
      ]
     },
     "metadata": {},
     "output_type": "display_data"
    },
    {
     "data": {
      "text/html": [
       "<pre style=\"white-space:pre;overflow-x:auto;line-height:normal;font-family:Menlo,'DejaVu Sans Mono',consolas,'Courier New',monospace\">Chunk Found <span style=\"font-weight: bold\">(</span><span style=\"color: #008080; text-decoration-color: #008080; font-weight: bold\">85160</span><span style=\"font-weight: bold\">)</span>, adding to: Regular Expressions: Usage, Tools, and Examples\n",
       "</pre>\n"
      ],
      "text/plain": [
       "Chunk Found \u001b[1m(\u001b[0m\u001b[1;36m85160\u001b[0m\u001b[1m)\u001b[0m, adding to: Regular Expressions: Usage, Tools, and Examples\n"
      ]
     },
     "metadata": {},
     "output_type": "display_data"
    },
    {
     "data": {
      "text/html": [
       "<pre style=\"white-space:pre;overflow-x:auto;line-height:normal;font-family:Menlo,'DejaVu Sans Mono',consolas,'Courier New',monospace\">\n",
       "Adding: <span style=\"color: #008000; text-decoration-color: #008000\">'Slashes are not part of the regular expressions.'</span>\n",
       "</pre>\n"
      ],
      "text/plain": [
       "\n",
       "Adding: \u001b[32m'Slashes are not part of the regular expressions.'\u001b[0m\n"
      ]
     },
     "metadata": {},
     "output_type": "display_data"
    },
    {
     "data": {
      "text/html": [
       "<pre style=\"white-space:pre;overflow-x:auto;line-height:normal;font-family:Menlo,'DejaVu Sans Mono',consolas,'Courier New',monospace\">Chunk Found <span style=\"font-weight: bold\">(</span><span style=\"color: #008080; text-decoration-color: #008080; font-weight: bold\">85160</span><span style=\"font-weight: bold\">)</span>, adding to: Regular Expressions: Definitions, Applications, and Examples\n",
       "</pre>\n"
      ],
      "text/plain": [
       "Chunk Found \u001b[1m(\u001b[0m\u001b[1;36m85160\u001b[0m\u001b[1m)\u001b[0m, adding to: Regular Expressions: Definitions, Applications, and Examples\n"
      ]
     },
     "metadata": {},
     "output_type": "display_data"
    },
    {
     "data": {
      "text/html": [
       "<pre style=\"white-space:pre;overflow-x:auto;line-height:normal;font-family:Menlo,'DejaVu Sans Mono',consolas,'Courier New',monospace\">\n",
       "Adding: <span style=\"color: #008000; text-decoration-color: #008000\">'Regular expressions come in many variants.'</span>\n",
       "</pre>\n"
      ],
      "text/plain": [
       "\n",
       "Adding: \u001b[32m'Regular expressions come in many variants.'\u001b[0m\n"
      ]
     },
     "metadata": {},
     "output_type": "display_data"
    },
    {
     "data": {
      "text/html": [
       "<pre style=\"white-space:pre;overflow-x:auto;line-height:normal;font-family:Menlo,'DejaVu Sans Mono',consolas,'Courier New',monospace\">Chunk Found <span style=\"font-weight: bold\">(</span><span style=\"color: #008080; text-decoration-color: #008080; font-weight: bold\">85160</span><span style=\"font-weight: bold\">)</span>, adding to: Regular Expressions: Overview and Usage\n",
       "</pre>\n"
      ],
      "text/plain": [
       "Chunk Found \u001b[1m(\u001b[0m\u001b[1;36m85160\u001b[0m\u001b[1m)\u001b[0m, adding to: Regular Expressions: Overview and Usage\n"
      ]
     },
     "metadata": {},
     "output_type": "display_data"
    },
    {
     "data": {
      "text/html": [
       "<pre style=\"white-space:pre;overflow-x:auto;line-height:normal;font-family:Menlo,'DejaVu Sans Mono',consolas,'Courier New',monospace\">\n",
       "Adding: <span style=\"color: #008000; text-decoration-color: #008000\">'We will be describing extended regular expressions.'</span>\n",
       "</pre>\n"
      ],
      "text/plain": [
       "\n",
       "Adding: \u001b[32m'We will be describing extended regular expressions.'\u001b[0m\n"
      ]
     },
     "metadata": {},
     "output_type": "display_data"
    },
    {
     "data": {
      "text/html": [
       "<pre style=\"white-space:pre;overflow-x:auto;line-height:normal;font-family:Menlo,'DejaVu Sans Mono',consolas,'Courier New',monospace\">Chunk Found <span style=\"font-weight: bold\">(</span><span style=\"color: #008080; text-decoration-color: #008080; font-weight: bold\">85160</span><span style=\"font-weight: bold\">)</span>, adding to: Regular Expressions: Definitions, Applications, and Examples\n",
       "</pre>\n"
      ],
      "text/plain": [
       "Chunk Found \u001b[1m(\u001b[0m\u001b[1;36m85160\u001b[0m\u001b[1m)\u001b[0m, adding to: Regular Expressions: Definitions, Applications, and Examples\n"
      ]
     },
     "metadata": {},
     "output_type": "display_data"
    },
    {
     "data": {
      "text/html": [
       "<pre style=\"white-space:pre;overflow-x:auto;line-height:normal;font-family:Menlo,'DejaVu Sans Mono',consolas,'Courier New',monospace\">\n",
       "Adding: <span style=\"color: #008000; text-decoration-color: #008000\">'Different regular expression parsers may only recognize subsets of extended regular expressions.'</span>\n",
       "</pre>\n"
      ],
      "text/plain": [
       "\n",
       "Adding: \u001b[32m'Different regular expression parsers may only recognize subsets of extended regular expressions.'\u001b[0m\n"
      ]
     },
     "metadata": {},
     "output_type": "display_data"
    },
    {
     "data": {
      "text/html": [
       "<pre style=\"white-space:pre;overflow-x:auto;line-height:normal;font-family:Menlo,'DejaVu Sans Mono',consolas,'Courier New',monospace\">Chunk Found <span style=\"font-weight: bold\">(</span><span style=\"color: #008080; text-decoration-color: #008080; font-weight: bold\">85160</span><span style=\"font-weight: bold\">)</span>, adding to: Regular Expressions: Overview and Usage\n",
       "</pre>\n"
      ],
      "text/plain": [
       "Chunk Found \u001b[1m(\u001b[0m\u001b[1;36m85160\u001b[0m\u001b[1m)\u001b[0m, adding to: Regular Expressions: Overview and Usage\n"
      ]
     },
     "metadata": {},
     "output_type": "display_data"
    },
    {
     "data": {
      "text/html": [
       "<pre style=\"white-space:pre;overflow-x:auto;line-height:normal;font-family:Menlo,'DejaVu Sans Mono',consolas,'Courier New',monospace\">\n",
       "Adding: <span style=\"color: #008000; text-decoration-color: #008000\">'Different regular expression parsers may treat some expressions slightly differently.'</span>\n",
       "</pre>\n"
      ],
      "text/plain": [
       "\n",
       "Adding: \u001b[32m'Different regular expression parsers may treat some expressions slightly differently.'\u001b[0m\n"
      ]
     },
     "metadata": {},
     "output_type": "display_data"
    },
    {
     "data": {
      "text/html": [
       "<pre style=\"white-space:pre;overflow-x:auto;line-height:normal;font-family:Menlo,'DejaVu Sans Mono',consolas,'Courier New',monospace\">Chunk Found <span style=\"font-weight: bold\">(</span><span style=\"color: #008080; text-decoration-color: #008080; font-weight: bold\">85160</span><span style=\"font-weight: bold\">)</span>, adding to: Regular Expressions: Definitions, Applications, and Examples\n",
       "</pre>\n"
      ],
      "text/plain": [
       "Chunk Found \u001b[1m(\u001b[0m\u001b[1;36m85160\u001b[0m\u001b[1m)\u001b[0m, adding to: Regular Expressions: Definitions, Applications, and Examples\n"
      ]
     },
     "metadata": {},
     "output_type": "display_data"
    },
    {
     "data": {
      "text/html": [
       "<pre style=\"white-space:pre;overflow-x:auto;line-height:normal;font-family:Menlo,'DejaVu Sans Mono',consolas,'Courier New',monospace\">\n",
       "Adding: <span style=\"color: #008000; text-decoration-color: #008000\">'Using an online regular expression tester is a handy way to test out your regular expressions.'</span>\n",
       "</pre>\n"
      ],
      "text/plain": [
       "\n",
       "Adding: \u001b[32m'Using an online regular expression tester is a handy way to test out your regular expressions.'\u001b[0m\n"
      ]
     },
     "metadata": {},
     "output_type": "display_data"
    },
    {
     "data": {
      "text/html": [
       "<pre style=\"white-space:pre;overflow-x:auto;line-height:normal;font-family:Menlo,'DejaVu Sans Mono',consolas,'Courier New',monospace\">Chunk Found <span style=\"font-weight: bold\">(</span><span style=\"color: #008080; text-decoration-color: #008080; font-weight: bold\">85160</span><span style=\"font-weight: bold\">)</span>, adding to: Regular Expressions: Overview, Usage, and Variants\n",
       "</pre>\n"
      ],
      "text/plain": [
       "Chunk Found \u001b[1m(\u001b[0m\u001b[1;36m85160\u001b[0m\u001b[1m)\u001b[0m, adding to: Regular Expressions: Overview, Usage, and Variants\n"
      ]
     },
     "metadata": {},
     "output_type": "display_data"
    },
    {
     "data": {
      "text/html": [
       "<pre style=\"white-space:pre;overflow-x:auto;line-height:normal;font-family:Menlo,'DejaVu Sans Mono',consolas,'Courier New',monospace\">\n",
       "Adding: <span style=\"color: #008000; text-decoration-color: #008000\">'Using an online regular expression tester is a handy way to explore variations of regular expressions.'</span>\n",
       "</pre>\n"
      ],
      "text/plain": [
       "\n",
       "Adding: \u001b[32m'Using an online regular expression tester is a handy way to explore variations of regular expressions.'\u001b[0m\n"
      ]
     },
     "metadata": {},
     "output_type": "display_data"
    },
    {
     "data": {
      "text/html": [
       "<pre style=\"white-space:pre;overflow-x:auto;line-height:normal;font-family:Menlo,'DejaVu Sans Mono',consolas,'Courier New',monospace\">Chunk Found <span style=\"font-weight: bold\">(</span><span style=\"color: #008080; text-decoration-color: #008080; font-weight: bold\">85160</span><span style=\"font-weight: bold\">)</span>, adding to: Regular Expressions: Definitions, Applications, and Testing\n",
       "</pre>\n"
      ],
      "text/plain": [
       "Chunk Found \u001b[1m(\u001b[0m\u001b[1;36m85160\u001b[0m\u001b[1m)\u001b[0m, adding to: Regular Expressions: Definitions, Applications, and Testing\n"
      ]
     },
     "metadata": {},
     "output_type": "display_data"
    },
    {
     "data": {
      "text/html": [
       "<pre style=\"white-space:pre;overflow-x:auto;line-height:normal;font-family:Menlo,'DejaVu Sans Mono',consolas,'Courier New',monospace\">\n",
       "You have <span style=\"color: #008080; text-decoration-color: #008080; font-weight: bold\">3</span> chunks\n",
       "\n",
       "</pre>\n"
      ],
      "text/plain": [
       "\n",
       "You have \u001b[1;36m3\u001b[0m chunks\n",
       "\n"
      ]
     },
     "metadata": {},
     "output_type": "display_data"
    },
    {
     "data": {
      "text/html": [
       "<pre style=\"white-space:pre;overflow-x:auto;line-height:normal;font-family:Menlo,'DejaVu Sans Mono',consolas,'Courier New',monospace\">Chunk #<span style=\"color: #008080; text-decoration-color: #008080; font-weight: bold\">0</span>\n",
       "</pre>\n"
      ],
      "text/plain": [
       "Chunk #\u001b[1;36m0\u001b[0m\n"
      ]
     },
     "metadata": {},
     "output_type": "display_data"
    },
    {
     "data": {
      "text/html": [
       "<pre style=\"white-space:pre;overflow-x:auto;line-height:normal;font-family:Menlo,'DejaVu Sans Mono',consolas,'Courier New',monospace\">Chunk ID: 48b26\n",
       "</pre>\n"
      ],
      "text/plain": [
       "Chunk ID: 48b26\n"
      ]
     },
     "metadata": {},
     "output_type": "display_data"
    },
    {
     "data": {
      "text/html": [
       "<pre style=\"white-space:pre;overflow-x:auto;line-height:normal;font-family:Menlo,'DejaVu Sans Mono',consolas,'Courier New',monospace\">Summary: This chunk contains discussions on significant achievements in computer science standardization.\n",
       "</pre>\n"
      ],
      "text/plain": [
       "Summary: This chunk contains discussions on significant achievements in computer science standardization.\n"
      ]
     },
     "metadata": {},
     "output_type": "display_data"
    },
    {
     "data": {
      "text/html": [
       "<pre style=\"white-space:pre;overflow-x:auto;line-height:normal;font-family:Menlo,'DejaVu Sans Mono',consolas,'Courier New',monospace\">Propositions:\n",
       "</pre>\n"
      ],
      "text/plain": [
       "Propositions:\n"
      ]
     },
     "metadata": {},
     "output_type": "display_data"
    },
    {
     "data": {
      "text/html": [
       "<pre style=\"white-space:pre;overflow-x:auto;line-height:normal;font-family:Menlo,'DejaVu Sans Mono',consolas,'Courier New',monospace\">    -One of the unsung successes in standardization in computer science has been the regular expression.\n",
       "</pre>\n"
      ],
      "text/plain": [
       "    -One of the unsung successes in standardization in computer science has been the regular expression.\n"
      ]
     },
     "metadata": {},
     "output_type": "display_data"
    },
    {
     "data": {
      "text/html": [
       "<pre style=\"white-space:pre;overflow-x:auto;line-height:normal;font-family:Menlo,'DejaVu Sans Mono',consolas,'Courier New',monospace\">\n",
       "\n",
       "\n",
       "</pre>\n"
      ],
      "text/plain": [
       "\n",
       "\n",
       "\n"
      ]
     },
     "metadata": {},
     "output_type": "display_data"
    },
    {
     "data": {
      "text/html": [
       "<pre style=\"white-space:pre;overflow-x:auto;line-height:normal;font-family:Menlo,'DejaVu Sans Mono',consolas,'Courier New',monospace\">Chunk #<span style=\"color: #008080; text-decoration-color: #008080; font-weight: bold\">1</span>\n",
       "</pre>\n"
      ],
      "text/plain": [
       "Chunk #\u001b[1;36m1\u001b[0m\n"
      ]
     },
     "metadata": {},
     "output_type": "display_data"
    },
    {
     "data": {
      "text/html": [
       "<pre style=\"white-space:pre;overflow-x:auto;line-height:normal;font-family:Menlo,'DejaVu Sans Mono',consolas,'Courier New',monospace\">Chunk ID: <span style=\"color: #008080; text-decoration-color: #008080; font-weight: bold\">85160</span>\n",
       "</pre>\n"
      ],
      "text/plain": [
       "Chunk ID: \u001b[1;36m85160\u001b[0m\n"
      ]
     },
     "metadata": {},
     "output_type": "display_data"
    },
    {
     "data": {
      "text/html": [
       "<pre style=\"white-space:pre;overflow-x:auto;line-height:normal;font-family:Menlo,'DejaVu Sans Mono',consolas,'Courier New',monospace\">Summary: This chunk contains comprehensive details on regular expressions <span style=\"font-weight: bold\">(</span>regex<span style=\"font-weight: bold\">)</span>, including their abbreviation, \n",
       "definition, significance in computer languages, software tools, and text processing, as well as their functionality\n",
       "in pattern searching within texts, illustrated with usage examples and applications in tools like grep, and advice \n",
       "on testing regular expressions online.\n",
       "</pre>\n"
      ],
      "text/plain": [
       "Summary: This chunk contains comprehensive details on regular expressions \u001b[1m(\u001b[0mregex\u001b[1m)\u001b[0m, including their abbreviation, \n",
       "definition, significance in computer languages, software tools, and text processing, as well as their functionality\n",
       "in pattern searching within texts, illustrated with usage examples and applications in tools like grep, and advice \n",
       "on testing regular expressions online.\n"
      ]
     },
     "metadata": {},
     "output_type": "display_data"
    },
    {
     "data": {
      "text/html": [
       "<pre style=\"white-space:pre;overflow-x:auto;line-height:normal;font-family:Menlo,'DejaVu Sans Mono',consolas,'Courier New',monospace\">Propositions:\n",
       "</pre>\n"
      ],
      "text/plain": [
       "Propositions:\n"
      ]
     },
     "metadata": {},
     "output_type": "display_data"
    },
    {
     "data": {
      "text/html": [
       "<pre style=\"white-space:pre;overflow-x:auto;line-height:normal;font-family:Menlo,'DejaVu Sans Mono',consolas,'Courier New',monospace\">    -Regular expression is often shortened to regex.\n",
       "</pre>\n"
      ],
      "text/plain": [
       "    -Regular expression is often shortened to regex.\n"
      ]
     },
     "metadata": {},
     "output_type": "display_data"
    },
    {
     "data": {
      "text/html": [
       "<pre style=\"white-space:pre;overflow-x:auto;line-height:normal;font-family:Menlo,'DejaVu Sans Mono',consolas,'Courier New',monospace\">    -Regular expression is a language for specifying text search regular expression strings.\n",
       "</pre>\n"
      ],
      "text/plain": [
       "    -Regular expression is a language for specifying text search regular expression strings.\n"
      ]
     },
     "metadata": {},
     "output_type": "display_data"
    },
    {
     "data": {
      "text/html": [
       "<pre style=\"white-space:pre;overflow-x:auto;line-height:normal;font-family:Menlo,'DejaVu Sans Mono',consolas,'Courier New',monospace\">    -Regular expression is used in every computer language.\n",
       "</pre>\n"
      ],
      "text/plain": [
       "    -Regular expression is used in every computer language.\n"
      ]
     },
     "metadata": {},
     "output_type": "display_data"
    },
    {
     "data": {
      "text/html": [
       "<pre style=\"white-space:pre;overflow-x:auto;line-height:normal;font-family:Menlo,'DejaVu Sans Mono',consolas,'Courier New',monospace\">    -Regular expression is used in every word processor.\n",
       "</pre>\n"
      ],
      "text/plain": [
       "    -Regular expression is used in every word processor.\n"
      ]
     },
     "metadata": {},
     "output_type": "display_data"
    },
    {
     "data": {
      "text/html": [
       "<pre style=\"white-space:pre;overflow-x:auto;line-height:normal;font-family:Menlo,'DejaVu Sans Mono',consolas,'Courier New',monospace\">    -Regular expression is used in text processing tools like the Unix tools grep or Emacs.\n",
       "</pre>\n"
      ],
      "text/plain": [
       "    -Regular expression is used in text processing tools like the Unix tools grep or Emacs.\n"
      ]
     },
     "metadata": {},
     "output_type": "display_data"
    },
    {
     "data": {
      "text/html": [
       "<pre style=\"white-space:pre;overflow-x:auto;line-height:normal;font-family:Menlo,'DejaVu Sans Mono',consolas,'Courier New',monospace\">    -Formally, a regular expression is an algebraic notation for characterizing a set of strings.\n",
       "</pre>\n"
      ],
      "text/plain": [
       "    -Formally, a regular expression is an algebraic notation for characterizing a set of strings.\n"
      ]
     },
     "metadata": {},
     "output_type": "display_data"
    },
    {
     "data": {
      "text/html": [
       "<pre style=\"white-space:pre;overflow-x:auto;line-height:normal;font-family:Menlo,'DejaVu Sans Mono',consolas,'Courier New',monospace\">    -Regular expressions are particularly useful for searching in texts.\n",
       "</pre>\n"
      ],
      "text/plain": [
       "    -Regular expressions are particularly useful for searching in texts.\n"
      ]
     },
     "metadata": {},
     "output_type": "display_data"
    },
    {
     "data": {
      "text/html": [
       "<pre style=\"white-space:pre;overflow-x:auto;line-height:normal;font-family:Menlo,'DejaVu Sans Mono',consolas,'Courier New',monospace\">    -Regular expressions are used when there is a pattern to search for.\n",
       "</pre>\n"
      ],
      "text/plain": [
       "    -Regular expressions are used when there is a pattern to search for.\n"
      ]
     },
     "metadata": {},
     "output_type": "display_data"
    },
    {
     "data": {
      "text/html": [
       "<pre style=\"white-space:pre;overflow-x:auto;line-height:normal;font-family:Menlo,'DejaVu Sans Mono',consolas,'Courier New',monospace\">    -Regular expressions are used when there is a corpus of texts to search through.\n",
       "</pre>\n"
      ],
      "text/plain": [
       "    -Regular expressions are used when there is a corpus of texts to search through.\n"
      ]
     },
     "metadata": {},
     "output_type": "display_data"
    },
    {
     "data": {
      "text/html": [
       "<pre style=\"white-space:pre;overflow-x:auto;line-height:normal;font-family:Menlo,'DejaVu Sans Mono',consolas,'Courier New',monospace\">    -A regular expression search function will search through the corpus.\n",
       "</pre>\n"
      ],
      "text/plain": [
       "    -A regular expression search function will search through the corpus.\n"
      ]
     },
     "metadata": {},
     "output_type": "display_data"
    },
    {
     "data": {
      "text/html": [
       "<pre style=\"white-space:pre;overflow-x:auto;line-height:normal;font-family:Menlo,'DejaVu Sans Mono',consolas,'Courier New',monospace\">    -A regular expression search function returns all texts that match the pattern.\n",
       "</pre>\n"
      ],
      "text/plain": [
       "    -A regular expression search function returns all texts that match the pattern.\n"
      ]
     },
     "metadata": {},
     "output_type": "display_data"
    },
    {
     "data": {
      "text/html": [
       "<pre style=\"white-space:pre;overflow-x:auto;line-height:normal;font-family:Menlo,'DejaVu Sans Mono',consolas,'Courier New',monospace\">    -The Unix command-line tool grep takes a regular expression.\n",
       "</pre>\n"
      ],
      "text/plain": [
       "    -The Unix command-line tool grep takes a regular expression.\n"
      ]
     },
     "metadata": {},
     "output_type": "display_data"
    },
    {
     "data": {
      "text/html": [
       "<pre style=\"white-space:pre;overflow-x:auto;line-height:normal;font-family:Menlo,'DejaVu Sans Mono',consolas,'Courier New',monospace\">    -The Unix command-line tool grep returns every line of the input document that matches the expression.\n",
       "</pre>\n"
      ],
      "text/plain": [
       "    -The Unix command-line tool grep returns every line of the input document that matches the expression.\n"
      ]
     },
     "metadata": {},
     "output_type": "display_data"
    },
    {
     "data": {
      "text/html": [
       "<pre style=\"white-space:pre;overflow-x:auto;line-height:normal;font-family:Menlo,'DejaVu Sans Mono',consolas,'Courier New',monospace\">    -A search can be designed to return every match on a line if there are more than one.\n",
       "</pre>\n"
      ],
      "text/plain": [
       "    -A search can be designed to return every match on a line if there are more than one.\n"
      ]
     },
     "metadata": {},
     "output_type": "display_data"
    },
    {
     "data": {
      "text/html": [
       "<pre style=\"white-space:pre;overflow-x:auto;line-height:normal;font-family:Menlo,'DejaVu Sans Mono',consolas,'Courier New',monospace\">    -A search can be designed to return just the first match on a line.\n",
       "</pre>\n"
      ],
      "text/plain": [
       "    -A search can be designed to return just the first match on a line.\n"
      ]
     },
     "metadata": {},
     "output_type": "display_data"
    },
    {
     "data": {
      "text/html": [
       "<pre style=\"white-space:pre;overflow-x:auto;line-height:normal;font-family:Menlo,'DejaVu Sans Mono',consolas,'Courier New',monospace\">    -In the following examples, the exact part of the pattern that matches the regular expression is generally \n",
       "underlined.\n",
       "</pre>\n"
      ],
      "text/plain": [
       "    -In the following examples, the exact part of the pattern that matches the regular expression is generally \n",
       "underlined.\n"
      ]
     },
     "metadata": {},
     "output_type": "display_data"
    },
    {
     "data": {
      "text/html": [
       "<pre style=\"white-space:pre;overflow-x:auto;line-height:normal;font-family:Menlo,'DejaVu Sans Mono',consolas,'Courier New',monospace\">    -In the following examples, only the first match is shown.\n",
       "</pre>\n"
      ],
      "text/plain": [
       "    -In the following examples, only the first match is shown.\n"
      ]
     },
     "metadata": {},
     "output_type": "display_data"
    },
    {
     "data": {
      "text/html": [
       "<pre style=\"white-space:pre;overflow-x:auto;line-height:normal;font-family:Menlo,'DejaVu Sans Mono',consolas,'Courier New',monospace\">    -Regular expressions in the examples are delimited by slashes.\n",
       "</pre>\n"
      ],
      "text/plain": [
       "    -Regular expressions in the examples are delimited by slashes.\n"
      ]
     },
     "metadata": {},
     "output_type": "display_data"
    },
    {
     "data": {
      "text/html": [
       "<pre style=\"white-space:pre;overflow-x:auto;line-height:normal;font-family:Menlo,'DejaVu Sans Mono',consolas,'Courier New',monospace\">    -Slashes are not part of the regular expressions.\n",
       "</pre>\n"
      ],
      "text/plain": [
       "    -Slashes are not part of the regular expressions.\n"
      ]
     },
     "metadata": {},
     "output_type": "display_data"
    },
    {
     "data": {
      "text/html": [
       "<pre style=\"white-space:pre;overflow-x:auto;line-height:normal;font-family:Menlo,'DejaVu Sans Mono',consolas,'Courier New',monospace\">    -Regular expressions come in many variants.\n",
       "</pre>\n"
      ],
      "text/plain": [
       "    -Regular expressions come in many variants.\n"
      ]
     },
     "metadata": {},
     "output_type": "display_data"
    },
    {
     "data": {
      "text/html": [
       "<pre style=\"white-space:pre;overflow-x:auto;line-height:normal;font-family:Menlo,'DejaVu Sans Mono',consolas,'Courier New',monospace\">    -We will be describing extended regular expressions.\n",
       "</pre>\n"
      ],
      "text/plain": [
       "    -We will be describing extended regular expressions.\n"
      ]
     },
     "metadata": {},
     "output_type": "display_data"
    },
    {
     "data": {
      "text/html": [
       "<pre style=\"white-space:pre;overflow-x:auto;line-height:normal;font-family:Menlo,'DejaVu Sans Mono',consolas,'Courier New',monospace\">    -Different regular expression parsers may only recognize subsets of extended regular expressions.\n",
       "</pre>\n"
      ],
      "text/plain": [
       "    -Different regular expression parsers may only recognize subsets of extended regular expressions.\n"
      ]
     },
     "metadata": {},
     "output_type": "display_data"
    },
    {
     "data": {
      "text/html": [
       "<pre style=\"white-space:pre;overflow-x:auto;line-height:normal;font-family:Menlo,'DejaVu Sans Mono',consolas,'Courier New',monospace\">    -Different regular expression parsers may treat some expressions slightly differently.\n",
       "</pre>\n"
      ],
      "text/plain": [
       "    -Different regular expression parsers may treat some expressions slightly differently.\n"
      ]
     },
     "metadata": {},
     "output_type": "display_data"
    },
    {
     "data": {
      "text/html": [
       "<pre style=\"white-space:pre;overflow-x:auto;line-height:normal;font-family:Menlo,'DejaVu Sans Mono',consolas,'Courier New',monospace\">    -Using an online regular expression tester is a handy way to test out your regular expressions.\n",
       "</pre>\n"
      ],
      "text/plain": [
       "    -Using an online regular expression tester is a handy way to test out your regular expressions.\n"
      ]
     },
     "metadata": {},
     "output_type": "display_data"
    },
    {
     "data": {
      "text/html": [
       "<pre style=\"white-space:pre;overflow-x:auto;line-height:normal;font-family:Menlo,'DejaVu Sans Mono',consolas,'Courier New',monospace\">    -Using an online regular expression tester is a handy way to explore variations of regular expressions.\n",
       "</pre>\n"
      ],
      "text/plain": [
       "    -Using an online regular expression tester is a handy way to explore variations of regular expressions.\n"
      ]
     },
     "metadata": {},
     "output_type": "display_data"
    },
    {
     "data": {
      "text/html": [
       "<pre style=\"white-space:pre;overflow-x:auto;line-height:normal;font-family:Menlo,'DejaVu Sans Mono',consolas,'Courier New',monospace\">\n",
       "\n",
       "\n",
       "</pre>\n"
      ],
      "text/plain": [
       "\n",
       "\n",
       "\n"
      ]
     },
     "metadata": {},
     "output_type": "display_data"
    },
    {
     "data": {
      "text/html": [
       "<pre style=\"white-space:pre;overflow-x:auto;line-height:normal;font-family:Menlo,'DejaVu Sans Mono',consolas,'Courier New',monospace\">Chunk #<span style=\"color: #008080; text-decoration-color: #008080; font-weight: bold\">2</span>\n",
       "</pre>\n"
      ],
      "text/plain": [
       "Chunk #\u001b[1;36m2\u001b[0m\n"
      ]
     },
     "metadata": {},
     "output_type": "display_data"
    },
    {
     "data": {
      "text/html": [
       "<pre style=\"white-space:pre;overflow-x:auto;line-height:normal;font-family:Menlo,'DejaVu Sans Mono',consolas,'Courier New',monospace\">Chunk ID: 72c1c\n",
       "</pre>\n"
      ],
      "text/plain": [
       "Chunk ID: 72c1c\n"
      ]
     },
     "metadata": {},
     "output_type": "display_data"
    },
    {
     "data": {
      "text/html": [
       "<pre style=\"white-space:pre;overflow-x:auto;line-height:normal;font-family:Menlo,'DejaVu Sans Mono',consolas,'Courier New',monospace\">Summary: This chunk contains information about the various forms a corpus can take in text analysis.\n",
       "</pre>\n"
      ],
      "text/plain": [
       "Summary: This chunk contains information about the various forms a corpus can take in text analysis.\n"
      ]
     },
     "metadata": {},
     "output_type": "display_data"
    },
    {
     "data": {
      "text/html": [
       "<pre style=\"white-space:pre;overflow-x:auto;line-height:normal;font-family:Menlo,'DejaVu Sans Mono',consolas,'Courier New',monospace\">Propositions:\n",
       "</pre>\n"
      ],
      "text/plain": [
       "Propositions:\n"
      ]
     },
     "metadata": {},
     "output_type": "display_data"
    },
    {
     "data": {
      "text/html": [
       "<pre style=\"white-space:pre;overflow-x:auto;line-height:normal;font-family:Menlo,'DejaVu Sans Mono',consolas,'Courier New',monospace\">    -The corpus can be a single document.\n",
       "</pre>\n"
      ],
      "text/plain": [
       "    -The corpus can be a single document.\n"
      ]
     },
     "metadata": {},
     "output_type": "display_data"
    },
    {
     "data": {
      "text/html": [
       "<pre style=\"white-space:pre;overflow-x:auto;line-height:normal;font-family:Menlo,'DejaVu Sans Mono',consolas,'Courier New',monospace\">    -The corpus can be a collection.\n",
       "</pre>\n"
      ],
      "text/plain": [
       "    -The corpus can be a collection.\n"
      ]
     },
     "metadata": {},
     "output_type": "display_data"
    },
    {
     "data": {
      "text/html": [
       "<pre style=\"white-space:pre;overflow-x:auto;line-height:normal;font-family:Menlo,'DejaVu Sans Mono',consolas,'Courier New',monospace\">\n",
       "\n",
       "\n",
       "</pre>\n"
      ],
      "text/plain": [
       "\n",
       "\n",
       "\n"
      ]
     },
     "metadata": {},
     "output_type": "display_data"
    },
    {
     "data": {
      "text/html": [
       "<pre style=\"white-space:pre;overflow-x:auto;line-height:normal;font-family:Menlo,'DejaVu Sans Mono',consolas,'Courier New',monospace\"><span style=\"color: #800080; text-decoration-color: #800080; font-style: italic\">None</span>\n",
       "</pre>\n"
      ],
      "text/plain": [
       "\u001b[3;35mNone\u001b[0m\n"
      ]
     },
     "metadata": {},
     "output_type": "display_data"
    },
    {
     "data": {
      "text/html": [
       "<pre style=\"white-space:pre;overflow-x:auto;line-height:normal;font-family:Menlo,'DejaVu Sans Mono',consolas,'Courier New',monospace\"><span style=\"font-weight: bold\">[</span>\n",
       "    <span style=\"color: #008000; text-decoration-color: #008000\">'One of the unsung successes in standardization in computer science has been the regular expression.'</span>,\n",
       "    <span style=\"color: #008000; text-decoration-color: #008000\">'Regular expression is often shortened to regex. Regular expression is a language for specifying text search </span>\n",
       "<span style=\"color: #008000; text-decoration-color: #008000\">regular expression strings. Regular expression is used in every computer language. Regular expression is used in </span>\n",
       "<span style=\"color: #008000; text-decoration-color: #008000\">every word processor. Regular expression is used in text processing tools like the Unix tools grep or Emacs. </span>\n",
       "<span style=\"color: #008000; text-decoration-color: #008000\">Formally, a regular expression is an algebraic notation for characterizing a set of strings. Regular expressions </span>\n",
       "<span style=\"color: #008000; text-decoration-color: #008000\">are particularly useful for searching in texts. Regular expressions are used when there is a pattern to search for.</span>\n",
       "<span style=\"color: #008000; text-decoration-color: #008000\">Regular expressions are used when there is a corpus of texts to search through. A regular expression search </span>\n",
       "<span style=\"color: #008000; text-decoration-color: #008000\">function will search through the corpus. A regular expression search function returns all texts that match the </span>\n",
       "<span style=\"color: #008000; text-decoration-color: #008000\">pattern. The Unix command-line tool grep takes a regular expression. The Unix command-line tool grep returns every </span>\n",
       "<span style=\"color: #008000; text-decoration-color: #008000\">line of the input document that matches the expression. A search can be designed to return every match on a line if</span>\n",
       "<span style=\"color: #008000; text-decoration-color: #008000\">there are more than one. A search can be designed to return just the first match on a line. In the following </span>\n",
       "<span style=\"color: #008000; text-decoration-color: #008000\">examples, the exact part of the pattern that matches the regular expression is generally underlined. In the </span>\n",
       "<span style=\"color: #008000; text-decoration-color: #008000\">following examples, only the first match is shown. Regular expressions in the examples are delimited by slashes. </span>\n",
       "<span style=\"color: #008000; text-decoration-color: #008000\">Slashes are not part of the regular expressions. Regular expressions come in many variants. We will be describing </span>\n",
       "<span style=\"color: #008000; text-decoration-color: #008000\">extended regular expressions. Different regular expression parsers may only recognize subsets of extended regular </span>\n",
       "<span style=\"color: #008000; text-decoration-color: #008000\">expressions. Different regular expression parsers may treat some expressions slightly differently. Using an online </span>\n",
       "<span style=\"color: #008000; text-decoration-color: #008000\">regular expression tester is a handy way to test out your regular expressions. Using an online regular expression </span>\n",
       "<span style=\"color: #008000; text-decoration-color: #008000\">tester is a handy way to explore variations of regular expressions.'</span>,\n",
       "    <span style=\"color: #008000; text-decoration-color: #008000\">'The corpus can be a single document. The corpus can be a collection.'</span>\n",
       "<span style=\"font-weight: bold\">]</span>\n",
       "</pre>\n"
      ],
      "text/plain": [
       "\u001b[1m[\u001b[0m\n",
       "    \u001b[32m'One of the unsung successes in standardization in computer science has been the regular expression.'\u001b[0m,\n",
       "    \u001b[32m'Regular expression is often shortened to regex. Regular expression is a language for specifying text search \u001b[0m\n",
       "\u001b[32mregular expression strings. Regular expression is used in every computer language. Regular expression is used in \u001b[0m\n",
       "\u001b[32mevery word processor. Regular expression is used in text processing tools like the Unix tools grep or Emacs. \u001b[0m\n",
       "\u001b[32mFormally, a regular expression is an algebraic notation for characterizing a set of strings. Regular expressions \u001b[0m\n",
       "\u001b[32mare particularly useful for searching in texts. Regular expressions are used when there is a pattern to search for.\u001b[0m\n",
       "\u001b[32mRegular expressions are used when there is a corpus of texts to search through. A regular expression search \u001b[0m\n",
       "\u001b[32mfunction will search through the corpus. A regular expression search function returns all texts that match the \u001b[0m\n",
       "\u001b[32mpattern. The Unix command-line tool grep takes a regular expression. The Unix command-line tool grep returns every \u001b[0m\n",
       "\u001b[32mline of the input document that matches the expression. A search can be designed to return every match on a line if\u001b[0m\n",
       "\u001b[32mthere are more than one. A search can be designed to return just the first match on a line. In the following \u001b[0m\n",
       "\u001b[32mexamples, the exact part of the pattern that matches the regular expression is generally underlined. In the \u001b[0m\n",
       "\u001b[32mfollowing examples, only the first match is shown. Regular expressions in the examples are delimited by slashes. \u001b[0m\n",
       "\u001b[32mSlashes are not part of the regular expressions. Regular expressions come in many variants. We will be describing \u001b[0m\n",
       "\u001b[32mextended regular expressions. Different regular expression parsers may only recognize subsets of extended regular \u001b[0m\n",
       "\u001b[32mexpressions. Different regular expression parsers may treat some expressions slightly differently. Using an online \u001b[0m\n",
       "\u001b[32mregular expression tester is a handy way to test out your regular expressions. Using an online regular expression \u001b[0m\n",
       "\u001b[32mtester is a handy way to explore variations of regular expressions.'\u001b[0m,\n",
       "    \u001b[32m'The corpus can be a single document. The corpus can be a collection.'\u001b[0m\n",
       "\u001b[1m]\u001b[0m\n"
      ]
     },
     "metadata": {},
     "output_type": "display_data"
    },
    {
     "data": {
      "text/html": [
       "<pre style=\"white-space:pre;overflow-x:auto;line-height:normal;font-family:Menlo,'DejaVu Sans Mono',consolas,'Courier New',monospace\"><span style=\"font-weight: bold\">[</span>\n",
       "    <span style=\"color: #800080; text-decoration-color: #800080; font-weight: bold\">Document</span><span style=\"font-weight: bold\">(</span>\n",
       "        <span style=\"color: #808000; text-decoration-color: #808000\">page_content</span>=<span style=\"color: #008000; text-decoration-color: #008000\">'One of the unsung successes in standardization in computer science has been the regular </span>\n",
       "<span style=\"color: #008000; text-decoration-color: #008000\">expression.'</span>,\n",
       "        <span style=\"color: #808000; text-decoration-color: #808000\">metadata</span>=<span style=\"font-weight: bold\">{</span><span style=\"color: #008000; text-decoration-color: #008000\">'source'</span>: <span style=\"color: #008000; text-decoration-color: #008000\">'local'</span><span style=\"font-weight: bold\">}</span>\n",
       "    <span style=\"font-weight: bold\">)</span>,\n",
       "    <span style=\"color: #800080; text-decoration-color: #800080; font-weight: bold\">Document</span><span style=\"font-weight: bold\">(</span>\n",
       "        <span style=\"color: #808000; text-decoration-color: #808000\">page_content</span>=<span style=\"color: #008000; text-decoration-color: #008000\">'Regular expression is often shortened to regex. Regular expression is a language for </span>\n",
       "<span style=\"color: #008000; text-decoration-color: #008000\">specifying text search regular expression strings. Regular expression is used in every computer language. Regular </span>\n",
       "<span style=\"color: #008000; text-decoration-color: #008000\">expression is used in every word processor. Regular expression is used in text processing tools like the Unix tools</span>\n",
       "<span style=\"color: #008000; text-decoration-color: #008000\">grep or Emacs. Formally, a regular expression is an algebraic notation for characterizing a set of strings. Regular</span>\n",
       "<span style=\"color: #008000; text-decoration-color: #008000\">expressions are particularly useful for searching in texts. Regular expressions are used when there is a pattern to</span>\n",
       "<span style=\"color: #008000; text-decoration-color: #008000\">search for. Regular expressions are used when there is a corpus of texts to search through. A regular expression </span>\n",
       "<span style=\"color: #008000; text-decoration-color: #008000\">search function will search through the corpus. A regular expression search function returns all texts that match </span>\n",
       "<span style=\"color: #008000; text-decoration-color: #008000\">the pattern. The Unix command-line tool grep takes a regular expression. The Unix command-line tool grep returns </span>\n",
       "<span style=\"color: #008000; text-decoration-color: #008000\">every line of the input document that matches the expression. A search can be designed to return every match on a </span>\n",
       "<span style=\"color: #008000; text-decoration-color: #008000\">line if there are more than one. A search can be designed to return just the first match on a line. In the </span>\n",
       "<span style=\"color: #008000; text-decoration-color: #008000\">following examples, the exact part of the pattern that matches the regular expression is generally underlined. In </span>\n",
       "<span style=\"color: #008000; text-decoration-color: #008000\">the following examples, only the first match is shown. Regular expressions in the examples are delimited by </span>\n",
       "<span style=\"color: #008000; text-decoration-color: #008000\">slashes. Slashes are not part of the regular expressions. Regular expressions come in many variants. We will be </span>\n",
       "<span style=\"color: #008000; text-decoration-color: #008000\">describing extended regular expressions. Different regular expression parsers may only recognize subsets of </span>\n",
       "<span style=\"color: #008000; text-decoration-color: #008000\">extended regular expressions. Different regular expression parsers may treat some expressions slightly differently.</span>\n",
       "<span style=\"color: #008000; text-decoration-color: #008000\">Using an online regular expression tester is a handy way to test out your regular expressions. Using an online </span>\n",
       "<span style=\"color: #008000; text-decoration-color: #008000\">regular expression tester is a handy way to explore variations of regular expressions.'</span>,\n",
       "        <span style=\"color: #808000; text-decoration-color: #808000\">metadata</span>=<span style=\"font-weight: bold\">{</span><span style=\"color: #008000; text-decoration-color: #008000\">'source'</span>: <span style=\"color: #008000; text-decoration-color: #008000\">'local'</span><span style=\"font-weight: bold\">}</span>\n",
       "    <span style=\"font-weight: bold\">)</span>,\n",
       "    <span style=\"color: #800080; text-decoration-color: #800080; font-weight: bold\">Document</span><span style=\"font-weight: bold\">(</span>\n",
       "        <span style=\"color: #808000; text-decoration-color: #808000\">page_content</span>=<span style=\"color: #008000; text-decoration-color: #008000\">'The corpus can be a single document. The corpus can be a collection.'</span>,\n",
       "        <span style=\"color: #808000; text-decoration-color: #808000\">metadata</span>=<span style=\"font-weight: bold\">{</span><span style=\"color: #008000; text-decoration-color: #008000\">'source'</span>: <span style=\"color: #008000; text-decoration-color: #008000\">'local'</span><span style=\"font-weight: bold\">}</span>\n",
       "    <span style=\"font-weight: bold\">)</span>\n",
       "<span style=\"font-weight: bold\">]</span>\n",
       "</pre>\n"
      ],
      "text/plain": [
       "\u001b[1m[\u001b[0m\n",
       "    \u001b[1;35mDocument\u001b[0m\u001b[1m(\u001b[0m\n",
       "        \u001b[33mpage_content\u001b[0m=\u001b[32m'One of the unsung successes in standardization in computer science has been the regular \u001b[0m\n",
       "\u001b[32mexpression.'\u001b[0m,\n",
       "        \u001b[33mmetadata\u001b[0m=\u001b[1m{\u001b[0m\u001b[32m'source'\u001b[0m: \u001b[32m'local'\u001b[0m\u001b[1m}\u001b[0m\n",
       "    \u001b[1m)\u001b[0m,\n",
       "    \u001b[1;35mDocument\u001b[0m\u001b[1m(\u001b[0m\n",
       "        \u001b[33mpage_content\u001b[0m=\u001b[32m'Regular expression is often shortened to regex. Regular expression is a language for \u001b[0m\n",
       "\u001b[32mspecifying text search regular expression strings. Regular expression is used in every computer language. Regular \u001b[0m\n",
       "\u001b[32mexpression is used in every word processor. Regular expression is used in text processing tools like the Unix tools\u001b[0m\n",
       "\u001b[32mgrep or Emacs. Formally, a regular expression is an algebraic notation for characterizing a set of strings. Regular\u001b[0m\n",
       "\u001b[32mexpressions are particularly useful for searching in texts. Regular expressions are used when there is a pattern to\u001b[0m\n",
       "\u001b[32msearch for. Regular expressions are used when there is a corpus of texts to search through. A regular expression \u001b[0m\n",
       "\u001b[32msearch function will search through the corpus. A regular expression search function returns all texts that match \u001b[0m\n",
       "\u001b[32mthe pattern. The Unix command-line tool grep takes a regular expression. The Unix command-line tool grep returns \u001b[0m\n",
       "\u001b[32mevery line of the input document that matches the expression. A search can be designed to return every match on a \u001b[0m\n",
       "\u001b[32mline if there are more than one. A search can be designed to return just the first match on a line. In the \u001b[0m\n",
       "\u001b[32mfollowing examples, the exact part of the pattern that matches the regular expression is generally underlined. In \u001b[0m\n",
       "\u001b[32mthe following examples, only the first match is shown. Regular expressions in the examples are delimited by \u001b[0m\n",
       "\u001b[32mslashes. Slashes are not part of the regular expressions. Regular expressions come in many variants. We will be \u001b[0m\n",
       "\u001b[32mdescribing extended regular expressions. Different regular expression parsers may only recognize subsets of \u001b[0m\n",
       "\u001b[32mextended regular expressions. Different regular expression parsers may treat some expressions slightly differently.\u001b[0m\n",
       "\u001b[32mUsing an online regular expression tester is a handy way to test out your regular expressions. Using an online \u001b[0m\n",
       "\u001b[32mregular expression tester is a handy way to explore variations of regular expressions.'\u001b[0m,\n",
       "        \u001b[33mmetadata\u001b[0m=\u001b[1m{\u001b[0m\u001b[32m'source'\u001b[0m: \u001b[32m'local'\u001b[0m\u001b[1m}\u001b[0m\n",
       "    \u001b[1m)\u001b[0m,\n",
       "    \u001b[1;35mDocument\u001b[0m\u001b[1m(\u001b[0m\n",
       "        \u001b[33mpage_content\u001b[0m=\u001b[32m'The corpus can be a single document. The corpus can be a collection.'\u001b[0m,\n",
       "        \u001b[33mmetadata\u001b[0m=\u001b[1m{\u001b[0m\u001b[32m'source'\u001b[0m: \u001b[32m'local'\u001b[0m\u001b[1m}\u001b[0m\n",
       "    \u001b[1m)\u001b[0m\n",
       "\u001b[1m]\u001b[0m\n"
      ]
     },
     "metadata": {},
     "output_type": "display_data"
    }
   ],
   "source": [
    "# 5. Agentic Chunking\n",
    "print(\"#### Proposition-Based Chunking ####\")\n",
    "\n",
    "# Paper: https://arxiv.org/pdf/2312.06648.pdf\n",
    "\n",
    "from langchain.output_parsers.openai_tools import JsonOutputToolsParser\n",
    "from langchain_openai import ChatOpenAI\n",
    "from langchain_core.prompts import ChatPromptTemplate\n",
    "from langchain_core.runnables import RunnableLambda\n",
    "from langchain.chains import create_extraction_chain\n",
    "from typing import Optional, List\n",
    "from langchain.chains import create_extraction_chain_pydantic\n",
    "from langchain_core.pydantic_v1 import BaseModel\n",
    "from langchain import hub\n",
    "\n",
    "obj = hub.pull(\"wfh/proposal-indexing\")\n",
    "\n",
    "# define which llm to use for propositional chunking \n",
    "MODEL = \"gpt-4-0125-preview\"\n",
    "llm = ChatOpenAI(model=MODEL)\n",
    "\n",
    "runnable = obj | llm\n",
    "\n",
    "class Sentences(BaseModel):\n",
    "    sentences: List[str]\n",
    "\n",
    "# Extraction\n",
    "extraction_chain = create_extraction_chain_pydantic(pydantic_schema=Sentences, llm=llm)\n",
    "def get_propositions(text):\n",
    "    runnable_output = runnable.invoke({\n",
    "    \t\"input\": text\n",
    "    }).content\n",
    "    propositions = extraction_chain.invoke(runnable_output)[\"text\"][0].sentences\n",
    "    return propositions\n",
    "\n",
    "text = text.strip()\n",
    "paragraphs = text.split(\"\\n\\n\")\n",
    "\n",
    "print(paragraphs)\n",
    "\n",
    "text_propositions = []\n",
    "for i, para in enumerate(paragraphs):\n",
    "    propositions = get_propositions(para)\n",
    "    text_propositions.extend(propositions)\n",
    "    print (f\"Done with {i}\")\n",
    "\n",
    "print(text_propositions)\n",
    "print (f\"You have {len(text_propositions)} propositions\")\n",
    "\n",
    "print(\"#### Agentic Chunking ####\")\n",
    "\n",
    "from agenticchunker import AgenticChunker\n",
    "\n",
    "ac = AgenticChunker()\n",
    "ac.add_propositions(text_propositions)\n",
    "print(ac.pretty_print_chunks())\n",
    "chunks = ac.get_chunks(get_type='list_of_strings')\n",
    "print(chunks)\n",
    "\n",
    "documents = [Document(page_content=chunk, metadata={\"source\": \"local\"}) for chunk in chunks]\n",
    "\n",
    "print(documents)"
   ]
  },
  {
   "cell_type": "code",
   "execution_count": 12,
   "id": "b1f2eda8-3e55-4703-81db-524f400a1aa7",
   "metadata": {},
   "outputs": [],
   "source": [
    "MODEL = \"mistral\"\n",
    "TOP_P = 0.9\n",
    "TOP_K = 100\n",
    "MAX_TOKENS = 4096\n",
    "\n",
    "local_llm = ChatOllama(\n",
    "    model=MODEL,\n",
    "    num_ctx=MAX_TOKENS,\n",
    "    top_p=TOP_P,\n",
    "    top_k=TOP_K\n",
    ")\n",
    "\n",
    "# RAG\n",
    "def rag(chunks, collection_name):\n",
    "    vectorstore = Chroma.from_documents(\n",
    "        documents=documents,\n",
    "        collection_name=collection_name,\n",
    "        embedding=OpenAIEmbeddings(),\n",
    "    )\n",
    "    retriever = vectorstore.as_retriever()\n",
    "\n",
    "    print(retriever.get_relevant_documents(\"What are Regular Expressions? Give me some ways I can use regular expressions?\"))\n",
    "    exit(0)\n",
    "\n",
    "    prompt_template = \"\"\"Answer the question based only on the following context:\n",
    "    {context}\n",
    "    Question: {question}\n",
    "    \"\"\"\n",
    "    prompt = ChatPromptTemplate.from_template(prompt_template)\n",
    "\n",
    "    chain = (\n",
    "        {\"context\": retriever, \"question\": RunnablePassthrough()}\n",
    "        | prompt\n",
    "        | local_llm\n",
    "        | StrOutputParser()\n",
    "    )\n",
    "    result = chain.invoke(\"What are Regular Expressions? Give me some ways I can use regular expressions?\")\n",
    "    print(result)"
   ]
  },
  {
   "cell_type": "code",
   "execution_count": 13,
   "id": "95459033-ad72-4619-8f49-b25a7ddf9abb",
   "metadata": {},
   "outputs": [
    {
     "name": "stderr",
     "output_type": "stream",
     "text": [
      "Number of requested results 4 is greater than number of elements in index 3, updating n_results = 3\n"
     ]
    },
    {
     "data": {
      "text/html": [
       "<pre style=\"white-space:pre;overflow-x:auto;line-height:normal;font-family:Menlo,'DejaVu Sans Mono',consolas,'Courier New',monospace\"><span style=\"font-weight: bold\">[</span>\n",
       "    <span style=\"color: #800080; text-decoration-color: #800080; font-weight: bold\">Document</span><span style=\"font-weight: bold\">(</span>\n",
       "        <span style=\"color: #808000; text-decoration-color: #808000\">page_content</span>=<span style=\"color: #008000; text-decoration-color: #008000\">'Regular expression is often shortened to regex. Regular expression is a language for </span>\n",
       "<span style=\"color: #008000; text-decoration-color: #008000\">specifying text search regular expression strings. Regular expression is used in every computer language. Regular </span>\n",
       "<span style=\"color: #008000; text-decoration-color: #008000\">expression is used in every word processor. Regular expression is used in text processing tools like the Unix tools</span>\n",
       "<span style=\"color: #008000; text-decoration-color: #008000\">grep or Emacs. Formally, a regular expression is an algebraic notation for characterizing a set of strings. Regular</span>\n",
       "<span style=\"color: #008000; text-decoration-color: #008000\">expressions are particularly useful for searching in texts. Regular expressions are used when there is a pattern to</span>\n",
       "<span style=\"color: #008000; text-decoration-color: #008000\">search for. Regular expressions are used when there is a corpus of texts to search through. A regular expression </span>\n",
       "<span style=\"color: #008000; text-decoration-color: #008000\">search function will search through the corpus. A regular expression search function returns all texts that match </span>\n",
       "<span style=\"color: #008000; text-decoration-color: #008000\">the pattern. The Unix command-line tool grep takes a regular expression. The Unix command-line tool grep returns </span>\n",
       "<span style=\"color: #008000; text-decoration-color: #008000\">every line of the input document that matches the expression. A search can be designed to return every match on a </span>\n",
       "<span style=\"color: #008000; text-decoration-color: #008000\">line if there are more than one. A search can be designed to return just the first match on a line. In the </span>\n",
       "<span style=\"color: #008000; text-decoration-color: #008000\">following examples, the exact part of the pattern that matches the regular expression is generally underlined. In </span>\n",
       "<span style=\"color: #008000; text-decoration-color: #008000\">the following examples, only the first match is shown. Regular expressions in the examples are delimited by </span>\n",
       "<span style=\"color: #008000; text-decoration-color: #008000\">slashes. Slashes are not part of the regular expressions. Regular expressions come in many variants. We will be </span>\n",
       "<span style=\"color: #008000; text-decoration-color: #008000\">describing extended regular expressions. Different regular expression parsers may only recognize subsets of </span>\n",
       "<span style=\"color: #008000; text-decoration-color: #008000\">extended regular expressions. Different regular expression parsers may treat some expressions slightly differently.</span>\n",
       "<span style=\"color: #008000; text-decoration-color: #008000\">Using an online regular expression tester is a handy way to test out your regular expressions. Using an online </span>\n",
       "<span style=\"color: #008000; text-decoration-color: #008000\">regular expression tester is a handy way to explore variations of regular expressions.'</span>,\n",
       "        <span style=\"color: #808000; text-decoration-color: #808000\">metadata</span>=<span style=\"font-weight: bold\">{</span><span style=\"color: #008000; text-decoration-color: #008000\">'source'</span>: <span style=\"color: #008000; text-decoration-color: #008000\">'local'</span><span style=\"font-weight: bold\">}</span>\n",
       "    <span style=\"font-weight: bold\">)</span>,\n",
       "    <span style=\"color: #800080; text-decoration-color: #800080; font-weight: bold\">Document</span><span style=\"font-weight: bold\">(</span>\n",
       "        <span style=\"color: #808000; text-decoration-color: #808000\">page_content</span>=<span style=\"color: #008000; text-decoration-color: #008000\">'One of the unsung successes in standardization in computer science has been the regular </span>\n",
       "<span style=\"color: #008000; text-decoration-color: #008000\">expression.'</span>,\n",
       "        <span style=\"color: #808000; text-decoration-color: #808000\">metadata</span>=<span style=\"font-weight: bold\">{</span><span style=\"color: #008000; text-decoration-color: #008000\">'source'</span>: <span style=\"color: #008000; text-decoration-color: #008000\">'local'</span><span style=\"font-weight: bold\">}</span>\n",
       "    <span style=\"font-weight: bold\">)</span>,\n",
       "    <span style=\"color: #800080; text-decoration-color: #800080; font-weight: bold\">Document</span><span style=\"font-weight: bold\">(</span>\n",
       "        <span style=\"color: #808000; text-decoration-color: #808000\">page_content</span>=<span style=\"color: #008000; text-decoration-color: #008000\">'The corpus can be a single document. The corpus can be a collection.'</span>,\n",
       "        <span style=\"color: #808000; text-decoration-color: #808000\">metadata</span>=<span style=\"font-weight: bold\">{</span><span style=\"color: #008000; text-decoration-color: #008000\">'source'</span>: <span style=\"color: #008000; text-decoration-color: #008000\">'local'</span><span style=\"font-weight: bold\">}</span>\n",
       "    <span style=\"font-weight: bold\">)</span>\n",
       "<span style=\"font-weight: bold\">]</span>\n",
       "</pre>\n"
      ],
      "text/plain": [
       "\u001b[1m[\u001b[0m\n",
       "    \u001b[1;35mDocument\u001b[0m\u001b[1m(\u001b[0m\n",
       "        \u001b[33mpage_content\u001b[0m=\u001b[32m'Regular expression is often shortened to regex. Regular expression is a language for \u001b[0m\n",
       "\u001b[32mspecifying text search regular expression strings. Regular expression is used in every computer language. Regular \u001b[0m\n",
       "\u001b[32mexpression is used in every word processor. Regular expression is used in text processing tools like the Unix tools\u001b[0m\n",
       "\u001b[32mgrep or Emacs. Formally, a regular expression is an algebraic notation for characterizing a set of strings. Regular\u001b[0m\n",
       "\u001b[32mexpressions are particularly useful for searching in texts. Regular expressions are used when there is a pattern to\u001b[0m\n",
       "\u001b[32msearch for. Regular expressions are used when there is a corpus of texts to search through. A regular expression \u001b[0m\n",
       "\u001b[32msearch function will search through the corpus. A regular expression search function returns all texts that match \u001b[0m\n",
       "\u001b[32mthe pattern. The Unix command-line tool grep takes a regular expression. The Unix command-line tool grep returns \u001b[0m\n",
       "\u001b[32mevery line of the input document that matches the expression. A search can be designed to return every match on a \u001b[0m\n",
       "\u001b[32mline if there are more than one. A search can be designed to return just the first match on a line. In the \u001b[0m\n",
       "\u001b[32mfollowing examples, the exact part of the pattern that matches the regular expression is generally underlined. In \u001b[0m\n",
       "\u001b[32mthe following examples, only the first match is shown. Regular expressions in the examples are delimited by \u001b[0m\n",
       "\u001b[32mslashes. Slashes are not part of the regular expressions. Regular expressions come in many variants. We will be \u001b[0m\n",
       "\u001b[32mdescribing extended regular expressions. Different regular expression parsers may only recognize subsets of \u001b[0m\n",
       "\u001b[32mextended regular expressions. Different regular expression parsers may treat some expressions slightly differently.\u001b[0m\n",
       "\u001b[32mUsing an online regular expression tester is a handy way to test out your regular expressions. Using an online \u001b[0m\n",
       "\u001b[32mregular expression tester is a handy way to explore variations of regular expressions.'\u001b[0m,\n",
       "        \u001b[33mmetadata\u001b[0m=\u001b[1m{\u001b[0m\u001b[32m'source'\u001b[0m: \u001b[32m'local'\u001b[0m\u001b[1m}\u001b[0m\n",
       "    \u001b[1m)\u001b[0m,\n",
       "    \u001b[1;35mDocument\u001b[0m\u001b[1m(\u001b[0m\n",
       "        \u001b[33mpage_content\u001b[0m=\u001b[32m'One of the unsung successes in standardization in computer science has been the regular \u001b[0m\n",
       "\u001b[32mexpression.'\u001b[0m,\n",
       "        \u001b[33mmetadata\u001b[0m=\u001b[1m{\u001b[0m\u001b[32m'source'\u001b[0m: \u001b[32m'local'\u001b[0m\u001b[1m}\u001b[0m\n",
       "    \u001b[1m)\u001b[0m,\n",
       "    \u001b[1;35mDocument\u001b[0m\u001b[1m(\u001b[0m\n",
       "        \u001b[33mpage_content\u001b[0m=\u001b[32m'The corpus can be a single document. The corpus can be a collection.'\u001b[0m,\n",
       "        \u001b[33mmetadata\u001b[0m=\u001b[1m{\u001b[0m\u001b[32m'source'\u001b[0m: \u001b[32m'local'\u001b[0m\u001b[1m}\u001b[0m\n",
       "    \u001b[1m)\u001b[0m\n",
       "\u001b[1m]\u001b[0m\n"
      ]
     },
     "metadata": {},
     "output_type": "display_data"
    },
    {
     "name": "stderr",
     "output_type": "stream",
     "text": [
      "Number of requested results 4 is greater than number of elements in index 3, updating n_results = 3\n"
     ]
    },
    {
     "data": {
      "text/html": [
       "<pre style=\"white-space:pre;overflow-x:auto;line-height:normal;font-family:Menlo,'DejaVu Sans Mono',consolas,'Courier New',monospace\"> Regular expressions are a language for specifying text search patterns. They are used in various computer \n",
       "languages, word processors, and text processing tools like Unix's grep or Emacs. Regular expressions are useful \n",
       "when there is a pattern to search for in a corpus of texts. A regular expression search function will look through \n",
       "the corpus and return all texts that match the specified pattern. For example, the Unix command-line tool <span style=\"color: #008000; text-decoration-color: #008000\">\"grep\"</span> \n",
       "takes a regular expression as an argument and returns every line from the input document that matches the \n",
       "expression. Regular expressions can be used to find multiple matches on a single line or just the first match. They\n",
       "come in many variants, with extended regular expressions being one of them. Different parsers may recognize \n",
       "different subsets of extended regular expressions or treat some expressions slightly differently. An online regular\n",
       "expression tester is a handy tool for testing and exploring variations of regular expressions.\n",
       "</pre>\n"
      ],
      "text/plain": [
       " Regular expressions are a language for specifying text search patterns. They are used in various computer \n",
       "languages, word processors, and text processing tools like Unix's grep or Emacs. Regular expressions are useful \n",
       "when there is a pattern to search for in a corpus of texts. A regular expression search function will look through \n",
       "the corpus and return all texts that match the specified pattern. For example, the Unix command-line tool \u001b[32m\"grep\"\u001b[0m \n",
       "takes a regular expression as an argument and returns every line from the input document that matches the \n",
       "expression. Regular expressions can be used to find multiple matches on a single line or just the first match. They\n",
       "come in many variants, with extended regular expressions being one of them. Different parsers may recognize \n",
       "different subsets of extended regular expressions or treat some expressions slightly differently. An online regular\n",
       "expression tester is a handy tool for testing and exploring variations of regular expressions.\n"
      ]
     },
     "metadata": {},
     "output_type": "display_data"
    }
   ],
   "source": [
    "rag(documents, collection_name=\"test-x-3\")"
   ]
  },
  {
   "cell_type": "code",
   "execution_count": null,
   "id": "1203f211-9991-4dd7-b4e8-497484a8f0c8",
   "metadata": {},
   "outputs": [],
   "source": []
  }
 ],
 "metadata": {
  "kernelspec": {
   "display_name": "Python 3 (ipykernel)",
   "language": "python",
   "name": "python3"
  },
  "language_info": {
   "codemirror_mode": {
    "name": "ipython",
    "version": 3
   },
   "file_extension": ".py",
   "mimetype": "text/x-python",
   "name": "python",
   "nbconvert_exporter": "python",
   "pygments_lexer": "ipython3",
   "version": "3.12.2"
  }
 },
 "nbformat": 4,
 "nbformat_minor": 5
}
