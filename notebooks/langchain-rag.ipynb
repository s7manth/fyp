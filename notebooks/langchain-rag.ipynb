{
 "cells": [
  {
   "cell_type": "markdown",
   "id": "a5b413a1-d962-4a50-8ca2-cc84c8672850",
   "metadata": {},
   "source": [
    "### Progress \n",
    "\n",
    "The aim of the RAG pipeline is to control context in a better manner and improve performance. \n",
    "\n",
    "- Marker used to convert PDFs to Markdown files\n",
    "- These markdown files can now be tested over with different chunking strategies in order to retrieve the best possible document\n",
    "- Chunking Strategies\n",
    "- Langsmith\n",
    "- Different retrieval strategies\n",
    "- Answer different questions: How is RAG different from IR? Why care about RAG if the models are of ever increasing context windows in the first place?\n",
    "\n",
    "> Use this notebook to experiment with Langchain which seems to be very promising "
   ]
  },
  {
   "cell_type": "markdown",
   "id": "b573ba8c-3135-4c10-8914-5f13720edc44",
   "metadata": {},
   "source": [
    "### What all can I show now? \n",
    "- Zero shot prompting is a very good technique to get started with GPT4, which is considerably performant for many usecases\n",
    "- RAG approaches to improve context control in order to focus on specific topics to produce questions ((X))\n",
    "- Fine tuning an open source LLM to replicate good performance locally\n",
    "- Agenting approaches to generate questions\n",
    "- Use these generated questions to test out their difficulty by asking friends ((X))\n",
    "- LLM Feedback to improve learning using a chatbot model"
   ]
  },
  {
   "cell_type": "code",
   "execution_count": null,
   "id": "833c2740-9ee8-40cf-99a5-e300df2866cc",
   "metadata": {},
   "outputs": [],
   "source": []
  }
 ],
 "metadata": {
  "kernelspec": {
   "display_name": "Python 3 (ipykernel)",
   "language": "python",
   "name": "python3"
  },
  "language_info": {
   "codemirror_mode": {
    "name": "ipython",
    "version": 3
   },
   "file_extension": ".py",
   "mimetype": "text/x-python",
   "name": "python",
   "nbconvert_exporter": "python",
   "pygments_lexer": "ipython3",
   "version": "3.12.2"
  }
 },
 "nbformat": 4,
 "nbformat_minor": 5
}
